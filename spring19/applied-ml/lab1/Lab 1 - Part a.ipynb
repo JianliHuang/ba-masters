{
 "cells": [
  {
   "cell_type": "markdown",
   "metadata": {},
   "source": [
    "### Lab description\n",
    "In this lab we will explore adult.csv dataset. This lab will help you practice course materials. The focus of Lab 1 is data preparation and manipulation. You will answer a few questions about this lab in the form of a lab quiz. You will see your final grade and have unlimited attempt for this lab quiz. Answers will be posted immediately after due date.\n",
    "- import necessary external packages and prepare the environment\n",
    "- read the adult.csv file into a dataframe\n",
    "- Explore the dataset\n",
    "- Answer the following questions:\n",
    "\n",
    "### Lab Questions:\n",
    "1.\tWhat symbol is representing a missing value in this dataset? \n",
    "2.\tReplace all missing values with ``NaN``. Which columns have missing values? \n",
    "3.\tUse a group statement to find out the ratio of US employees with ``Salary <=50K`` to employees with ``Salary >50K``. (Note: country name is: ``' United-States'``. There is an extra space at the begining of the string.)\n"
   ]
  }
 ],
 "metadata": {
  "kernelspec": {
   "display_name": "Python 3",
   "language": "python",
   "name": "python3"
  },
  "language_info": {
   "codemirror_mode": {
    "name": "ipython",
    "version": 3
   },
   "file_extension": ".py",
   "mimetype": "text/x-python",
   "name": "python",
   "nbconvert_exporter": "python",
   "pygments_lexer": "ipython3",
   "version": "3.5.4"
  }
 },
 "nbformat": 4,
 "nbformat_minor": 2
}
