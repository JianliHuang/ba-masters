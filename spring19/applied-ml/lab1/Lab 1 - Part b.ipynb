{
 "cells": [
  {
   "cell_type": "markdown",
   "metadata": {},
   "source": [
    "### Lab description\n",
    "In this lab we will explore adult.csv dataset. This lab will help you practice course materials. The focus of Lab 1 is data preparation and manipulation. You will answer a few questions about this lab in the form of a lab quiz. You will see your final grade and have unlimited attempt for this lab quiz. Answers will be posted immediately after due date.\n",
    "\n",
    "- import necessary external packages and prepare the environment\n",
    "- read the auto.csv file into a dataframe\n",
    "- Explore the dataset\n",
    "- Answer the following questions:\n",
    "\n",
    "### Lab Questions:\n",
    "1. What symbol is representing a missing value in this dataset? \n",
    "2. Replace all missing values with ``NaN``. Which columns has missing values? \n",
    "3. Now groupby cars by cylinders. What is the average horsepower for 4 and 6 cylinders vehicles."
   ]
  }
 ],
 "metadata": {
  "kernelspec": {
   "display_name": "Python 3",
   "language": "python",
   "name": "python3"
  },
  "language_info": {
   "codemirror_mode": {
    "name": "ipython",
    "version": 3
   },
   "file_extension": ".py",
   "mimetype": "text/x-python",
   "name": "python",
   "nbconvert_exporter": "python",
   "pygments_lexer": "ipython3",
   "version": "3.5.4"
  }
 },
 "nbformat": 4,
 "nbformat_minor": 2
}
