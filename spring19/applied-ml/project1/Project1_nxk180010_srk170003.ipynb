{
 "cells": [
  {
   "cell_type": "markdown",
   "metadata": {},
   "source": [
    "# <font color='red'> Project 1\n",
    "\n",
    "### Project description:\n",
    "- Please read the Data Set Information section to learn about this dataset. \n",
    "- Data description is also provided for thi dataset.\n",
    "- Read data into Jupyter notebook, use pandas to import data into a data frame\n",
    "- Preprocess data: Explore data, check for missing data and apply data scaling. Justify the type of scaling used.\n",
    "\n",
    "### Regression Task:\n",
    "- Apply all the regression models you've learned so far. If your model has a scaling parameter(s) use Grid Search to find the best scaling parameter. Use plots and graphs to help you get a better glimpse of the results. \n",
    "- Then use cross validation to find average training and testing score. \n",
    "- Your submission should have at least the following regression models: KNN repressor, linear regression, Ridge, Lasso, polynomial regression, SVM both simple and with kernels. \n",
    "- Finally find the best regressor for this dataset and train your model on the entire dataset using the best parameters and predict buzz for the test_set.\n",
    "\n",
    "### Classification task:\n",
    "- Decide aboute a good evaluation strategy and justify your choice.\n",
    "- Find best parameters for following classification models: KNN classifcation, Logistic Regression, Linear Supprt Vector Machine, Kerenilzed Support Vector Machine, Decision Tree. \n",
    "- Which model gives the best results?\n",
    "\n",
    "### Deliverables:\n",
    "- Submit IPython notebook. Use markdown to provide an inline comments for this project.\n",
    "- Submit only one notebook. Before submitting, make sure everything runs as expected. To check that, restart the kernel (in the menubar, select Kernel > Restart) and then run all cells (in the menubar, select Cell > Run All).\n",
    "- Visualization encouraged. \n",
    "\n",
    "### Questions regarding project:\n",
    "- Post your queries related to project on discussion board on e-learning. There is high possibility that your classmate has also faced the same problem and knows the solution. This is an effort to encourage collaborative learning and also making all the information available to everyone. We will also answer queries there. We will not be answering any project related queries through mail.\n",
    "\n",
    "---\n",
    "### Data Set Information:\n",
    "This dataset is taken from a research explained here. \n",
    "\n",
    "The goal of the research is to help the auditors by building a classification model that can predict the fraudulent firm on the basis the present and historical risk factors. The information about the sectors and the counts of firms are listed respectively as Irrigation (114), Public Health (77), Buildings and Roads (82), Forest (70), Corporate (47), Animal Husbandry (95), Communication (1), Electrical (4), Land (5), Science and Technology (3), Tourism (1), Fisheries (41), Industries (37), Agriculture (200).\n",
    "\n",
    "There are two csv files to present data. Please merge these two datasets into one dataframe. All the steps should be done in Python. Please don't make any changes in csv files. Consider ``Audit_Risk`` as target columns for regression tasks, and ``Risk`` as the target column for classification tasks. \n",
    "\n",
    "### Attribute Information:\n",
    "Many risk factors are examined from various areas like past records of audit office, audit-paras, environmental conditions reports, firm reputation summary, on-going issues report, profit-value records, loss-value records, follow-up reports etc. After in-depth interview with the auditors, important risk factors are evaluated and their probability of existence is calculated from the present and past records.\n",
    "\n",
    "\n",
    "### Relevant Papers:\n",
    "Hooda, Nishtha, Seema Bawa, and Prashant Singh Rana. 'Fraudulent Firm Classification: A Case Study of an External Audit.' Applied Artificial Intelligence 32.1 (2018): 48-64."
   ]
  },
  {
   "cell_type": "markdown",
   "metadata": {},
   "source": [
    "# Data Munging"
   ]
  },
  {
   "cell_type": "code",
   "execution_count": 1,
   "metadata": {},
   "outputs": [],
   "source": [
    "import pandas as pd\n",
    "import numpy as np\n",
    "import warnings\n",
    "warnings.filterwarnings('ignore')\n",
    "# read in data files\n",
    "d1 = pd.read_csv('audit_risk.csv')\n",
    "d2 = pd.read_csv('trial.csv')"
   ]
  },
  {
   "cell_type": "code",
   "execution_count": 2,
   "metadata": {},
   "outputs": [
    {
     "name": "stdout",
     "output_type": "stream",
     "text": [
      "(776, 27) \n",
      " (776, 18) \n",
      "\n",
      "['Sector_score', 'LOCATION_ID', 'PARA_A', 'Score_A', 'Risk_A', 'PARA_B', 'Score_B', 'Risk_B', 'TOTAL', 'numbers', 'Score_B.1', 'Risk_C', 'Money_Value', 'Score_MV', 'Risk_D', 'District_Loss', 'PROB', 'RiSk_E', 'History', 'Prob', 'Risk_F', 'Score', 'Inherent_Risk', 'CONTROL_RISK', 'Detection_Risk', 'Audit_Risk', 'Risk'] \n",
      "\n",
      " ['Sector_score', 'LOCATION_ID', 'PARA_A', 'SCORE_A', 'PARA_B', 'SCORE_B', 'TOTAL', 'numbers', 'Marks', 'Money_Value', 'MONEY_Marks', 'District', 'Loss', 'LOSS_SCORE', 'History', 'History_score', 'Score', 'Risk']\n"
     ]
    }
   ],
   "source": [
    "# shape and column names for the data\n",
    "print(d1.shape,'\\n',d2.shape,'\\n')\n",
    "print(list(d1),'\\n\\n',list(d2))"
   ]
  },
  {
   "cell_type": "markdown",
   "metadata": {},
   "source": [
    "- Removing columns that are exactly the same or highly correlated\n",
    "- Removing common columns between two datasets"
   ]
  },
  {
   "cell_type": "code",
   "execution_count": 3,
   "metadata": {},
   "outputs": [
    {
     "name": "stdout",
     "output_type": "stream",
     "text": [
      "Sector_score:  776\n",
      "LOCATION_ID:  776\n",
      "PARA_A:  776\n",
      "Score_A:  0\n",
      "PARA_B:  776\n",
      "Score_B:  0\n",
      "TOTAL:  776\n",
      "numbers:  776\n",
      "Money_Value:  775\n",
      "History:  776\n",
      "Score:  776\n",
      "Risk:  595\n"
     ]
    }
   ],
   "source": [
    "print('Sector_score: ',sum(d1['Sector_score']==d2['Sector_score']))\n",
    "print('LOCATION_ID: ',sum(d1['LOCATION_ID']==d2['LOCATION_ID']))\n",
    "print('PARA_A: ',sum(d1['PARA_A']==d2['PARA_A']))\n",
    "print('Score_A: ',sum(d1['Score_A']==d2['SCORE_A']))\n",
    "print('PARA_B: ',sum(d1['PARA_B']==d2['PARA_B']))\n",
    "print('Score_B: ',sum(d1['Score_B']==d2['SCORE_B']))\n",
    "print('TOTAL: ',sum(d1['TOTAL']==d2['TOTAL']))\n",
    "print('numbers: ',sum(d1['numbers']==d2['numbers']))\n",
    "print('Money_Value: ',sum(d1['Money_Value']==d2['Money_Value']))\n",
    "print('History: ',sum(d1['History']==d2['History']))\n",
    "print('Score: ',sum(d1['Score']==d2['Score']))\n",
    "print('Risk: ',sum(d1['Risk']==d2['Risk']))"
   ]
  },
  {
   "cell_type": "code",
   "execution_count": 4,
   "metadata": {},
   "outputs": [
    {
     "data": {
      "text/plain": [
       "642    False\n",
       "Name: Money_Value, dtype: bool"
      ]
     },
     "execution_count": 4,
     "metadata": {},
     "output_type": "execute_result"
    }
   ],
   "source": [
    "x = (d1['Money_Value']==d2['Money_Value'])\n",
    "l = x[x==False]\n",
    "l"
   ]
  },
  {
   "cell_type": "code",
   "execution_count": 5,
   "metadata": {},
   "outputs": [
    {
     "name": "stdout",
     "output_type": "stream",
     "text": [
      "642   NaN\n",
      "Name: Money_Value, dtype: float64\n",
      "642   NaN\n",
      "Name: Money_Value, dtype: float64\n"
     ]
    }
   ],
   "source": [
    "print(d1['Money_Value'].loc[[642]])\n",
    "print(d2['Money_Value'].loc[[642]])"
   ]
  },
  {
   "cell_type": "code",
   "execution_count": 6,
   "metadata": {},
   "outputs": [],
   "source": [
    "d2 = d2.drop(['Sector_score','LOCATION_ID','PARA_A','PARA_B','TOTAL','numbers','Money_Value','History','Score'],axis=1)"
   ]
  },
  {
   "cell_type": "code",
   "execution_count": 7,
   "metadata": {},
   "outputs": [
    {
     "name": "stdout",
     "output_type": "stream",
     "text": [
      "['Sector_score', 'LOCATION_ID', 'PARA_A', 'Score_A', 'Risk_A', 'PARA_B', 'Score_B', 'Risk_B', 'TOTAL', 'numbers', 'Score_B.1', 'Risk_C', 'Money_Value', 'Score_MV', 'Risk_D', 'District_Loss', 'PROB', 'RiSk_E', 'History', 'Prob', 'Risk_F', 'Score', 'Inherent_Risk', 'CONTROL_RISK', 'Detection_Risk', 'Audit_Risk', 'Risk'] \n",
      "\n",
      "['SCORE_A', 'SCORE_B', 'Marks', 'MONEY_Marks', 'District', 'Loss', 'LOSS_SCORE', 'History_score', 'Risk']\n"
     ]
    }
   ],
   "source": [
    "print(list(d1),'\\n')\n",
    "print(list(d2))"
   ]
  },
  {
   "cell_type": "code",
   "execution_count": 8,
   "metadata": {},
   "outputs": [
    {
     "name": "stdout",
     "output_type": "stream",
     "text": [
      "Score_B:  523\n",
      "Score_B:  0\n"
     ]
    }
   ],
   "source": [
    "print('Score_B: ',sum(d1['Score_B']==d1['Score_B.1']))\n",
    "print('Score_B: ',sum(d2['SCORE_B']==d1['Score_B.1']))"
   ]
  },
  {
   "cell_type": "markdown",
   "metadata": {},
   "source": [
    "#### Assuming data integrity for audit_risk file to be higher than trial file and removing the following columns from trial based on that fact\n",
    "##### - Score_A, Score_B, Risk"
   ]
  },
  {
   "cell_type": "code",
   "execution_count": 9,
   "metadata": {},
   "outputs": [],
   "source": [
    "d2 = d2.drop(['SCORE_A','SCORE_B','Risk'],axis=1)"
   ]
  },
  {
   "cell_type": "code",
   "execution_count": 10,
   "metadata": {},
   "outputs": [
    {
     "data": {
      "text/plain": [
       "(776, 6)"
      ]
     },
     "execution_count": 10,
     "metadata": {},
     "output_type": "execute_result"
    }
   ],
   "source": [
    "d2.shape"
   ]
  },
  {
   "cell_type": "markdown",
   "metadata": {},
   "source": [
    "#### Combining the two datasets"
   ]
  },
  {
   "cell_type": "code",
   "execution_count": 11,
   "metadata": {},
   "outputs": [],
   "source": [
    "raw_data = pd.concat([d1,d2],axis=1)"
   ]
  },
  {
   "cell_type": "code",
   "execution_count": 12,
   "metadata": {},
   "outputs": [
    {
     "data": {
      "text/html": [
       "<div>\n",
       "<style scoped>\n",
       "    .dataframe tbody tr th:only-of-type {\n",
       "        vertical-align: middle;\n",
       "    }\n",
       "\n",
       "    .dataframe tbody tr th {\n",
       "        vertical-align: top;\n",
       "    }\n",
       "\n",
       "    .dataframe thead th {\n",
       "        text-align: right;\n",
       "    }\n",
       "</style>\n",
       "<table border=\"1\" class=\"dataframe\">\n",
       "  <thead>\n",
       "    <tr style=\"text-align: right;\">\n",
       "      <th></th>\n",
       "      <th>Sector_score</th>\n",
       "      <th>PARA_A</th>\n",
       "      <th>Score_A</th>\n",
       "      <th>Risk_A</th>\n",
       "      <th>PARA_B</th>\n",
       "      <th>Score_B</th>\n",
       "      <th>Risk_B</th>\n",
       "      <th>TOTAL</th>\n",
       "      <th>numbers</th>\n",
       "      <th>Score_B.1</th>\n",
       "      <th>...</th>\n",
       "      <th>CONTROL_RISK</th>\n",
       "      <th>Detection_Risk</th>\n",
       "      <th>Audit_Risk</th>\n",
       "      <th>Risk</th>\n",
       "      <th>Marks</th>\n",
       "      <th>MONEY_Marks</th>\n",
       "      <th>District</th>\n",
       "      <th>Loss</th>\n",
       "      <th>LOSS_SCORE</th>\n",
       "      <th>History_score</th>\n",
       "    </tr>\n",
       "  </thead>\n",
       "  <tbody>\n",
       "    <tr>\n",
       "      <th>count</th>\n",
       "      <td>776.000000</td>\n",
       "      <td>776.000000</td>\n",
       "      <td>776.000000</td>\n",
       "      <td>776.000000</td>\n",
       "      <td>776.000000</td>\n",
       "      <td>776.000000</td>\n",
       "      <td>776.000000</td>\n",
       "      <td>776.000000</td>\n",
       "      <td>776.000000</td>\n",
       "      <td>776.000000</td>\n",
       "      <td>...</td>\n",
       "      <td>776.000000</td>\n",
       "      <td>776.0</td>\n",
       "      <td>776.000000</td>\n",
       "      <td>776.000000</td>\n",
       "      <td>776.000000</td>\n",
       "      <td>776.000000</td>\n",
       "      <td>776.000000</td>\n",
       "      <td>776.000000</td>\n",
       "      <td>776.000000</td>\n",
       "      <td>776.000000</td>\n",
       "    </tr>\n",
       "    <tr>\n",
       "      <th>mean</th>\n",
       "      <td>20.184536</td>\n",
       "      <td>2.450194</td>\n",
       "      <td>0.351289</td>\n",
       "      <td>1.351029</td>\n",
       "      <td>10.799988</td>\n",
       "      <td>0.313144</td>\n",
       "      <td>6.334008</td>\n",
       "      <td>13.218481</td>\n",
       "      <td>5.067655</td>\n",
       "      <td>0.223711</td>\n",
       "      <td>...</td>\n",
       "      <td>0.572680</td>\n",
       "      <td>0.5</td>\n",
       "      <td>7.168158</td>\n",
       "      <td>0.393041</td>\n",
       "      <td>2.237113</td>\n",
       "      <td>2.909794</td>\n",
       "      <td>2.505155</td>\n",
       "      <td>0.029639</td>\n",
       "      <td>2.061856</td>\n",
       "      <td>2.167526</td>\n",
       "    </tr>\n",
       "    <tr>\n",
       "      <th>std</th>\n",
       "      <td>24.319017</td>\n",
       "      <td>5.678870</td>\n",
       "      <td>0.174055</td>\n",
       "      <td>3.440447</td>\n",
       "      <td>50.083624</td>\n",
       "      <td>0.169804</td>\n",
       "      <td>30.072845</td>\n",
       "      <td>51.312829</td>\n",
       "      <td>0.264449</td>\n",
       "      <td>0.080352</td>\n",
       "      <td>...</td>\n",
       "      <td>0.444581</td>\n",
       "      <td>0.0</td>\n",
       "      <td>38.667494</td>\n",
       "      <td>0.488741</td>\n",
       "      <td>0.803517</td>\n",
       "      <td>1.597452</td>\n",
       "      <td>1.228678</td>\n",
       "      <td>0.184280</td>\n",
       "      <td>0.375080</td>\n",
       "      <td>0.679869</td>\n",
       "    </tr>\n",
       "    <tr>\n",
       "      <th>min</th>\n",
       "      <td>1.850000</td>\n",
       "      <td>0.000000</td>\n",
       "      <td>0.200000</td>\n",
       "      <td>0.000000</td>\n",
       "      <td>0.000000</td>\n",
       "      <td>0.200000</td>\n",
       "      <td>0.000000</td>\n",
       "      <td>0.000000</td>\n",
       "      <td>5.000000</td>\n",
       "      <td>0.200000</td>\n",
       "      <td>...</td>\n",
       "      <td>0.400000</td>\n",
       "      <td>0.5</td>\n",
       "      <td>0.280000</td>\n",
       "      <td>0.000000</td>\n",
       "      <td>2.000000</td>\n",
       "      <td>2.000000</td>\n",
       "      <td>2.000000</td>\n",
       "      <td>0.000000</td>\n",
       "      <td>2.000000</td>\n",
       "      <td>2.000000</td>\n",
       "    </tr>\n",
       "    <tr>\n",
       "      <th>25%</th>\n",
       "      <td>2.370000</td>\n",
       "      <td>0.210000</td>\n",
       "      <td>0.200000</td>\n",
       "      <td>0.042000</td>\n",
       "      <td>0.000000</td>\n",
       "      <td>0.200000</td>\n",
       "      <td>0.000000</td>\n",
       "      <td>0.537500</td>\n",
       "      <td>5.000000</td>\n",
       "      <td>0.200000</td>\n",
       "      <td>...</td>\n",
       "      <td>0.400000</td>\n",
       "      <td>0.5</td>\n",
       "      <td>0.316700</td>\n",
       "      <td>0.000000</td>\n",
       "      <td>2.000000</td>\n",
       "      <td>2.000000</td>\n",
       "      <td>2.000000</td>\n",
       "      <td>0.000000</td>\n",
       "      <td>2.000000</td>\n",
       "      <td>2.000000</td>\n",
       "    </tr>\n",
       "    <tr>\n",
       "      <th>50%</th>\n",
       "      <td>3.890000</td>\n",
       "      <td>0.875000</td>\n",
       "      <td>0.200000</td>\n",
       "      <td>0.175000</td>\n",
       "      <td>0.405000</td>\n",
       "      <td>0.200000</td>\n",
       "      <td>0.081000</td>\n",
       "      <td>1.370000</td>\n",
       "      <td>5.000000</td>\n",
       "      <td>0.200000</td>\n",
       "      <td>...</td>\n",
       "      <td>0.400000</td>\n",
       "      <td>0.5</td>\n",
       "      <td>0.555600</td>\n",
       "      <td>0.000000</td>\n",
       "      <td>2.000000</td>\n",
       "      <td>2.000000</td>\n",
       "      <td>2.000000</td>\n",
       "      <td>0.000000</td>\n",
       "      <td>2.000000</td>\n",
       "      <td>2.000000</td>\n",
       "    </tr>\n",
       "    <tr>\n",
       "      <th>75%</th>\n",
       "      <td>55.570000</td>\n",
       "      <td>2.480000</td>\n",
       "      <td>0.600000</td>\n",
       "      <td>1.488000</td>\n",
       "      <td>4.160000</td>\n",
       "      <td>0.400000</td>\n",
       "      <td>1.840500</td>\n",
       "      <td>7.707500</td>\n",
       "      <td>5.000000</td>\n",
       "      <td>0.200000</td>\n",
       "      <td>...</td>\n",
       "      <td>0.400000</td>\n",
       "      <td>0.5</td>\n",
       "      <td>3.249900</td>\n",
       "      <td>1.000000</td>\n",
       "      <td>2.000000</td>\n",
       "      <td>4.000000</td>\n",
       "      <td>2.000000</td>\n",
       "      <td>0.000000</td>\n",
       "      <td>2.000000</td>\n",
       "      <td>2.000000</td>\n",
       "    </tr>\n",
       "    <tr>\n",
       "      <th>max</th>\n",
       "      <td>59.850000</td>\n",
       "      <td>85.000000</td>\n",
       "      <td>0.600000</td>\n",
       "      <td>51.000000</td>\n",
       "      <td>1264.630000</td>\n",
       "      <td>0.600000</td>\n",
       "      <td>758.778000</td>\n",
       "      <td>1268.910000</td>\n",
       "      <td>9.000000</td>\n",
       "      <td>0.600000</td>\n",
       "      <td>...</td>\n",
       "      <td>5.800000</td>\n",
       "      <td>0.5</td>\n",
       "      <td>961.514400</td>\n",
       "      <td>1.000000</td>\n",
       "      <td>6.000000</td>\n",
       "      <td>6.000000</td>\n",
       "      <td>6.000000</td>\n",
       "      <td>2.000000</td>\n",
       "      <td>6.000000</td>\n",
       "      <td>6.000000</td>\n",
       "    </tr>\n",
       "  </tbody>\n",
       "</table>\n",
       "<p>8 rows × 32 columns</p>\n",
       "</div>"
      ],
      "text/plain": [
       "       Sector_score      PARA_A     Score_A      Risk_A       PARA_B  \\\n",
       "count    776.000000  776.000000  776.000000  776.000000   776.000000   \n",
       "mean      20.184536    2.450194    0.351289    1.351029    10.799988   \n",
       "std       24.319017    5.678870    0.174055    3.440447    50.083624   \n",
       "min        1.850000    0.000000    0.200000    0.000000     0.000000   \n",
       "25%        2.370000    0.210000    0.200000    0.042000     0.000000   \n",
       "50%        3.890000    0.875000    0.200000    0.175000     0.405000   \n",
       "75%       55.570000    2.480000    0.600000    1.488000     4.160000   \n",
       "max       59.850000   85.000000    0.600000   51.000000  1264.630000   \n",
       "\n",
       "          Score_B      Risk_B        TOTAL     numbers   Score_B.1  ...  \\\n",
       "count  776.000000  776.000000   776.000000  776.000000  776.000000  ...   \n",
       "mean     0.313144    6.334008    13.218481    5.067655    0.223711  ...   \n",
       "std      0.169804   30.072845    51.312829    0.264449    0.080352  ...   \n",
       "min      0.200000    0.000000     0.000000    5.000000    0.200000  ...   \n",
       "25%      0.200000    0.000000     0.537500    5.000000    0.200000  ...   \n",
       "50%      0.200000    0.081000     1.370000    5.000000    0.200000  ...   \n",
       "75%      0.400000    1.840500     7.707500    5.000000    0.200000  ...   \n",
       "max      0.600000  758.778000  1268.910000    9.000000    0.600000  ...   \n",
       "\n",
       "       CONTROL_RISK  Detection_Risk  Audit_Risk        Risk       Marks  \\\n",
       "count    776.000000           776.0  776.000000  776.000000  776.000000   \n",
       "mean       0.572680             0.5    7.168158    0.393041    2.237113   \n",
       "std        0.444581             0.0   38.667494    0.488741    0.803517   \n",
       "min        0.400000             0.5    0.280000    0.000000    2.000000   \n",
       "25%        0.400000             0.5    0.316700    0.000000    2.000000   \n",
       "50%        0.400000             0.5    0.555600    0.000000    2.000000   \n",
       "75%        0.400000             0.5    3.249900    1.000000    2.000000   \n",
       "max        5.800000             0.5  961.514400    1.000000    6.000000   \n",
       "\n",
       "       MONEY_Marks    District        Loss  LOSS_SCORE  History_score  \n",
       "count   776.000000  776.000000  776.000000  776.000000     776.000000  \n",
       "mean      2.909794    2.505155    0.029639    2.061856       2.167526  \n",
       "std       1.597452    1.228678    0.184280    0.375080       0.679869  \n",
       "min       2.000000    2.000000    0.000000    2.000000       2.000000  \n",
       "25%       2.000000    2.000000    0.000000    2.000000       2.000000  \n",
       "50%       2.000000    2.000000    0.000000    2.000000       2.000000  \n",
       "75%       4.000000    2.000000    0.000000    2.000000       2.000000  \n",
       "max       6.000000    6.000000    2.000000    6.000000       6.000000  \n",
       "\n",
       "[8 rows x 32 columns]"
      ]
     },
     "execution_count": 12,
     "metadata": {},
     "output_type": "execute_result"
    }
   ],
   "source": [
    "raw_data.describe()"
   ]
  },
  {
   "cell_type": "markdown",
   "metadata": {},
   "source": [
    "#### Finding and removing rows with NA NaN values"
   ]
  },
  {
   "cell_type": "code",
   "execution_count": 13,
   "metadata": {},
   "outputs": [
    {
     "data": {
      "text/plain": [
       "True"
      ]
     },
     "execution_count": 13,
     "metadata": {},
     "output_type": "execute_result"
    }
   ],
   "source": [
    "raw_data.isnull().values.any()"
   ]
  },
  {
   "cell_type": "code",
   "execution_count": 14,
   "metadata": {},
   "outputs": [
    {
     "data": {
      "text/plain": [
       "(array([12], dtype=int64),)"
      ]
     },
     "execution_count": 14,
     "metadata": {},
     "output_type": "execute_result"
    }
   ],
   "source": [
    "a = np.array(raw_data.isnull().sum())\n",
    "np.where(a > 0)"
   ]
  },
  {
   "cell_type": "code",
   "execution_count": 15,
   "metadata": {},
   "outputs": [
    {
     "data": {
      "text/plain": [
       "count    775.000000\n",
       "mean      14.137631\n",
       "std       66.606519\n",
       "min        0.000000\n",
       "25%        0.000000\n",
       "50%        0.090000\n",
       "75%        5.595000\n",
       "max      935.030000\n",
       "Name: Money_Value, dtype: float64"
      ]
     },
     "execution_count": 15,
     "metadata": {},
     "output_type": "execute_result"
    }
   ],
   "source": [
    "raw_data[raw_data.columns[12]].describe(include='all')"
   ]
  },
  {
   "cell_type": "code",
   "execution_count": 16,
   "metadata": {},
   "outputs": [],
   "source": [
    "raw_data = raw_data.dropna()"
   ]
  },
  {
   "cell_type": "code",
   "execution_count": 17,
   "metadata": {},
   "outputs": [
    {
     "data": {
      "text/plain": [
       "(775, 33)"
      ]
     },
     "execution_count": 17,
     "metadata": {},
     "output_type": "execute_result"
    }
   ],
   "source": [
    "raw_data.shape"
   ]
  },
  {
   "cell_type": "code",
   "execution_count": 18,
   "metadata": {},
   "outputs": [
    {
     "data": {
      "text/html": [
       "<div>\n",
       "<style scoped>\n",
       "    .dataframe tbody tr th:only-of-type {\n",
       "        vertical-align: middle;\n",
       "    }\n",
       "\n",
       "    .dataframe tbody tr th {\n",
       "        vertical-align: top;\n",
       "    }\n",
       "\n",
       "    .dataframe thead th {\n",
       "        text-align: right;\n",
       "    }\n",
       "</style>\n",
       "<table border=\"1\" class=\"dataframe\">\n",
       "  <thead>\n",
       "    <tr style=\"text-align: right;\">\n",
       "      <th></th>\n",
       "      <th>Sector_score</th>\n",
       "      <th>LOCATION_ID</th>\n",
       "      <th>PARA_A</th>\n",
       "      <th>Score_A</th>\n",
       "      <th>Risk_A</th>\n",
       "      <th>PARA_B</th>\n",
       "      <th>Score_B</th>\n",
       "      <th>Risk_B</th>\n",
       "      <th>TOTAL</th>\n",
       "      <th>numbers</th>\n",
       "      <th>...</th>\n",
       "      <th>CONTROL_RISK</th>\n",
       "      <th>Detection_Risk</th>\n",
       "      <th>Audit_Risk</th>\n",
       "      <th>Risk</th>\n",
       "      <th>Marks</th>\n",
       "      <th>MONEY_Marks</th>\n",
       "      <th>District</th>\n",
       "      <th>Loss</th>\n",
       "      <th>LOSS_SCORE</th>\n",
       "      <th>History_score</th>\n",
       "    </tr>\n",
       "  </thead>\n",
       "  <tbody>\n",
       "    <tr>\n",
       "      <th>351</th>\n",
       "      <td>1.99</td>\n",
       "      <td>LOHARU</td>\n",
       "      <td>0.30</td>\n",
       "      <td>0.2</td>\n",
       "      <td>0.060</td>\n",
       "      <td>0.0</td>\n",
       "      <td>0.2</td>\n",
       "      <td>0.0</td>\n",
       "      <td>0.30</td>\n",
       "      <td>5.0</td>\n",
       "      <td>...</td>\n",
       "      <td>0.4</td>\n",
       "      <td>0.5</td>\n",
       "      <td>0.2920</td>\n",
       "      <td>0</td>\n",
       "      <td>2</td>\n",
       "      <td>2</td>\n",
       "      <td>2</td>\n",
       "      <td>0</td>\n",
       "      <td>2</td>\n",
       "      <td>2</td>\n",
       "    </tr>\n",
       "    <tr>\n",
       "      <th>355</th>\n",
       "      <td>1.99</td>\n",
       "      <td>NUH</td>\n",
       "      <td>0.55</td>\n",
       "      <td>0.2</td>\n",
       "      <td>0.110</td>\n",
       "      <td>0.0</td>\n",
       "      <td>0.2</td>\n",
       "      <td>0.0</td>\n",
       "      <td>0.55</td>\n",
       "      <td>5.0</td>\n",
       "      <td>...</td>\n",
       "      <td>0.4</td>\n",
       "      <td>0.5</td>\n",
       "      <td>0.3288</td>\n",
       "      <td>0</td>\n",
       "      <td>2</td>\n",
       "      <td>2</td>\n",
       "      <td>2</td>\n",
       "      <td>0</td>\n",
       "      <td>2</td>\n",
       "      <td>2</td>\n",
       "    </tr>\n",
       "    <tr>\n",
       "      <th>367</th>\n",
       "      <td>1.99</td>\n",
       "      <td>SAFIDON</td>\n",
       "      <td>0.48</td>\n",
       "      <td>0.2</td>\n",
       "      <td>0.096</td>\n",
       "      <td>0.0</td>\n",
       "      <td>0.2</td>\n",
       "      <td>0.0</td>\n",
       "      <td>0.48</td>\n",
       "      <td>5.0</td>\n",
       "      <td>...</td>\n",
       "      <td>0.4</td>\n",
       "      <td>0.5</td>\n",
       "      <td>0.3180</td>\n",
       "      <td>0</td>\n",
       "      <td>2</td>\n",
       "      <td>2</td>\n",
       "      <td>2</td>\n",
       "      <td>0</td>\n",
       "      <td>2</td>\n",
       "      <td>2</td>\n",
       "    </tr>\n",
       "  </tbody>\n",
       "</table>\n",
       "<p>3 rows × 33 columns</p>\n",
       "</div>"
      ],
      "text/plain": [
       "     Sector_score LOCATION_ID  PARA_A  Score_A  Risk_A  PARA_B  Score_B  \\\n",
       "351          1.99      LOHARU    0.30      0.2   0.060     0.0      0.2   \n",
       "355          1.99         NUH    0.55      0.2   0.110     0.0      0.2   \n",
       "367          1.99     SAFIDON    0.48      0.2   0.096     0.0      0.2   \n",
       "\n",
       "     Risk_B  TOTAL  numbers  ...  CONTROL_RISK  Detection_Risk  Audit_Risk  \\\n",
       "351     0.0   0.30      5.0  ...           0.4             0.5      0.2920   \n",
       "355     0.0   0.55      5.0  ...           0.4             0.5      0.3288   \n",
       "367     0.0   0.48      5.0  ...           0.4             0.5      0.3180   \n",
       "\n",
       "     Risk  Marks  MONEY_Marks  District  Loss  LOSS_SCORE  History_score  \n",
       "351     0      2            2         2     0           2              2  \n",
       "355     0      2            2         2     0           2              2  \n",
       "367     0      2            2         2     0           2              2  \n",
       "\n",
       "[3 rows x 33 columns]"
      ]
     },
     "execution_count": 18,
     "metadata": {},
     "output_type": "execute_result"
    }
   ],
   "source": [
    "raw_data[pd.to_numeric(raw_data['LOCATION_ID'], errors='coerce').isnull()]"
   ]
  },
  {
   "cell_type": "code",
   "execution_count": 19,
   "metadata": {},
   "outputs": [],
   "source": [
    "location = raw_data.LOCATION_ID.unique()"
   ]
  },
  {
   "cell_type": "code",
   "execution_count": 20,
   "metadata": {},
   "outputs": [
    {
     "data": {
      "text/plain": [
       "array(['23', '6', '7', '8', '13', '37', '24', '3', '4', '14', '5', '20',\n",
       "       '19', '21', '22', '9', '11', '12', '29', '30', '38', '31', '2',\n",
       "       '32', '16', '33', '15', '36', '34', '18', '25', '39', '27', '35',\n",
       "       '40', '41', '42', '1', '28', 'LOHARU', 'NUH', 'SAFIDON', '43',\n",
       "       '44', '17'], dtype=object)"
      ]
     },
     "execution_count": 20,
     "metadata": {},
     "output_type": "execute_result"
    }
   ],
   "source": [
    "location"
   ]
  },
  {
   "cell_type": "markdown",
   "metadata": {},
   "source": [
    "#### Replacing non-numeric location values with missing numeric factors"
   ]
  },
  {
   "cell_type": "code",
   "execution_count": 21,
   "metadata": {},
   "outputs": [
    {
     "data": {
      "text/plain": [
       "array([ 1,  2,  3,  4,  5,  6,  7,  8,  9, 11, 12, 13, 14, 15, 16, 17, 18,\n",
       "       19, 20, 21, 22, 23, 24, 25, 27, 28, 29, 30, 31, 32, 33, 34, 35, 36,\n",
       "       37, 38, 39, 40, 41, 42, 43, 44])"
      ]
     },
     "execution_count": 21,
     "metadata": {},
     "output_type": "execute_result"
    }
   ],
   "source": [
    "numb= np.array(['1', '11', '12', '13', '14', '15', '16', '17', '18', '19', '2',\n",
    "       '20', '21', '22', '23', '24', '25', '27', '28', '29', '3', '30',\n",
    "       '31', '32', '33', '34', '35', '36', '37', '38', '39', '4', '40',\n",
    "       '41', '42', '43', '44', '5', '6', '7', '8', '9'])\n",
    "numb = numb.astype(int)\n",
    "numb.sort()\n",
    "numb"
   ]
  },
  {
   "cell_type": "markdown",
   "metadata": {},
   "source": [
    "##### 10,26,45 are missing"
   ]
  },
  {
   "cell_type": "code",
   "execution_count": 22,
   "metadata": {},
   "outputs": [],
   "source": [
    "raw_data.loc[raw_data.LOCATION_ID == 'LOHARU', 'LOCATION_ID'] = 10\n",
    "raw_data.loc[raw_data.LOCATION_ID == 'NUH', 'LOCATION_ID'] = 26\n",
    "raw_data.loc[raw_data.LOCATION_ID == 'SAFIDON', 'LOCATION_ID'] = 45"
   ]
  },
  {
   "cell_type": "code",
   "execution_count": 23,
   "metadata": {},
   "outputs": [
    {
     "data": {
      "text/html": [
       "<div>\n",
       "<style scoped>\n",
       "    .dataframe tbody tr th:only-of-type {\n",
       "        vertical-align: middle;\n",
       "    }\n",
       "\n",
       "    .dataframe tbody tr th {\n",
       "        vertical-align: top;\n",
       "    }\n",
       "\n",
       "    .dataframe thead th {\n",
       "        text-align: right;\n",
       "    }\n",
       "</style>\n",
       "<table border=\"1\" class=\"dataframe\">\n",
       "  <thead>\n",
       "    <tr style=\"text-align: right;\">\n",
       "      <th></th>\n",
       "      <th>Sector_score</th>\n",
       "      <th>PARA_A</th>\n",
       "      <th>Score_A</th>\n",
       "      <th>Risk_A</th>\n",
       "      <th>PARA_B</th>\n",
       "      <th>Score_B</th>\n",
       "      <th>Risk_B</th>\n",
       "      <th>TOTAL</th>\n",
       "      <th>numbers</th>\n",
       "      <th>Score_B.1</th>\n",
       "      <th>...</th>\n",
       "      <th>CONTROL_RISK</th>\n",
       "      <th>Detection_Risk</th>\n",
       "      <th>Audit_Risk</th>\n",
       "      <th>Risk</th>\n",
       "      <th>Marks</th>\n",
       "      <th>MONEY_Marks</th>\n",
       "      <th>District</th>\n",
       "      <th>Loss</th>\n",
       "      <th>LOSS_SCORE</th>\n",
       "      <th>History_score</th>\n",
       "    </tr>\n",
       "  </thead>\n",
       "  <tbody>\n",
       "    <tr>\n",
       "      <th>count</th>\n",
       "      <td>775.000000</td>\n",
       "      <td>775.000000</td>\n",
       "      <td>775.000000</td>\n",
       "      <td>775.000000</td>\n",
       "      <td>775.000000</td>\n",
       "      <td>775.000000</td>\n",
       "      <td>775.000000</td>\n",
       "      <td>775.000000</td>\n",
       "      <td>775.000000</td>\n",
       "      <td>775.000000</td>\n",
       "      <td>...</td>\n",
       "      <td>775.000000</td>\n",
       "      <td>775.0</td>\n",
       "      <td>775.000000</td>\n",
       "      <td>775.000000</td>\n",
       "      <td>775.000000</td>\n",
       "      <td>775.000000</td>\n",
       "      <td>775.000000</td>\n",
       "      <td>775.000000</td>\n",
       "      <td>775.000000</td>\n",
       "      <td>775.000000</td>\n",
       "    </tr>\n",
       "    <tr>\n",
       "      <th>mean</th>\n",
       "      <td>20.138877</td>\n",
       "      <td>2.453059</td>\n",
       "      <td>0.351484</td>\n",
       "      <td>1.352712</td>\n",
       "      <td>10.813924</td>\n",
       "      <td>0.313290</td>\n",
       "      <td>6.342181</td>\n",
       "      <td>13.235241</td>\n",
       "      <td>5.067742</td>\n",
       "      <td>0.223742</td>\n",
       "      <td>...</td>\n",
       "      <td>0.572903</td>\n",
       "      <td>0.5</td>\n",
       "      <td>7.177034</td>\n",
       "      <td>0.393548</td>\n",
       "      <td>2.237419</td>\n",
       "      <td>2.910968</td>\n",
       "      <td>2.505806</td>\n",
       "      <td>0.029677</td>\n",
       "      <td>2.061935</td>\n",
       "      <td>2.167742</td>\n",
       "    </tr>\n",
       "    <tr>\n",
       "      <th>std</th>\n",
       "      <td>24.301417</td>\n",
       "      <td>5.681977</td>\n",
       "      <td>0.174082</td>\n",
       "      <td>3.442348</td>\n",
       "      <td>50.114461</td>\n",
       "      <td>0.169865</td>\n",
       "      <td>30.091403</td>\n",
       "      <td>51.343841</td>\n",
       "      <td>0.264608</td>\n",
       "      <td>0.080399</td>\n",
       "      <td>...</td>\n",
       "      <td>0.444825</td>\n",
       "      <td>0.0</td>\n",
       "      <td>38.691674</td>\n",
       "      <td>0.488852</td>\n",
       "      <td>0.803991</td>\n",
       "      <td>1.598148</td>\n",
       "      <td>1.229338</td>\n",
       "      <td>0.184396</td>\n",
       "      <td>0.375316</td>\n",
       "      <td>0.680281</td>\n",
       "    </tr>\n",
       "    <tr>\n",
       "      <th>min</th>\n",
       "      <td>1.850000</td>\n",
       "      <td>0.000000</td>\n",
       "      <td>0.200000</td>\n",
       "      <td>0.000000</td>\n",
       "      <td>0.000000</td>\n",
       "      <td>0.200000</td>\n",
       "      <td>0.000000</td>\n",
       "      <td>0.000000</td>\n",
       "      <td>5.000000</td>\n",
       "      <td>0.200000</td>\n",
       "      <td>...</td>\n",
       "      <td>0.400000</td>\n",
       "      <td>0.5</td>\n",
       "      <td>0.280000</td>\n",
       "      <td>0.000000</td>\n",
       "      <td>2.000000</td>\n",
       "      <td>2.000000</td>\n",
       "      <td>2.000000</td>\n",
       "      <td>0.000000</td>\n",
       "      <td>2.000000</td>\n",
       "      <td>2.000000</td>\n",
       "    </tr>\n",
       "    <tr>\n",
       "      <th>25%</th>\n",
       "      <td>2.370000</td>\n",
       "      <td>0.210000</td>\n",
       "      <td>0.200000</td>\n",
       "      <td>0.042000</td>\n",
       "      <td>0.000000</td>\n",
       "      <td>0.200000</td>\n",
       "      <td>0.000000</td>\n",
       "      <td>0.540000</td>\n",
       "      <td>5.000000</td>\n",
       "      <td>0.200000</td>\n",
       "      <td>...</td>\n",
       "      <td>0.400000</td>\n",
       "      <td>0.5</td>\n",
       "      <td>0.316800</td>\n",
       "      <td>0.000000</td>\n",
       "      <td>2.000000</td>\n",
       "      <td>2.000000</td>\n",
       "      <td>2.000000</td>\n",
       "      <td>0.000000</td>\n",
       "      <td>2.000000</td>\n",
       "      <td>2.000000</td>\n",
       "    </tr>\n",
       "    <tr>\n",
       "      <th>50%</th>\n",
       "      <td>3.890000</td>\n",
       "      <td>0.880000</td>\n",
       "      <td>0.200000</td>\n",
       "      <td>0.176000</td>\n",
       "      <td>0.410000</td>\n",
       "      <td>0.200000</td>\n",
       "      <td>0.082000</td>\n",
       "      <td>1.370000</td>\n",
       "      <td>5.000000</td>\n",
       "      <td>0.200000</td>\n",
       "      <td>...</td>\n",
       "      <td>0.400000</td>\n",
       "      <td>0.5</td>\n",
       "      <td>0.556000</td>\n",
       "      <td>0.000000</td>\n",
       "      <td>2.000000</td>\n",
       "      <td>2.000000</td>\n",
       "      <td>2.000000</td>\n",
       "      <td>0.000000</td>\n",
       "      <td>2.000000</td>\n",
       "      <td>2.000000</td>\n",
       "    </tr>\n",
       "    <tr>\n",
       "      <th>75%</th>\n",
       "      <td>55.570000</td>\n",
       "      <td>2.480000</td>\n",
       "      <td>0.600000</td>\n",
       "      <td>1.488000</td>\n",
       "      <td>4.160000</td>\n",
       "      <td>0.400000</td>\n",
       "      <td>1.887000</td>\n",
       "      <td>7.725000</td>\n",
       "      <td>5.000000</td>\n",
       "      <td>0.200000</td>\n",
       "      <td>...</td>\n",
       "      <td>0.400000</td>\n",
       "      <td>0.5</td>\n",
       "      <td>3.252600</td>\n",
       "      <td>1.000000</td>\n",
       "      <td>2.000000</td>\n",
       "      <td>4.000000</td>\n",
       "      <td>2.000000</td>\n",
       "      <td>0.000000</td>\n",
       "      <td>2.000000</td>\n",
       "      <td>2.000000</td>\n",
       "    </tr>\n",
       "    <tr>\n",
       "      <th>max</th>\n",
       "      <td>59.850000</td>\n",
       "      <td>85.000000</td>\n",
       "      <td>0.600000</td>\n",
       "      <td>51.000000</td>\n",
       "      <td>1264.630000</td>\n",
       "      <td>0.600000</td>\n",
       "      <td>758.778000</td>\n",
       "      <td>1268.910000</td>\n",
       "      <td>9.000000</td>\n",
       "      <td>0.600000</td>\n",
       "      <td>...</td>\n",
       "      <td>5.800000</td>\n",
       "      <td>0.5</td>\n",
       "      <td>961.514400</td>\n",
       "      <td>1.000000</td>\n",
       "      <td>6.000000</td>\n",
       "      <td>6.000000</td>\n",
       "      <td>6.000000</td>\n",
       "      <td>2.000000</td>\n",
       "      <td>6.000000</td>\n",
       "      <td>6.000000</td>\n",
       "    </tr>\n",
       "  </tbody>\n",
       "</table>\n",
       "<p>8 rows × 32 columns</p>\n",
       "</div>"
      ],
      "text/plain": [
       "       Sector_score      PARA_A     Score_A      Risk_A       PARA_B  \\\n",
       "count    775.000000  775.000000  775.000000  775.000000   775.000000   \n",
       "mean      20.138877    2.453059    0.351484    1.352712    10.813924   \n",
       "std       24.301417    5.681977    0.174082    3.442348    50.114461   \n",
       "min        1.850000    0.000000    0.200000    0.000000     0.000000   \n",
       "25%        2.370000    0.210000    0.200000    0.042000     0.000000   \n",
       "50%        3.890000    0.880000    0.200000    0.176000     0.410000   \n",
       "75%       55.570000    2.480000    0.600000    1.488000     4.160000   \n",
       "max       59.850000   85.000000    0.600000   51.000000  1264.630000   \n",
       "\n",
       "          Score_B      Risk_B        TOTAL     numbers   Score_B.1  ...  \\\n",
       "count  775.000000  775.000000   775.000000  775.000000  775.000000  ...   \n",
       "mean     0.313290    6.342181    13.235241    5.067742    0.223742  ...   \n",
       "std      0.169865   30.091403    51.343841    0.264608    0.080399  ...   \n",
       "min      0.200000    0.000000     0.000000    5.000000    0.200000  ...   \n",
       "25%      0.200000    0.000000     0.540000    5.000000    0.200000  ...   \n",
       "50%      0.200000    0.082000     1.370000    5.000000    0.200000  ...   \n",
       "75%      0.400000    1.887000     7.725000    5.000000    0.200000  ...   \n",
       "max      0.600000  758.778000  1268.910000    9.000000    0.600000  ...   \n",
       "\n",
       "       CONTROL_RISK  Detection_Risk  Audit_Risk        Risk       Marks  \\\n",
       "count    775.000000           775.0  775.000000  775.000000  775.000000   \n",
       "mean       0.572903             0.5    7.177034    0.393548    2.237419   \n",
       "std        0.444825             0.0   38.691674    0.488852    0.803991   \n",
       "min        0.400000             0.5    0.280000    0.000000    2.000000   \n",
       "25%        0.400000             0.5    0.316800    0.000000    2.000000   \n",
       "50%        0.400000             0.5    0.556000    0.000000    2.000000   \n",
       "75%        0.400000             0.5    3.252600    1.000000    2.000000   \n",
       "max        5.800000             0.5  961.514400    1.000000    6.000000   \n",
       "\n",
       "       MONEY_Marks    District        Loss  LOSS_SCORE  History_score  \n",
       "count   775.000000  775.000000  775.000000  775.000000     775.000000  \n",
       "mean      2.910968    2.505806    0.029677    2.061935       2.167742  \n",
       "std       1.598148    1.229338    0.184396    0.375316       0.680281  \n",
       "min       2.000000    2.000000    0.000000    2.000000       2.000000  \n",
       "25%       2.000000    2.000000    0.000000    2.000000       2.000000  \n",
       "50%       2.000000    2.000000    0.000000    2.000000       2.000000  \n",
       "75%       4.000000    2.000000    0.000000    2.000000       2.000000  \n",
       "max       6.000000    6.000000    2.000000    6.000000       6.000000  \n",
       "\n",
       "[8 rows x 32 columns]"
      ]
     },
     "execution_count": 23,
     "metadata": {},
     "output_type": "execute_result"
    }
   ],
   "source": [
    "raw_data.describe()"
   ]
  },
  {
   "cell_type": "code",
   "execution_count": 24,
   "metadata": {},
   "outputs": [
    {
     "name": "stdout",
     "output_type": "stream",
     "text": [
      "(775, 33)\n"
     ]
    }
   ],
   "source": [
    "raw_data.columns = map(str.lower, raw_data.columns)\n",
    "print(raw_data.shape)"
   ]
  },
  {
   "cell_type": "markdown",
   "metadata": {},
   "source": [
    "##### creating feature and target splits"
   ]
  },
  {
   "cell_type": "code",
   "execution_count": 25,
   "metadata": {},
   "outputs": [],
   "source": [
    "x = raw_data.drop(['audit_risk','risk'],axis=1)\n",
    "y_reg = raw_data['audit_risk']\n",
    "y_class = raw_data['risk']"
   ]
  },
  {
   "cell_type": "markdown",
   "metadata": {},
   "source": [
    "#### removing highly correlated variables\n",
    "#### setting correlation threshold to 0.8"
   ]
  },
  {
   "cell_type": "code",
   "execution_count": 26,
   "metadata": {},
   "outputs": [
    {
     "data": {
      "text/html": [
       "<div>\n",
       "<style scoped>\n",
       "    .dataframe tbody tr th:only-of-type {\n",
       "        vertical-align: middle;\n",
       "    }\n",
       "\n",
       "    .dataframe tbody tr th {\n",
       "        vertical-align: top;\n",
       "    }\n",
       "\n",
       "    .dataframe thead th {\n",
       "        text-align: right;\n",
       "    }\n",
       "</style>\n",
       "<table border=\"1\" class=\"dataframe\">\n",
       "  <thead>\n",
       "    <tr style=\"text-align: right;\">\n",
       "      <th></th>\n",
       "      <th>sector_score</th>\n",
       "      <th>para_a</th>\n",
       "      <th>score_a</th>\n",
       "      <th>risk_a</th>\n",
       "      <th>para_b</th>\n",
       "      <th>score_b</th>\n",
       "      <th>risk_b</th>\n",
       "      <th>total</th>\n",
       "      <th>numbers</th>\n",
       "      <th>score_b.1</th>\n",
       "      <th>...</th>\n",
       "      <th>score</th>\n",
       "      <th>inherent_risk</th>\n",
       "      <th>control_risk</th>\n",
       "      <th>detection_risk</th>\n",
       "      <th>marks</th>\n",
       "      <th>money_marks</th>\n",
       "      <th>district</th>\n",
       "      <th>loss</th>\n",
       "      <th>loss_score</th>\n",
       "      <th>history_score</th>\n",
       "    </tr>\n",
       "  </thead>\n",
       "  <tbody>\n",
       "    <tr>\n",
       "      <th>sector_score</th>\n",
       "      <td>1.000000</td>\n",
       "      <td>-0.216406</td>\n",
       "      <td>-0.424352</td>\n",
       "      <td>-0.218631</td>\n",
       "      <td>-0.132450</td>\n",
       "      <td>-0.218075</td>\n",
       "      <td>-0.130376</td>\n",
       "      <td>-0.153056</td>\n",
       "      <td>-0.151573</td>\n",
       "      <td>-0.170092</td>\n",
       "      <td>...</td>\n",
       "      <td>-0.336394</td>\n",
       "      <td>-0.172967</td>\n",
       "      <td>-0.154446</td>\n",
       "      <td>NaN</td>\n",
       "      <td>-0.170092</td>\n",
       "      <td>-0.318342</td>\n",
       "      <td>-0.107588</td>\n",
       "      <td>-0.082966</td>\n",
       "      <td>-0.086560</td>\n",
       "      <td>-0.136629</td>\n",
       "    </tr>\n",
       "    <tr>\n",
       "      <th>para_a</th>\n",
       "      <td>-0.216406</td>\n",
       "      <td>1.000000</td>\n",
       "      <td>0.496532</td>\n",
       "      <td>0.999267</td>\n",
       "      <td>0.161852</td>\n",
       "      <td>0.358352</td>\n",
       "      <td>0.161748</td>\n",
       "      <td>0.266952</td>\n",
       "      <td>0.133676</td>\n",
       "      <td>0.140521</td>\n",
       "      <td>...</td>\n",
       "      <td>0.426472</td>\n",
       "      <td>0.481784</td>\n",
       "      <td>0.149032</td>\n",
       "      <td>NaN</td>\n",
       "      <td>0.140521</td>\n",
       "      <td>0.285791</td>\n",
       "      <td>0.127622</td>\n",
       "      <td>0.045317</td>\n",
       "      <td>0.043629</td>\n",
       "      <td>0.172534</td>\n",
       "    </tr>\n",
       "    <tr>\n",
       "      <th>score_a</th>\n",
       "      <td>-0.424352</td>\n",
       "      <td>0.496532</td>\n",
       "      <td>1.000000</td>\n",
       "      <td>0.504746</td>\n",
       "      <td>0.249325</td>\n",
       "      <td>0.572351</td>\n",
       "      <td>0.248079</td>\n",
       "      <td>0.297420</td>\n",
       "      <td>0.242533</td>\n",
       "      <td>0.274412</td>\n",
       "      <td>...</td>\n",
       "      <td>0.720233</td>\n",
       "      <td>0.320762</td>\n",
       "      <td>0.170536</td>\n",
       "      <td>NaN</td>\n",
       "      <td>0.274412</td>\n",
       "      <td>0.478570</td>\n",
       "      <td>0.088253</td>\n",
       "      <td>0.093211</td>\n",
       "      <td>0.093510</td>\n",
       "      <td>0.265185</td>\n",
       "    </tr>\n",
       "    <tr>\n",
       "      <th>risk_a</th>\n",
       "      <td>-0.218631</td>\n",
       "      <td>0.999267</td>\n",
       "      <td>0.504746</td>\n",
       "      <td>1.000000</td>\n",
       "      <td>0.165202</td>\n",
       "      <td>0.362783</td>\n",
       "      <td>0.165060</td>\n",
       "      <td>0.270135</td>\n",
       "      <td>0.135506</td>\n",
       "      <td>0.142979</td>\n",
       "      <td>...</td>\n",
       "      <td>0.432332</td>\n",
       "      <td>0.483218</td>\n",
       "      <td>0.150616</td>\n",
       "      <td>NaN</td>\n",
       "      <td>0.142979</td>\n",
       "      <td>0.290560</td>\n",
       "      <td>0.127196</td>\n",
       "      <td>0.045792</td>\n",
       "      <td>0.043659</td>\n",
       "      <td>0.176061</td>\n",
       "    </tr>\n",
       "    <tr>\n",
       "      <th>para_b</th>\n",
       "      <td>-0.132450</td>\n",
       "      <td>0.161852</td>\n",
       "      <td>0.249325</td>\n",
       "      <td>0.165202</td>\n",
       "      <td>1.000000</td>\n",
       "      <td>0.347493</td>\n",
       "      <td>0.999936</td>\n",
       "      <td>0.994101</td>\n",
       "      <td>0.209799</td>\n",
       "      <td>0.230789</td>\n",
       "      <td>...</td>\n",
       "      <td>0.397111</td>\n",
       "      <td>0.654427</td>\n",
       "      <td>0.186625</td>\n",
       "      <td>NaN</td>\n",
       "      <td>0.230789</td>\n",
       "      <td>0.314464</td>\n",
       "      <td>0.082841</td>\n",
       "      <td>0.044771</td>\n",
       "      <td>0.042507</td>\n",
       "      <td>0.316494</td>\n",
       "    </tr>\n",
       "    <tr>\n",
       "      <th>score_b</th>\n",
       "      <td>-0.218075</td>\n",
       "      <td>0.358352</td>\n",
       "      <td>0.572351</td>\n",
       "      <td>0.362783</td>\n",
       "      <td>0.347493</td>\n",
       "      <td>1.000000</td>\n",
       "      <td>0.348081</td>\n",
       "      <td>0.379242</td>\n",
       "      <td>0.277447</td>\n",
       "      <td>0.313651</td>\n",
       "      <td>...</td>\n",
       "      <td>0.901220</td>\n",
       "      <td>0.365532</td>\n",
       "      <td>0.127542</td>\n",
       "      <td>NaN</td>\n",
       "      <td>0.313651</td>\n",
       "      <td>0.567383</td>\n",
       "      <td>-0.005010</td>\n",
       "      <td>0.098761</td>\n",
       "      <td>0.092453</td>\n",
       "      <td>0.309393</td>\n",
       "    </tr>\n",
       "    <tr>\n",
       "      <th>risk_b</th>\n",
       "      <td>-0.130376</td>\n",
       "      <td>0.161748</td>\n",
       "      <td>0.248079</td>\n",
       "      <td>0.165060</td>\n",
       "      <td>0.999936</td>\n",
       "      <td>0.348081</td>\n",
       "      <td>1.000000</td>\n",
       "      <td>0.994023</td>\n",
       "      <td>0.209541</td>\n",
       "      <td>0.230486</td>\n",
       "      <td>...</td>\n",
       "      <td>0.396908</td>\n",
       "      <td>0.654480</td>\n",
       "      <td>0.186327</td>\n",
       "      <td>NaN</td>\n",
       "      <td>0.230486</td>\n",
       "      <td>0.313008</td>\n",
       "      <td>0.083029</td>\n",
       "      <td>0.045067</td>\n",
       "      <td>0.042833</td>\n",
       "      <td>0.316329</td>\n",
       "    </tr>\n",
       "    <tr>\n",
       "      <th>total</th>\n",
       "      <td>-0.153056</td>\n",
       "      <td>0.266952</td>\n",
       "      <td>0.297420</td>\n",
       "      <td>0.270135</td>\n",
       "      <td>0.994101</td>\n",
       "      <td>0.379242</td>\n",
       "      <td>0.994023</td>\n",
       "      <td>1.000000</td>\n",
       "      <td>0.217576</td>\n",
       "      <td>0.238164</td>\n",
       "      <td>...</td>\n",
       "      <td>0.433766</td>\n",
       "      <td>0.689743</td>\n",
       "      <td>0.197219</td>\n",
       "      <td>NaN</td>\n",
       "      <td>0.238164</td>\n",
       "      <td>0.337366</td>\n",
       "      <td>0.093221</td>\n",
       "      <td>0.048813</td>\n",
       "      <td>0.046419</td>\n",
       "      <td>0.326342</td>\n",
       "    </tr>\n",
       "    <tr>\n",
       "      <th>numbers</th>\n",
       "      <td>-0.151573</td>\n",
       "      <td>0.133676</td>\n",
       "      <td>0.242533</td>\n",
       "      <td>0.135506</td>\n",
       "      <td>0.209799</td>\n",
       "      <td>0.277447</td>\n",
       "      <td>0.209541</td>\n",
       "      <td>0.217576</td>\n",
       "      <td>1.000000</td>\n",
       "      <td>0.908132</td>\n",
       "      <td>...</td>\n",
       "      <td>0.502795</td>\n",
       "      <td>0.271044</td>\n",
       "      <td>0.228560</td>\n",
       "      <td>NaN</td>\n",
       "      <td>0.908132</td>\n",
       "      <td>0.446590</td>\n",
       "      <td>0.124893</td>\n",
       "      <td>-0.001538</td>\n",
       "      <td>0.035755</td>\n",
       "      <td>0.209534</td>\n",
       "    </tr>\n",
       "    <tr>\n",
       "      <th>score_b.1</th>\n",
       "      <td>-0.170092</td>\n",
       "      <td>0.140521</td>\n",
       "      <td>0.274412</td>\n",
       "      <td>0.142979</td>\n",
       "      <td>0.230789</td>\n",
       "      <td>0.313651</td>\n",
       "      <td>0.230486</td>\n",
       "      <td>0.238164</td>\n",
       "      <td>0.908132</td>\n",
       "      <td>1.000000</td>\n",
       "      <td>...</td>\n",
       "      <td>0.565941</td>\n",
       "      <td>0.308465</td>\n",
       "      <td>0.256442</td>\n",
       "      <td>NaN</td>\n",
       "      <td>1.000000</td>\n",
       "      <td>0.507166</td>\n",
       "      <td>0.150237</td>\n",
       "      <td>0.004700</td>\n",
       "      <td>0.036839</td>\n",
       "      <td>0.248353</td>\n",
       "    </tr>\n",
       "    <tr>\n",
       "      <th>risk_c</th>\n",
       "      <td>-0.166165</td>\n",
       "      <td>0.140333</td>\n",
       "      <td>0.265807</td>\n",
       "      <td>0.142590</td>\n",
       "      <td>0.222993</td>\n",
       "      <td>0.302867</td>\n",
       "      <td>0.222683</td>\n",
       "      <td>0.230626</td>\n",
       "      <td>0.955300</td>\n",
       "      <td>0.990411</td>\n",
       "      <td>...</td>\n",
       "      <td>0.551888</td>\n",
       "      <td>0.300567</td>\n",
       "      <td>0.251466</td>\n",
       "      <td>NaN</td>\n",
       "      <td>0.990411</td>\n",
       "      <td>0.492915</td>\n",
       "      <td>0.146114</td>\n",
       "      <td>0.001007</td>\n",
       "      <td>0.036158</td>\n",
       "      <td>0.237654</td>\n",
       "    </tr>\n",
       "    <tr>\n",
       "      <th>money_value</th>\n",
       "      <td>-0.117589</td>\n",
       "      <td>0.449318</td>\n",
       "      <td>0.206131</td>\n",
       "      <td>0.448703</td>\n",
       "      <td>0.125033</td>\n",
       "      <td>0.205139</td>\n",
       "      <td>0.125069</td>\n",
       "      <td>0.168669</td>\n",
       "      <td>0.186188</td>\n",
       "      <td>0.220348</td>\n",
       "      <td>...</td>\n",
       "      <td>0.291810</td>\n",
       "      <td>0.829743</td>\n",
       "      <td>0.069524</td>\n",
       "      <td>NaN</td>\n",
       "      <td>0.220348</td>\n",
       "      <td>0.391373</td>\n",
       "      <td>0.028231</td>\n",
       "      <td>0.024532</td>\n",
       "      <td>0.031781</td>\n",
       "      <td>0.112184</td>\n",
       "    </tr>\n",
       "    <tr>\n",
       "      <th>score_mv</th>\n",
       "      <td>-0.318342</td>\n",
       "      <td>0.285791</td>\n",
       "      <td>0.478570</td>\n",
       "      <td>0.290560</td>\n",
       "      <td>0.314464</td>\n",
       "      <td>0.567383</td>\n",
       "      <td>0.313008</td>\n",
       "      <td>0.337366</td>\n",
       "      <td>0.446590</td>\n",
       "      <td>0.507166</td>\n",
       "      <td>...</td>\n",
       "      <td>0.758212</td>\n",
       "      <td>0.482285</td>\n",
       "      <td>0.217235</td>\n",
       "      <td>NaN</td>\n",
       "      <td>0.507166</td>\n",
       "      <td>1.000000</td>\n",
       "      <td>0.080821</td>\n",
       "      <td>0.118583</td>\n",
       "      <td>0.129829</td>\n",
       "      <td>0.334616</td>\n",
       "    </tr>\n",
       "    <tr>\n",
       "      <th>risk_d</th>\n",
       "      <td>-0.115937</td>\n",
       "      <td>0.448507</td>\n",
       "      <td>0.203551</td>\n",
       "      <td>0.447866</td>\n",
       "      <td>0.124620</td>\n",
       "      <td>0.202059</td>\n",
       "      <td>0.124667</td>\n",
       "      <td>0.168176</td>\n",
       "      <td>0.186513</td>\n",
       "      <td>0.220581</td>\n",
       "      <td>...</td>\n",
       "      <td>0.289399</td>\n",
       "      <td>0.829516</td>\n",
       "      <td>0.069490</td>\n",
       "      <td>NaN</td>\n",
       "      <td>0.220581</td>\n",
       "      <td>0.390987</td>\n",
       "      <td>0.028390</td>\n",
       "      <td>0.024593</td>\n",
       "      <td>0.031871</td>\n",
       "      <td>0.111429</td>\n",
       "    </tr>\n",
       "    <tr>\n",
       "      <th>district_loss</th>\n",
       "      <td>-0.107588</td>\n",
       "      <td>0.127622</td>\n",
       "      <td>0.088253</td>\n",
       "      <td>0.127196</td>\n",
       "      <td>0.082841</td>\n",
       "      <td>-0.005010</td>\n",
       "      <td>0.083029</td>\n",
       "      <td>0.093221</td>\n",
       "      <td>0.124893</td>\n",
       "      <td>0.150237</td>\n",
       "      <td>...</td>\n",
       "      <td>0.210209</td>\n",
       "      <td>0.080979</td>\n",
       "      <td>0.645054</td>\n",
       "      <td>NaN</td>\n",
       "      <td>0.150237</td>\n",
       "      <td>0.080821</td>\n",
       "      <td>1.000000</td>\n",
       "      <td>0.036286</td>\n",
       "      <td>0.055224</td>\n",
       "      <td>0.083803</td>\n",
       "    </tr>\n",
       "    <tr>\n",
       "      <th>prob</th>\n",
       "      <td>-0.086560</td>\n",
       "      <td>0.043629</td>\n",
       "      <td>0.093510</td>\n",
       "      <td>0.043659</td>\n",
       "      <td>0.042507</td>\n",
       "      <td>0.092453</td>\n",
       "      <td>0.042833</td>\n",
       "      <td>0.046419</td>\n",
       "      <td>0.035755</td>\n",
       "      <td>0.036839</td>\n",
       "      <td>...</td>\n",
       "      <td>0.167622</td>\n",
       "      <td>0.052636</td>\n",
       "      <td>0.338190</td>\n",
       "      <td>NaN</td>\n",
       "      <td>0.036839</td>\n",
       "      <td>0.129829</td>\n",
       "      <td>0.055224</td>\n",
       "      <td>0.981509</td>\n",
       "      <td>1.000000</td>\n",
       "      <td>0.141426</td>\n",
       "    </tr>\n",
       "    <tr>\n",
       "      <th>risk_e</th>\n",
       "      <td>-0.127964</td>\n",
       "      <td>0.118758</td>\n",
       "      <td>0.102278</td>\n",
       "      <td>0.118463</td>\n",
       "      <td>0.079290</td>\n",
       "      <td>0.014977</td>\n",
       "      <td>0.079630</td>\n",
       "      <td>0.089083</td>\n",
       "      <td>0.136841</td>\n",
       "      <td>0.157464</td>\n",
       "      <td>...</td>\n",
       "      <td>0.236702</td>\n",
       "      <td>0.082823</td>\n",
       "      <td>0.729790</td>\n",
       "      <td>NaN</td>\n",
       "      <td>0.157464</td>\n",
       "      <td>0.104166</td>\n",
       "      <td>0.913458</td>\n",
       "      <td>0.368046</td>\n",
       "      <td>0.406227</td>\n",
       "      <td>0.123580</td>\n",
       "    </tr>\n",
       "    <tr>\n",
       "      <th>history</th>\n",
       "      <td>-0.114588</td>\n",
       "      <td>0.118195</td>\n",
       "      <td>0.177802</td>\n",
       "      <td>0.121050</td>\n",
       "      <td>0.203539</td>\n",
       "      <td>0.200734</td>\n",
       "      <td>0.202780</td>\n",
       "      <td>0.210702</td>\n",
       "      <td>0.202276</td>\n",
       "      <td>0.226121</td>\n",
       "      <td>...</td>\n",
       "      <td>0.326094</td>\n",
       "      <td>0.185553</td>\n",
       "      <td>0.754299</td>\n",
       "      <td>NaN</td>\n",
       "      <td>0.226121</td>\n",
       "      <td>0.246794</td>\n",
       "      <td>0.069284</td>\n",
       "      <td>0.060605</td>\n",
       "      <td>0.110025</td>\n",
       "      <td>0.859289</td>\n",
       "    </tr>\n",
       "    <tr>\n",
       "      <th>prob</th>\n",
       "      <td>-0.136629</td>\n",
       "      <td>0.172534</td>\n",
       "      <td>0.265185</td>\n",
       "      <td>0.176061</td>\n",
       "      <td>0.316494</td>\n",
       "      <td>0.309393</td>\n",
       "      <td>0.316329</td>\n",
       "      <td>0.326342</td>\n",
       "      <td>0.209534</td>\n",
       "      <td>0.248353</td>\n",
       "      <td>...</td>\n",
       "      <td>0.443344</td>\n",
       "      <td>0.273745</td>\n",
       "      <td>0.641809</td>\n",
       "      <td>NaN</td>\n",
       "      <td>0.248353</td>\n",
       "      <td>0.334616</td>\n",
       "      <td>0.083803</td>\n",
       "      <td>0.104458</td>\n",
       "      <td>0.141426</td>\n",
       "      <td>1.000000</td>\n",
       "    </tr>\n",
       "    <tr>\n",
       "      <th>risk_f</th>\n",
       "      <td>-0.103036</td>\n",
       "      <td>0.103904</td>\n",
       "      <td>0.150805</td>\n",
       "      <td>0.106487</td>\n",
       "      <td>0.196009</td>\n",
       "      <td>0.171172</td>\n",
       "      <td>0.195254</td>\n",
       "      <td>0.202114</td>\n",
       "      <td>0.202340</td>\n",
       "      <td>0.223293</td>\n",
       "      <td>...</td>\n",
       "      <td>0.293550</td>\n",
       "      <td>0.173045</td>\n",
       "      <td>0.760864</td>\n",
       "      <td>NaN</td>\n",
       "      <td>0.223293</td>\n",
       "      <td>0.216893</td>\n",
       "      <td>0.070602</td>\n",
       "      <td>0.054157</td>\n",
       "      <td>0.106002</td>\n",
       "      <td>0.815603</td>\n",
       "    </tr>\n",
       "    <tr>\n",
       "      <th>score</th>\n",
       "      <td>-0.336394</td>\n",
       "      <td>0.426472</td>\n",
       "      <td>0.720233</td>\n",
       "      <td>0.432332</td>\n",
       "      <td>0.397111</td>\n",
       "      <td>0.901220</td>\n",
       "      <td>0.396908</td>\n",
       "      <td>0.433766</td>\n",
       "      <td>0.502795</td>\n",
       "      <td>0.565941</td>\n",
       "      <td>...</td>\n",
       "      <td>1.000000</td>\n",
       "      <td>0.464835</td>\n",
       "      <td>0.356519</td>\n",
       "      <td>NaN</td>\n",
       "      <td>0.565941</td>\n",
       "      <td>0.758212</td>\n",
       "      <td>0.210209</td>\n",
       "      <td>0.156751</td>\n",
       "      <td>0.167622</td>\n",
       "      <td>0.443344</td>\n",
       "    </tr>\n",
       "    <tr>\n",
       "      <th>inherent_risk</th>\n",
       "      <td>-0.172967</td>\n",
       "      <td>0.481784</td>\n",
       "      <td>0.320762</td>\n",
       "      <td>0.483218</td>\n",
       "      <td>0.654427</td>\n",
       "      <td>0.365532</td>\n",
       "      <td>0.654480</td>\n",
       "      <td>0.689743</td>\n",
       "      <td>0.271044</td>\n",
       "      <td>0.308465</td>\n",
       "      <td>...</td>\n",
       "      <td>0.464835</td>\n",
       "      <td>1.000000</td>\n",
       "      <td>0.173132</td>\n",
       "      <td>NaN</td>\n",
       "      <td>0.308465</td>\n",
       "      <td>0.482285</td>\n",
       "      <td>0.080979</td>\n",
       "      <td>0.047846</td>\n",
       "      <td>0.052636</td>\n",
       "      <td>0.273745</td>\n",
       "    </tr>\n",
       "    <tr>\n",
       "      <th>control_risk</th>\n",
       "      <td>-0.154446</td>\n",
       "      <td>0.149032</td>\n",
       "      <td>0.170536</td>\n",
       "      <td>0.150616</td>\n",
       "      <td>0.186625</td>\n",
       "      <td>0.127542</td>\n",
       "      <td>0.186327</td>\n",
       "      <td>0.197219</td>\n",
       "      <td>0.228560</td>\n",
       "      <td>0.256442</td>\n",
       "      <td>...</td>\n",
       "      <td>0.356519</td>\n",
       "      <td>0.173132</td>\n",
       "      <td>1.000000</td>\n",
       "      <td>NaN</td>\n",
       "      <td>0.256442</td>\n",
       "      <td>0.217235</td>\n",
       "      <td>0.645054</td>\n",
       "      <td>0.277590</td>\n",
       "      <td>0.338190</td>\n",
       "      <td>0.641809</td>\n",
       "    </tr>\n",
       "    <tr>\n",
       "      <th>detection_risk</th>\n",
       "      <td>NaN</td>\n",
       "      <td>NaN</td>\n",
       "      <td>NaN</td>\n",
       "      <td>NaN</td>\n",
       "      <td>NaN</td>\n",
       "      <td>NaN</td>\n",
       "      <td>NaN</td>\n",
       "      <td>NaN</td>\n",
       "      <td>NaN</td>\n",
       "      <td>NaN</td>\n",
       "      <td>...</td>\n",
       "      <td>NaN</td>\n",
       "      <td>NaN</td>\n",
       "      <td>NaN</td>\n",
       "      <td>NaN</td>\n",
       "      <td>NaN</td>\n",
       "      <td>NaN</td>\n",
       "      <td>NaN</td>\n",
       "      <td>NaN</td>\n",
       "      <td>NaN</td>\n",
       "      <td>NaN</td>\n",
       "    </tr>\n",
       "    <tr>\n",
       "      <th>marks</th>\n",
       "      <td>-0.170092</td>\n",
       "      <td>0.140521</td>\n",
       "      <td>0.274412</td>\n",
       "      <td>0.142979</td>\n",
       "      <td>0.230789</td>\n",
       "      <td>0.313651</td>\n",
       "      <td>0.230486</td>\n",
       "      <td>0.238164</td>\n",
       "      <td>0.908132</td>\n",
       "      <td>1.000000</td>\n",
       "      <td>...</td>\n",
       "      <td>0.565941</td>\n",
       "      <td>0.308465</td>\n",
       "      <td>0.256442</td>\n",
       "      <td>NaN</td>\n",
       "      <td>1.000000</td>\n",
       "      <td>0.507166</td>\n",
       "      <td>0.150237</td>\n",
       "      <td>0.004700</td>\n",
       "      <td>0.036839</td>\n",
       "      <td>0.248353</td>\n",
       "    </tr>\n",
       "    <tr>\n",
       "      <th>money_marks</th>\n",
       "      <td>-0.318342</td>\n",
       "      <td>0.285791</td>\n",
       "      <td>0.478570</td>\n",
       "      <td>0.290560</td>\n",
       "      <td>0.314464</td>\n",
       "      <td>0.567383</td>\n",
       "      <td>0.313008</td>\n",
       "      <td>0.337366</td>\n",
       "      <td>0.446590</td>\n",
       "      <td>0.507166</td>\n",
       "      <td>...</td>\n",
       "      <td>0.758212</td>\n",
       "      <td>0.482285</td>\n",
       "      <td>0.217235</td>\n",
       "      <td>NaN</td>\n",
       "      <td>0.507166</td>\n",
       "      <td>1.000000</td>\n",
       "      <td>0.080821</td>\n",
       "      <td>0.118583</td>\n",
       "      <td>0.129829</td>\n",
       "      <td>0.334616</td>\n",
       "    </tr>\n",
       "    <tr>\n",
       "      <th>district</th>\n",
       "      <td>-0.107588</td>\n",
       "      <td>0.127622</td>\n",
       "      <td>0.088253</td>\n",
       "      <td>0.127196</td>\n",
       "      <td>0.082841</td>\n",
       "      <td>-0.005010</td>\n",
       "      <td>0.083029</td>\n",
       "      <td>0.093221</td>\n",
       "      <td>0.124893</td>\n",
       "      <td>0.150237</td>\n",
       "      <td>...</td>\n",
       "      <td>0.210209</td>\n",
       "      <td>0.080979</td>\n",
       "      <td>0.645054</td>\n",
       "      <td>NaN</td>\n",
       "      <td>0.150237</td>\n",
       "      <td>0.080821</td>\n",
       "      <td>1.000000</td>\n",
       "      <td>0.036286</td>\n",
       "      <td>0.055224</td>\n",
       "      <td>0.083803</td>\n",
       "    </tr>\n",
       "    <tr>\n",
       "      <th>loss</th>\n",
       "      <td>-0.082966</td>\n",
       "      <td>0.045317</td>\n",
       "      <td>0.093211</td>\n",
       "      <td>0.045792</td>\n",
       "      <td>0.044771</td>\n",
       "      <td>0.098761</td>\n",
       "      <td>0.045067</td>\n",
       "      <td>0.048813</td>\n",
       "      <td>-0.001538</td>\n",
       "      <td>0.004700</td>\n",
       "      <td>...</td>\n",
       "      <td>0.156751</td>\n",
       "      <td>0.047846</td>\n",
       "      <td>0.277590</td>\n",
       "      <td>NaN</td>\n",
       "      <td>0.004700</td>\n",
       "      <td>0.118583</td>\n",
       "      <td>0.036286</td>\n",
       "      <td>1.000000</td>\n",
       "      <td>0.981509</td>\n",
       "      <td>0.104458</td>\n",
       "    </tr>\n",
       "    <tr>\n",
       "      <th>loss_score</th>\n",
       "      <td>-0.086560</td>\n",
       "      <td>0.043629</td>\n",
       "      <td>0.093510</td>\n",
       "      <td>0.043659</td>\n",
       "      <td>0.042507</td>\n",
       "      <td>0.092453</td>\n",
       "      <td>0.042833</td>\n",
       "      <td>0.046419</td>\n",
       "      <td>0.035755</td>\n",
       "      <td>0.036839</td>\n",
       "      <td>...</td>\n",
       "      <td>0.167622</td>\n",
       "      <td>0.052636</td>\n",
       "      <td>0.338190</td>\n",
       "      <td>NaN</td>\n",
       "      <td>0.036839</td>\n",
       "      <td>0.129829</td>\n",
       "      <td>0.055224</td>\n",
       "      <td>0.981509</td>\n",
       "      <td>1.000000</td>\n",
       "      <td>0.141426</td>\n",
       "    </tr>\n",
       "    <tr>\n",
       "      <th>history_score</th>\n",
       "      <td>-0.136629</td>\n",
       "      <td>0.172534</td>\n",
       "      <td>0.265185</td>\n",
       "      <td>0.176061</td>\n",
       "      <td>0.316494</td>\n",
       "      <td>0.309393</td>\n",
       "      <td>0.316329</td>\n",
       "      <td>0.326342</td>\n",
       "      <td>0.209534</td>\n",
       "      <td>0.248353</td>\n",
       "      <td>...</td>\n",
       "      <td>0.443344</td>\n",
       "      <td>0.273745</td>\n",
       "      <td>0.641809</td>\n",
       "      <td>NaN</td>\n",
       "      <td>0.248353</td>\n",
       "      <td>0.334616</td>\n",
       "      <td>0.083803</td>\n",
       "      <td>0.104458</td>\n",
       "      <td>0.141426</td>\n",
       "      <td>1.000000</td>\n",
       "    </tr>\n",
       "  </tbody>\n",
       "</table>\n",
       "<p>30 rows × 30 columns</p>\n",
       "</div>"
      ],
      "text/plain": [
       "                sector_score    para_a   score_a    risk_a    para_b  \\\n",
       "sector_score        1.000000 -0.216406 -0.424352 -0.218631 -0.132450   \n",
       "para_a             -0.216406  1.000000  0.496532  0.999267  0.161852   \n",
       "score_a            -0.424352  0.496532  1.000000  0.504746  0.249325   \n",
       "risk_a             -0.218631  0.999267  0.504746  1.000000  0.165202   \n",
       "para_b             -0.132450  0.161852  0.249325  0.165202  1.000000   \n",
       "score_b            -0.218075  0.358352  0.572351  0.362783  0.347493   \n",
       "risk_b             -0.130376  0.161748  0.248079  0.165060  0.999936   \n",
       "total              -0.153056  0.266952  0.297420  0.270135  0.994101   \n",
       "numbers            -0.151573  0.133676  0.242533  0.135506  0.209799   \n",
       "score_b.1          -0.170092  0.140521  0.274412  0.142979  0.230789   \n",
       "risk_c             -0.166165  0.140333  0.265807  0.142590  0.222993   \n",
       "money_value        -0.117589  0.449318  0.206131  0.448703  0.125033   \n",
       "score_mv           -0.318342  0.285791  0.478570  0.290560  0.314464   \n",
       "risk_d             -0.115937  0.448507  0.203551  0.447866  0.124620   \n",
       "district_loss      -0.107588  0.127622  0.088253  0.127196  0.082841   \n",
       "prob               -0.086560  0.043629  0.093510  0.043659  0.042507   \n",
       "risk_e             -0.127964  0.118758  0.102278  0.118463  0.079290   \n",
       "history            -0.114588  0.118195  0.177802  0.121050  0.203539   \n",
       "prob               -0.136629  0.172534  0.265185  0.176061  0.316494   \n",
       "risk_f             -0.103036  0.103904  0.150805  0.106487  0.196009   \n",
       "score              -0.336394  0.426472  0.720233  0.432332  0.397111   \n",
       "inherent_risk      -0.172967  0.481784  0.320762  0.483218  0.654427   \n",
       "control_risk       -0.154446  0.149032  0.170536  0.150616  0.186625   \n",
       "detection_risk           NaN       NaN       NaN       NaN       NaN   \n",
       "marks              -0.170092  0.140521  0.274412  0.142979  0.230789   \n",
       "money_marks        -0.318342  0.285791  0.478570  0.290560  0.314464   \n",
       "district           -0.107588  0.127622  0.088253  0.127196  0.082841   \n",
       "loss               -0.082966  0.045317  0.093211  0.045792  0.044771   \n",
       "loss_score         -0.086560  0.043629  0.093510  0.043659  0.042507   \n",
       "history_score      -0.136629  0.172534  0.265185  0.176061  0.316494   \n",
       "\n",
       "                 score_b    risk_b     total   numbers  score_b.1  ...  \\\n",
       "sector_score   -0.218075 -0.130376 -0.153056 -0.151573  -0.170092  ...   \n",
       "para_a          0.358352  0.161748  0.266952  0.133676   0.140521  ...   \n",
       "score_a         0.572351  0.248079  0.297420  0.242533   0.274412  ...   \n",
       "risk_a          0.362783  0.165060  0.270135  0.135506   0.142979  ...   \n",
       "para_b          0.347493  0.999936  0.994101  0.209799   0.230789  ...   \n",
       "score_b         1.000000  0.348081  0.379242  0.277447   0.313651  ...   \n",
       "risk_b          0.348081  1.000000  0.994023  0.209541   0.230486  ...   \n",
       "total           0.379242  0.994023  1.000000  0.217576   0.238164  ...   \n",
       "numbers         0.277447  0.209541  0.217576  1.000000   0.908132  ...   \n",
       "score_b.1       0.313651  0.230486  0.238164  0.908132   1.000000  ...   \n",
       "risk_c          0.302867  0.222683  0.230626  0.955300   0.990411  ...   \n",
       "money_value     0.205139  0.125069  0.168669  0.186188   0.220348  ...   \n",
       "score_mv        0.567383  0.313008  0.337366  0.446590   0.507166  ...   \n",
       "risk_d          0.202059  0.124667  0.168176  0.186513   0.220581  ...   \n",
       "district_loss  -0.005010  0.083029  0.093221  0.124893   0.150237  ...   \n",
       "prob            0.092453  0.042833  0.046419  0.035755   0.036839  ...   \n",
       "risk_e          0.014977  0.079630  0.089083  0.136841   0.157464  ...   \n",
       "history         0.200734  0.202780  0.210702  0.202276   0.226121  ...   \n",
       "prob            0.309393  0.316329  0.326342  0.209534   0.248353  ...   \n",
       "risk_f          0.171172  0.195254  0.202114  0.202340   0.223293  ...   \n",
       "score           0.901220  0.396908  0.433766  0.502795   0.565941  ...   \n",
       "inherent_risk   0.365532  0.654480  0.689743  0.271044   0.308465  ...   \n",
       "control_risk    0.127542  0.186327  0.197219  0.228560   0.256442  ...   \n",
       "detection_risk       NaN       NaN       NaN       NaN        NaN  ...   \n",
       "marks           0.313651  0.230486  0.238164  0.908132   1.000000  ...   \n",
       "money_marks     0.567383  0.313008  0.337366  0.446590   0.507166  ...   \n",
       "district       -0.005010  0.083029  0.093221  0.124893   0.150237  ...   \n",
       "loss            0.098761  0.045067  0.048813 -0.001538   0.004700  ...   \n",
       "loss_score      0.092453  0.042833  0.046419  0.035755   0.036839  ...   \n",
       "history_score   0.309393  0.316329  0.326342  0.209534   0.248353  ...   \n",
       "\n",
       "                   score  inherent_risk  control_risk  detection_risk  \\\n",
       "sector_score   -0.336394      -0.172967     -0.154446             NaN   \n",
       "para_a          0.426472       0.481784      0.149032             NaN   \n",
       "score_a         0.720233       0.320762      0.170536             NaN   \n",
       "risk_a          0.432332       0.483218      0.150616             NaN   \n",
       "para_b          0.397111       0.654427      0.186625             NaN   \n",
       "score_b         0.901220       0.365532      0.127542             NaN   \n",
       "risk_b          0.396908       0.654480      0.186327             NaN   \n",
       "total           0.433766       0.689743      0.197219             NaN   \n",
       "numbers         0.502795       0.271044      0.228560             NaN   \n",
       "score_b.1       0.565941       0.308465      0.256442             NaN   \n",
       "risk_c          0.551888       0.300567      0.251466             NaN   \n",
       "money_value     0.291810       0.829743      0.069524             NaN   \n",
       "score_mv        0.758212       0.482285      0.217235             NaN   \n",
       "risk_d          0.289399       0.829516      0.069490             NaN   \n",
       "district_loss   0.210209       0.080979      0.645054             NaN   \n",
       "prob            0.167622       0.052636      0.338190             NaN   \n",
       "risk_e          0.236702       0.082823      0.729790             NaN   \n",
       "history         0.326094       0.185553      0.754299             NaN   \n",
       "prob            0.443344       0.273745      0.641809             NaN   \n",
       "risk_f          0.293550       0.173045      0.760864             NaN   \n",
       "score           1.000000       0.464835      0.356519             NaN   \n",
       "inherent_risk   0.464835       1.000000      0.173132             NaN   \n",
       "control_risk    0.356519       0.173132      1.000000             NaN   \n",
       "detection_risk       NaN            NaN           NaN             NaN   \n",
       "marks           0.565941       0.308465      0.256442             NaN   \n",
       "money_marks     0.758212       0.482285      0.217235             NaN   \n",
       "district        0.210209       0.080979      0.645054             NaN   \n",
       "loss            0.156751       0.047846      0.277590             NaN   \n",
       "loss_score      0.167622       0.052636      0.338190             NaN   \n",
       "history_score   0.443344       0.273745      0.641809             NaN   \n",
       "\n",
       "                   marks  money_marks  district      loss  loss_score  \\\n",
       "sector_score   -0.170092    -0.318342 -0.107588 -0.082966   -0.086560   \n",
       "para_a          0.140521     0.285791  0.127622  0.045317    0.043629   \n",
       "score_a         0.274412     0.478570  0.088253  0.093211    0.093510   \n",
       "risk_a          0.142979     0.290560  0.127196  0.045792    0.043659   \n",
       "para_b          0.230789     0.314464  0.082841  0.044771    0.042507   \n",
       "score_b         0.313651     0.567383 -0.005010  0.098761    0.092453   \n",
       "risk_b          0.230486     0.313008  0.083029  0.045067    0.042833   \n",
       "total           0.238164     0.337366  0.093221  0.048813    0.046419   \n",
       "numbers         0.908132     0.446590  0.124893 -0.001538    0.035755   \n",
       "score_b.1       1.000000     0.507166  0.150237  0.004700    0.036839   \n",
       "risk_c          0.990411     0.492915  0.146114  0.001007    0.036158   \n",
       "money_value     0.220348     0.391373  0.028231  0.024532    0.031781   \n",
       "score_mv        0.507166     1.000000  0.080821  0.118583    0.129829   \n",
       "risk_d          0.220581     0.390987  0.028390  0.024593    0.031871   \n",
       "district_loss   0.150237     0.080821  1.000000  0.036286    0.055224   \n",
       "prob            0.036839     0.129829  0.055224  0.981509    1.000000   \n",
       "risk_e          0.157464     0.104166  0.913458  0.368046    0.406227   \n",
       "history         0.226121     0.246794  0.069284  0.060605    0.110025   \n",
       "prob            0.248353     0.334616  0.083803  0.104458    0.141426   \n",
       "risk_f          0.223293     0.216893  0.070602  0.054157    0.106002   \n",
       "score           0.565941     0.758212  0.210209  0.156751    0.167622   \n",
       "inherent_risk   0.308465     0.482285  0.080979  0.047846    0.052636   \n",
       "control_risk    0.256442     0.217235  0.645054  0.277590    0.338190   \n",
       "detection_risk       NaN          NaN       NaN       NaN         NaN   \n",
       "marks           1.000000     0.507166  0.150237  0.004700    0.036839   \n",
       "money_marks     0.507166     1.000000  0.080821  0.118583    0.129829   \n",
       "district        0.150237     0.080821  1.000000  0.036286    0.055224   \n",
       "loss            0.004700     0.118583  0.036286  1.000000    0.981509   \n",
       "loss_score      0.036839     0.129829  0.055224  0.981509    1.000000   \n",
       "history_score   0.248353     0.334616  0.083803  0.104458    0.141426   \n",
       "\n",
       "                history_score  \n",
       "sector_score        -0.136629  \n",
       "para_a               0.172534  \n",
       "score_a              0.265185  \n",
       "risk_a               0.176061  \n",
       "para_b               0.316494  \n",
       "score_b              0.309393  \n",
       "risk_b               0.316329  \n",
       "total                0.326342  \n",
       "numbers              0.209534  \n",
       "score_b.1            0.248353  \n",
       "risk_c               0.237654  \n",
       "money_value          0.112184  \n",
       "score_mv             0.334616  \n",
       "risk_d               0.111429  \n",
       "district_loss        0.083803  \n",
       "prob                 0.141426  \n",
       "risk_e               0.123580  \n",
       "history              0.859289  \n",
       "prob                 1.000000  \n",
       "risk_f               0.815603  \n",
       "score                0.443344  \n",
       "inherent_risk        0.273745  \n",
       "control_risk         0.641809  \n",
       "detection_risk            NaN  \n",
       "marks                0.248353  \n",
       "money_marks          0.334616  \n",
       "district             0.083803  \n",
       "loss                 0.104458  \n",
       "loss_score           0.141426  \n",
       "history_score        1.000000  \n",
       "\n",
       "[30 rows x 30 columns]"
      ]
     },
     "execution_count": 26,
     "metadata": {},
     "output_type": "execute_result"
    }
   ],
   "source": [
    "x.corr()"
   ]
  },
  {
   "cell_type": "code",
   "execution_count": 27,
   "metadata": {},
   "outputs": [
    {
     "data": {
      "text/plain": [
       "<matplotlib.axes._subplots.AxesSubplot at 0x1cd39cc79b0>"
      ]
     },
     "execution_count": 27,
     "metadata": {},
     "output_type": "execute_result"
    }
   ],
   "source": [
    "import seaborn as sns\n",
    "import matplotlib.pyplot as plt\n",
    "sns.set(style=\"white\")\n",
    "corr = x.corr().abs()\n",
    "mask = np.zeros_like(corr, dtype=np.bool)\n",
    "mask[np.triu_indices_from(mask)] = True\n",
    "f, ax = plt.subplots(figsize=(11, 9))\n",
    "cmap = sns.diverging_palette(220, 10, as_cmap=True)\n",
    "sns.heatmap(corr, mask=mask, cmap=cmap, vmax=1, center=0,\n",
    "            square=True, linewidths=.5, cbar_kws={\"shrink\": .5})"
   ]
  },
  {
   "cell_type": "code",
   "execution_count": 28,
   "metadata": {},
   "outputs": [
    {
     "data": {
      "text/html": [
       "<div>\n",
       "<style scoped>\n",
       "    .dataframe tbody tr th:only-of-type {\n",
       "        vertical-align: middle;\n",
       "    }\n",
       "\n",
       "    .dataframe tbody tr th {\n",
       "        vertical-align: top;\n",
       "    }\n",
       "\n",
       "    .dataframe thead th {\n",
       "        text-align: right;\n",
       "    }\n",
       "</style>\n",
       "<table border=\"1\" class=\"dataframe\">\n",
       "  <thead>\n",
       "    <tr style=\"text-align: right;\">\n",
       "      <th></th>\n",
       "      <th></th>\n",
       "      <th>corr</th>\n",
       "    </tr>\n",
       "  </thead>\n",
       "  <tbody>\n",
       "    <tr>\n",
       "      <th>district_loss</th>\n",
       "      <th>district</th>\n",
       "      <td>1.000000</td>\n",
       "    </tr>\n",
       "    <tr>\n",
       "      <th>prob</th>\n",
       "      <th>loss_score</th>\n",
       "      <td>1.000000</td>\n",
       "    </tr>\n",
       "    <tr>\n",
       "      <th>score_mv</th>\n",
       "      <th>money_marks</th>\n",
       "      <td>1.000000</td>\n",
       "    </tr>\n",
       "    <tr>\n",
       "      <th>score_b.1</th>\n",
       "      <th>marks</th>\n",
       "      <td>1.000000</td>\n",
       "    </tr>\n",
       "    <tr>\n",
       "      <th>prob</th>\n",
       "      <th>history_score</th>\n",
       "      <td>1.000000</td>\n",
       "    </tr>\n",
       "    <tr>\n",
       "      <th>money_value</th>\n",
       "      <th>risk_d</th>\n",
       "      <td>0.999936</td>\n",
       "    </tr>\n",
       "    <tr>\n",
       "      <th>para_b</th>\n",
       "      <th>risk_b</th>\n",
       "      <td>0.999936</td>\n",
       "    </tr>\n",
       "    <tr>\n",
       "      <th>para_a</th>\n",
       "      <th>risk_a</th>\n",
       "      <td>0.999267</td>\n",
       "    </tr>\n",
       "    <tr>\n",
       "      <th>para_b</th>\n",
       "      <th>total</th>\n",
       "      <td>0.994101</td>\n",
       "    </tr>\n",
       "    <tr>\n",
       "      <th>risk_b</th>\n",
       "      <th>total</th>\n",
       "      <td>0.994023</td>\n",
       "    </tr>\n",
       "    <tr>\n",
       "      <th>history</th>\n",
       "      <th>risk_f</th>\n",
       "      <td>0.991987</td>\n",
       "    </tr>\n",
       "    <tr>\n",
       "      <th>risk_c</th>\n",
       "      <th>marks</th>\n",
       "      <td>0.990411</td>\n",
       "    </tr>\n",
       "    <tr>\n",
       "      <th>score_b.1</th>\n",
       "      <th>risk_c</th>\n",
       "      <td>0.990411</td>\n",
       "    </tr>\n",
       "    <tr>\n",
       "      <th>prob</th>\n",
       "      <th>loss</th>\n",
       "      <td>0.981509</td>\n",
       "    </tr>\n",
       "    <tr>\n",
       "      <th>loss</th>\n",
       "      <th>loss_score</th>\n",
       "      <td>0.981509</td>\n",
       "    </tr>\n",
       "    <tr>\n",
       "      <th>numbers</th>\n",
       "      <th>risk_c</th>\n",
       "      <td>0.955300</td>\n",
       "    </tr>\n",
       "    <tr>\n",
       "      <th>district_loss</th>\n",
       "      <th>risk_e</th>\n",
       "      <td>0.913458</td>\n",
       "    </tr>\n",
       "    <tr>\n",
       "      <th>risk_e</th>\n",
       "      <th>district</th>\n",
       "      <td>0.913458</td>\n",
       "    </tr>\n",
       "    <tr>\n",
       "      <th rowspan=\"2\" valign=\"top\">numbers</th>\n",
       "      <th>score_b.1</th>\n",
       "      <td>0.908132</td>\n",
       "    </tr>\n",
       "    <tr>\n",
       "      <th>marks</th>\n",
       "      <td>0.908132</td>\n",
       "    </tr>\n",
       "    <tr>\n",
       "      <th>score_b</th>\n",
       "      <th>score</th>\n",
       "      <td>0.901220</td>\n",
       "    </tr>\n",
       "    <tr>\n",
       "      <th rowspan=\"2\" valign=\"top\">history</th>\n",
       "      <th>prob</th>\n",
       "      <td>0.859289</td>\n",
       "    </tr>\n",
       "    <tr>\n",
       "      <th>history_score</th>\n",
       "      <td>0.859289</td>\n",
       "    </tr>\n",
       "    <tr>\n",
       "      <th>money_value</th>\n",
       "      <th>inherent_risk</th>\n",
       "      <td>0.829743</td>\n",
       "    </tr>\n",
       "    <tr>\n",
       "      <th>risk_d</th>\n",
       "      <th>inherent_risk</th>\n",
       "      <td>0.829516</td>\n",
       "    </tr>\n",
       "    <tr>\n",
       "      <th>risk_f</th>\n",
       "      <th>history_score</th>\n",
       "      <td>0.815603</td>\n",
       "    </tr>\n",
       "    <tr>\n",
       "      <th>prob</th>\n",
       "      <th>risk_f</th>\n",
       "      <td>0.815603</td>\n",
       "    </tr>\n",
       "  </tbody>\n",
       "</table>\n",
       "</div>"
      ],
      "text/plain": [
       "                                 corr\n",
       "district_loss district       1.000000\n",
       "prob          loss_score     1.000000\n",
       "score_mv      money_marks    1.000000\n",
       "score_b.1     marks          1.000000\n",
       "prob          history_score  1.000000\n",
       "money_value   risk_d         0.999936\n",
       "para_b        risk_b         0.999936\n",
       "para_a        risk_a         0.999267\n",
       "para_b        total          0.994101\n",
       "risk_b        total          0.994023\n",
       "history       risk_f         0.991987\n",
       "risk_c        marks          0.990411\n",
       "score_b.1     risk_c         0.990411\n",
       "prob          loss           0.981509\n",
       "loss          loss_score     0.981509\n",
       "numbers       risk_c         0.955300\n",
       "district_loss risk_e         0.913458\n",
       "risk_e        district       0.913458\n",
       "numbers       score_b.1      0.908132\n",
       "              marks          0.908132\n",
       "score_b       score          0.901220\n",
       "history       prob           0.859289\n",
       "              history_score  0.859289\n",
       "money_value   inherent_risk  0.829743\n",
       "risk_d        inherent_risk  0.829516\n",
       "risk_f        history_score  0.815603\n",
       "prob          risk_f         0.815603"
      ]
     },
     "execution_count": 28,
     "metadata": {},
     "output_type": "execute_result"
    }
   ],
   "source": [
    "corr_matrix = x.corr().abs()\n",
    "sol = (corr_matrix.where(np.triu(np.ones(corr_matrix.shape), k=1).astype(np.bool))\n",
    "                 .stack()\n",
    "                 .sort_values(ascending=False))\n",
    "sol = sol.to_frame()\n",
    "sol.columns=['corr']\n",
    "sol[sol['corr'] >  0.8]"
   ]
  },
  {
   "cell_type": "markdown",
   "metadata": {},
   "source": [
    "#### dropping highest correlations and repeating corr matrix evaluation"
   ]
  },
  {
   "cell_type": "code",
   "execution_count": 29,
   "metadata": {},
   "outputs": [
    {
     "data": {
      "text/html": [
       "<div>\n",
       "<style scoped>\n",
       "    .dataframe tbody tr th:only-of-type {\n",
       "        vertical-align: middle;\n",
       "    }\n",
       "\n",
       "    .dataframe tbody tr th {\n",
       "        vertical-align: top;\n",
       "    }\n",
       "\n",
       "    .dataframe thead th {\n",
       "        text-align: right;\n",
       "    }\n",
       "</style>\n",
       "<table border=\"1\" class=\"dataframe\">\n",
       "  <thead>\n",
       "    <tr style=\"text-align: right;\">\n",
       "      <th></th>\n",
       "      <th></th>\n",
       "      <th>corr</th>\n",
       "    </tr>\n",
       "  </thead>\n",
       "  <tbody>\n",
       "    <tr>\n",
       "      <th>money_value</th>\n",
       "      <th>risk_d</th>\n",
       "      <td>0.999936</td>\n",
       "    </tr>\n",
       "    <tr>\n",
       "      <th>para_b</th>\n",
       "      <th>risk_b</th>\n",
       "      <td>0.999936</td>\n",
       "    </tr>\n",
       "    <tr>\n",
       "      <th>para_a</th>\n",
       "      <th>risk_a</th>\n",
       "      <td>0.999267</td>\n",
       "    </tr>\n",
       "    <tr>\n",
       "      <th>para_b</th>\n",
       "      <th>total</th>\n",
       "      <td>0.994101</td>\n",
       "    </tr>\n",
       "    <tr>\n",
       "      <th>risk_b</th>\n",
       "      <th>total</th>\n",
       "      <td>0.994023</td>\n",
       "    </tr>\n",
       "    <tr>\n",
       "      <th>history</th>\n",
       "      <th>risk_f</th>\n",
       "      <td>0.991987</td>\n",
       "    </tr>\n",
       "    <tr>\n",
       "      <th>score_b.1</th>\n",
       "      <th>risk_c</th>\n",
       "      <td>0.990411</td>\n",
       "    </tr>\n",
       "    <tr>\n",
       "      <th>prob</th>\n",
       "      <th>loss</th>\n",
       "      <td>0.981509</td>\n",
       "    </tr>\n",
       "    <tr>\n",
       "      <th>numbers</th>\n",
       "      <th>risk_c</th>\n",
       "      <td>0.955300</td>\n",
       "    </tr>\n",
       "    <tr>\n",
       "      <th>district_loss</th>\n",
       "      <th>risk_e</th>\n",
       "      <td>0.913458</td>\n",
       "    </tr>\n",
       "    <tr>\n",
       "      <th>numbers</th>\n",
       "      <th>score_b.1</th>\n",
       "      <td>0.908132</td>\n",
       "    </tr>\n",
       "    <tr>\n",
       "      <th>score_b</th>\n",
       "      <th>score</th>\n",
       "      <td>0.901220</td>\n",
       "    </tr>\n",
       "    <tr>\n",
       "      <th>history</th>\n",
       "      <th>prob</th>\n",
       "      <td>0.859289</td>\n",
       "    </tr>\n",
       "    <tr>\n",
       "      <th>money_value</th>\n",
       "      <th>inherent_risk</th>\n",
       "      <td>0.829743</td>\n",
       "    </tr>\n",
       "    <tr>\n",
       "      <th>risk_d</th>\n",
       "      <th>inherent_risk</th>\n",
       "      <td>0.829516</td>\n",
       "    </tr>\n",
       "    <tr>\n",
       "      <th>prob</th>\n",
       "      <th>risk_f</th>\n",
       "      <td>0.815603</td>\n",
       "    </tr>\n",
       "  </tbody>\n",
       "</table>\n",
       "</div>"
      ],
      "text/plain": [
       "                                 corr\n",
       "money_value   risk_d         0.999936\n",
       "para_b        risk_b         0.999936\n",
       "para_a        risk_a         0.999267\n",
       "para_b        total          0.994101\n",
       "risk_b        total          0.994023\n",
       "history       risk_f         0.991987\n",
       "score_b.1     risk_c         0.990411\n",
       "prob          loss           0.981509\n",
       "numbers       risk_c         0.955300\n",
       "district_loss risk_e         0.913458\n",
       "numbers       score_b.1      0.908132\n",
       "score_b       score          0.901220\n",
       "history       prob           0.859289\n",
       "money_value   inherent_risk  0.829743\n",
       "risk_d        inherent_risk  0.829516\n",
       "prob          risk_f         0.815603"
      ]
     },
     "execution_count": 29,
     "metadata": {},
     "output_type": "execute_result"
    }
   ],
   "source": [
    "x = x.drop(['district','loss_score','money_marks','marks','history_score'],axis=1)\n",
    "corr_matrix = x.corr().abs()\n",
    "\n",
    "#the matrix is symmetric so we need to extract upper triangle matrix without diagonal (k = 1)\n",
    "sol = (corr_matrix.where(np.triu(np.ones(corr_matrix.shape), k=1).astype(np.bool))\n",
    "                 .stack()\n",
    "                 .sort_values(ascending=False))\n",
    "sol = sol.to_frame()\n",
    "sol.columns=['corr']\n",
    "sol[sol['corr'] >  0.8]"
   ]
  },
  {
   "cell_type": "code",
   "execution_count": 30,
   "metadata": {},
   "outputs": [
    {
     "data": {
      "text/html": [
       "<div>\n",
       "<style scoped>\n",
       "    .dataframe tbody tr th:only-of-type {\n",
       "        vertical-align: middle;\n",
       "    }\n",
       "\n",
       "    .dataframe tbody tr th {\n",
       "        vertical-align: top;\n",
       "    }\n",
       "\n",
       "    .dataframe thead th {\n",
       "        text-align: right;\n",
       "    }\n",
       "</style>\n",
       "<table border=\"1\" class=\"dataframe\">\n",
       "  <thead>\n",
       "    <tr style=\"text-align: right;\">\n",
       "      <th></th>\n",
       "      <th></th>\n",
       "      <th>corr</th>\n",
       "    </tr>\n",
       "  </thead>\n",
       "  <tbody>\n",
       "    <tr>\n",
       "      <th>money_value</th>\n",
       "      <th>risk_d</th>\n",
       "      <td>0.999936</td>\n",
       "    </tr>\n",
       "    <tr>\n",
       "      <th>risk_b</th>\n",
       "      <th>total</th>\n",
       "      <td>0.994023</td>\n",
       "    </tr>\n",
       "    <tr>\n",
       "      <th>history</th>\n",
       "      <th>risk_f</th>\n",
       "      <td>0.991987</td>\n",
       "    </tr>\n",
       "    <tr>\n",
       "      <th>prob</th>\n",
       "      <th>loss</th>\n",
       "      <td>0.981509</td>\n",
       "    </tr>\n",
       "    <tr>\n",
       "      <th>numbers</th>\n",
       "      <th>risk_c</th>\n",
       "      <td>0.955300</td>\n",
       "    </tr>\n",
       "    <tr>\n",
       "      <th>district_loss</th>\n",
       "      <th>risk_e</th>\n",
       "      <td>0.913458</td>\n",
       "    </tr>\n",
       "    <tr>\n",
       "      <th>score_b</th>\n",
       "      <th>score</th>\n",
       "      <td>0.901220</td>\n",
       "    </tr>\n",
       "    <tr>\n",
       "      <th>history</th>\n",
       "      <th>prob</th>\n",
       "      <td>0.859289</td>\n",
       "    </tr>\n",
       "    <tr>\n",
       "      <th>money_value</th>\n",
       "      <th>inherent_risk</th>\n",
       "      <td>0.829743</td>\n",
       "    </tr>\n",
       "    <tr>\n",
       "      <th>risk_d</th>\n",
       "      <th>inherent_risk</th>\n",
       "      <td>0.829516</td>\n",
       "    </tr>\n",
       "    <tr>\n",
       "      <th>prob</th>\n",
       "      <th>risk_f</th>\n",
       "      <td>0.815603</td>\n",
       "    </tr>\n",
       "  </tbody>\n",
       "</table>\n",
       "</div>"
      ],
      "text/plain": [
       "                                 corr\n",
       "money_value   risk_d         0.999936\n",
       "risk_b        total          0.994023\n",
       "history       risk_f         0.991987\n",
       "prob          loss           0.981509\n",
       "numbers       risk_c         0.955300\n",
       "district_loss risk_e         0.913458\n",
       "score_b       score          0.901220\n",
       "history       prob           0.859289\n",
       "money_value   inherent_risk  0.829743\n",
       "risk_d        inherent_risk  0.829516\n",
       "prob          risk_f         0.815603"
      ]
     },
     "execution_count": 30,
     "metadata": {},
     "output_type": "execute_result"
    }
   ],
   "source": [
    "x = x.drop(['para_a','para_b','score_b.1'],axis=1)\n",
    "corr_matrix = x.corr().abs()\n",
    "\n",
    "#the matrix is symmetric so we need to extract upper triangle matrix without diagonal (k = 1)\n",
    "sol = (corr_matrix.where(np.triu(np.ones(corr_matrix.shape), k=1).astype(np.bool))\n",
    "                 .stack()\n",
    "                 .sort_values(ascending=False))\n",
    "sol = sol.to_frame()\n",
    "sol.columns=['corr']\n",
    "sol[sol['corr'] >  0.8]"
   ]
  },
  {
   "cell_type": "code",
   "execution_count": 31,
   "metadata": {},
   "outputs": [
    {
     "data": {
      "text/html": [
       "<div>\n",
       "<style scoped>\n",
       "    .dataframe tbody tr th:only-of-type {\n",
       "        vertical-align: middle;\n",
       "    }\n",
       "\n",
       "    .dataframe tbody tr th {\n",
       "        vertical-align: top;\n",
       "    }\n",
       "\n",
       "    .dataframe thead th {\n",
       "        text-align: right;\n",
       "    }\n",
       "</style>\n",
       "<table border=\"1\" class=\"dataframe\">\n",
       "  <thead>\n",
       "    <tr style=\"text-align: right;\">\n",
       "      <th></th>\n",
       "      <th></th>\n",
       "      <th>corr</th>\n",
       "    </tr>\n",
       "  </thead>\n",
       "  <tbody>\n",
       "    <tr>\n",
       "      <th>prob</th>\n",
       "      <th>loss</th>\n",
       "      <td>0.981509</td>\n",
       "    </tr>\n",
       "    <tr>\n",
       "      <th>numbers</th>\n",
       "      <th>risk_c</th>\n",
       "      <td>0.955300</td>\n",
       "    </tr>\n",
       "    <tr>\n",
       "      <th>district_loss</th>\n",
       "      <th>risk_e</th>\n",
       "      <td>0.913458</td>\n",
       "    </tr>\n",
       "    <tr>\n",
       "      <th>score_b</th>\n",
       "      <th>score</th>\n",
       "      <td>0.901220</td>\n",
       "    </tr>\n",
       "    <tr>\n",
       "      <th>risk_d</th>\n",
       "      <th>inherent_risk</th>\n",
       "      <td>0.829516</td>\n",
       "    </tr>\n",
       "    <tr>\n",
       "      <th>prob</th>\n",
       "      <th>risk_f</th>\n",
       "      <td>0.815603</td>\n",
       "    </tr>\n",
       "  </tbody>\n",
       "</table>\n",
       "</div>"
      ],
      "text/plain": [
       "                                 corr\n",
       "prob          loss           0.981509\n",
       "numbers       risk_c         0.955300\n",
       "district_loss risk_e         0.913458\n",
       "score_b       score          0.901220\n",
       "risk_d        inherent_risk  0.829516\n",
       "prob          risk_f         0.815603"
      ]
     },
     "execution_count": 31,
     "metadata": {},
     "output_type": "execute_result"
    }
   ],
   "source": [
    "x = x.drop(['money_value','total','history'],axis=1)\n",
    "corr_matrix = x.corr().abs()\n",
    "\n",
    "#the matrix is symmetric so we need to extract upper triangle matrix without diagonal (k = 1)\n",
    "sol = (corr_matrix.where(np.triu(np.ones(corr_matrix.shape), k=1).astype(np.bool))\n",
    "                 .stack()\n",
    "                 .sort_values(ascending=False))\n",
    "sol = sol.to_frame()\n",
    "sol.columns=['corr']\n",
    "sol[sol['corr'] >  0.8]"
   ]
  },
  {
   "cell_type": "code",
   "execution_count": 32,
   "metadata": {},
   "outputs": [
    {
     "data": {
      "text/html": [
       "<div>\n",
       "<style scoped>\n",
       "    .dataframe tbody tr th:only-of-type {\n",
       "        vertical-align: middle;\n",
       "    }\n",
       "\n",
       "    .dataframe tbody tr th {\n",
       "        vertical-align: top;\n",
       "    }\n",
       "\n",
       "    .dataframe thead th {\n",
       "        text-align: right;\n",
       "    }\n",
       "</style>\n",
       "<table border=\"1\" class=\"dataframe\">\n",
       "  <thead>\n",
       "    <tr style=\"text-align: right;\">\n",
       "      <th></th>\n",
       "      <th></th>\n",
       "      <th>corr</th>\n",
       "    </tr>\n",
       "  </thead>\n",
       "  <tbody>\n",
       "    <tr>\n",
       "      <th>risk_d</th>\n",
       "      <th>inherent_risk</th>\n",
       "      <td>0.829516</td>\n",
       "    </tr>\n",
       "    <tr>\n",
       "      <th>prob</th>\n",
       "      <th>risk_f</th>\n",
       "      <td>0.815603</td>\n",
       "    </tr>\n",
       "  </tbody>\n",
       "</table>\n",
       "</div>"
      ],
      "text/plain": [
       "                          corr\n",
       "risk_d inherent_risk  0.829516\n",
       "prob   risk_f         0.815603"
      ]
     },
     "execution_count": 32,
     "metadata": {},
     "output_type": "execute_result"
    }
   ],
   "source": [
    "x = x.drop(['loss','numbers','district_loss','score'],axis=1)\n",
    "corr_matrix = x.corr().abs()\n",
    "\n",
    "#the matrix is symmetric so we need to extract upper triangle matrix without diagonal (k = 1)\n",
    "sol = (corr_matrix.where(np.triu(np.ones(corr_matrix.shape), k=1).astype(np.bool))\n",
    "                 .stack()\n",
    "                 .sort_values(ascending=False))\n",
    "sol = sol.to_frame()\n",
    "sol.columns=['corr']\n",
    "sol[sol['corr'] >  0.8]"
   ]
  },
  {
   "cell_type": "code",
   "execution_count": 33,
   "metadata": {},
   "outputs": [
    {
     "data": {
      "text/html": [
       "<div>\n",
       "<style scoped>\n",
       "    .dataframe tbody tr th:only-of-type {\n",
       "        vertical-align: middle;\n",
       "    }\n",
       "\n",
       "    .dataframe tbody tr th {\n",
       "        vertical-align: top;\n",
       "    }\n",
       "\n",
       "    .dataframe thead th {\n",
       "        text-align: right;\n",
       "    }\n",
       "</style>\n",
       "<table border=\"1\" class=\"dataframe\">\n",
       "  <thead>\n",
       "    <tr style=\"text-align: right;\">\n",
       "      <th></th>\n",
       "      <th></th>\n",
       "      <th>corr</th>\n",
       "    </tr>\n",
       "  </thead>\n",
       "  <tbody>\n",
       "  </tbody>\n",
       "</table>\n",
       "</div>"
      ],
      "text/plain": [
       "Empty DataFrame\n",
       "Columns: [corr]\n",
       "Index: []"
      ]
     },
     "execution_count": 33,
     "metadata": {},
     "output_type": "execute_result"
    }
   ],
   "source": [
    "x = x.drop(['inherent_risk','prob'],axis=1)\n",
    "corr_matrix = x.corr().abs()\n",
    "\n",
    "#the matrix is symmetric so we need to extract upper triangle matrix without diagonal (k = 1)\n",
    "sol = (corr_matrix.where(np.triu(np.ones(corr_matrix.shape), k=1).astype(np.bool))\n",
    "                 .stack()\n",
    "                 .sort_values(ascending=False))\n",
    "sol = sol.to_frame()\n",
    "sol.columns=['corr']\n",
    "sol[sol['corr'] >  0.8]"
   ]
  },
  {
   "cell_type": "code",
   "execution_count": 34,
   "metadata": {},
   "outputs": [
    {
     "data": {
      "text/plain": [
       "(775, 13)"
      ]
     },
     "execution_count": 34,
     "metadata": {},
     "output_type": "execute_result"
    }
   ],
   "source": [
    "x.shape"
   ]
  },
  {
   "cell_type": "markdown",
   "metadata": {},
   "source": [
    "#### making train test splits and scaling the data\n",
    "#### using min max scaling as the data is non-gaussian"
   ]
  },
  {
   "cell_type": "code",
   "execution_count": 35,
   "metadata": {},
   "outputs": [],
   "source": [
    "from sklearn.model_selection import train_test_split\n",
    "\n",
    "# default is 75% / 25% train-test split\n",
    "x_train_reg, x_test_reg, y_train_reg, y_test_reg = train_test_split(x,  y_reg, random_state=0)\n",
    "x_train_class, x_test_class, y_train_class, y_test_class = train_test_split(x, y_class, random_state=0)"
   ]
  },
  {
   "cell_type": "code",
   "execution_count": 36,
   "metadata": {},
   "outputs": [
    {
     "name": "stderr",
     "output_type": "stream",
     "text": [
      "c:\\users\\navarurh\\appdata\\local\\programs\\python\\python36\\lib\\site-packages\\sklearn\\preprocessing\\data.py:334: DataConversionWarning: Data with input dtype float64, object were all converted to float64 by MinMaxScaler.\n",
      "  return self.partial_fit(X, y)\n",
      "c:\\users\\navarurh\\appdata\\local\\programs\\python\\python36\\lib\\site-packages\\sklearn\\preprocessing\\data.py:334: DataConversionWarning: Data with input dtype float64, object were all converted to float64 by MinMaxScaler.\n",
      "  return self.partial_fit(X, y)\n"
     ]
    }
   ],
   "source": [
    "from sklearn.preprocessing import MinMaxScaler\n",
    "scaler = MinMaxScaler()\n",
    "\n",
    "x_train_reg = scaler.fit_transform(x_train_reg)\n",
    "x_test_reg = scaler.transform(x_test_reg)\n",
    "\n",
    "x_train_class = scaler.fit_transform(x_train_class)\n",
    "x_test_class = scaler.transform(x_test_class)"
   ]
  },
  {
   "cell_type": "markdown",
   "metadata": {},
   "source": [
    "# Classification models"
   ]
  },
  {
   "cell_type": "markdown",
   "metadata": {},
   "source": [
    "## k nearest neighbors"
   ]
  },
  {
   "cell_type": "code",
   "execution_count": 37,
   "metadata": {},
   "outputs": [],
   "source": [
    "from sklearn.neighbors import KNeighborsClassifier\n",
    "\n",
    "train_score_array = []\n",
    "test_score_array = []\n",
    "\n",
    "for k in range(1,20):\n",
    "    knn = KNeighborsClassifier(k)\n",
    "    knn.fit(x_train_class, y_train_class)\n",
    "    train_score_array.append(knn.score(x_train_class, y_train_class))\n",
    "    test_score_array.append(knn.score(x_test_class, y_test_class))"
   ]
  },
  {
   "cell_type": "code",
   "execution_count": 38,
   "metadata": {},
   "outputs": [
    {
     "data": {
      "text/plain": [
       "<matplotlib.legend.Legend at 0x1cd3c6c13c8>"
      ]
     },
     "execution_count": 38,
     "metadata": {},
     "output_type": "execute_result"
    },
    {
     "data": {
      "image/png": "[encoded data removed]",
      "text/plain": [
       "<Figure size 432x288 with 1 Axes>"
      ]
     },
     "metadata": {
      "needs_background": "light"
     },
     "output_type": "display_data"
    }
   ],
   "source": [
    "import matplotlib.pyplot as plt\n",
    "x_axis = range(1,20)\n",
    "%matplotlib inline\n",
    "plt.plot(x_axis, train_score_array, label = 'Train Score', c = 'g')\n",
    "plt.plot(x_axis, test_score_array, label = 'Test Score', c='b')\n",
    "plt.xlabel('k')\n",
    "plt.ylabel('Accuracy')\n",
    "plt.legend()"
   ]
  },
  {
   "cell_type": "code",
   "execution_count": 39,
   "metadata": {},
   "outputs": [
    {
     "name": "stdout",
     "output_type": "stream",
     "text": [
      "Train score: 0.9862\n",
      "Test score: 0.9536\n"
     ]
    }
   ],
   "source": [
    "knn = KNeighborsClassifier(3)\n",
    "knn.fit(x_train_class, y_train_class)\n",
    "print('Train score: {:.4f}'.format(knn.score(x_train_class, y_train_class)))\n",
    "print('Test score: {:.4f}'.format(knn.score(x_test_class, y_test_class)))"
   ]
  },
  {
   "cell_type": "markdown",
   "metadata": {},
   "source": [
    "#### knn at k=3\n",
    "#### Train score: 0.9862\n",
    "#### Test score: 0.9536"
   ]
  },
  {
   "cell_type": "markdown",
   "metadata": {},
   "source": [
    "## Logistic Regression"
   ]
  },
  {
   "cell_type": "code",
   "execution_count": 40,
   "metadata": {},
   "outputs": [
    {
     "data": {
      "text/plain": [
       "0.3935483870967742"
      ]
     },
     "execution_count": 40,
     "metadata": {},
     "output_type": "execute_result"
    }
   ],
   "source": [
    "y_class.sum()/len(y_class)"
   ]
  },
  {
   "cell_type": "code",
   "execution_count": 41,
   "metadata": {},
   "outputs": [
    {
     "name": "stderr",
     "output_type": "stream",
     "text": [
      "c:\\users\\navarurh\\appdata\\local\\programs\\python\\python36\\lib\\site-packages\\sklearn\\svm\\base.py:931: ConvergenceWarning: Liblinear failed to converge, increase the number of iterations.\n",
      "  \"the number of iterations.\", ConvergenceWarning)\n"
     ]
    }
   ],
   "source": [
    "from sklearn.linear_model import LogisticRegression\n",
    "\n",
    "c_range = [0.001, 0.01, 0.1, 1, 10, 100, 1000]\n",
    "train_score_l1 = []\n",
    "train_score_l2 = []\n",
    "test_score_l1 = []\n",
    "test_score_l2 = []\n",
    "\n",
    "for c in c_range:\n",
    "    log_l1 = LogisticRegression(penalty = 'l1', C = c)\n",
    "    log_l2 = LogisticRegression(penalty = 'l2', C = c)\n",
    "    log_l1.fit(x_train_class, y_train_class)\n",
    "    log_l2.fit(x_train_class, y_train_class)\n",
    "    train_score_l1.append(log_l1.score(x_train_class, y_train_class))\n",
    "    train_score_l2.append(log_l2.score(x_train_class, y_train_class))\n",
    "    test_score_l1.append(log_l1.score(x_test_class, y_test_class))\n",
    "    test_score_l2.append(log_l2.score(x_test_class, y_test_class))"
   ]
  },
  {
   "cell_type": "code",
   "execution_count": 42,
   "metadata": {},
   "outputs": [
    {
     "data": {
      "image/png": "[encoded data removed]",
      "text/plain": [
       "<Figure size 432x288 with 1 Axes>"
      ]
     },
     "metadata": {
      "needs_background": "light"
     },
     "output_type": "display_data"
    }
   ],
   "source": [
    "import matplotlib.pyplot as plt\n",
    "%matplotlib inline\n",
    "\n",
    "plt.plot(c_range, train_score_l1, label = 'Train score, penalty = l1')\n",
    "plt.plot(c_range, test_score_l1, label = 'Test score, penalty = l1')\n",
    "plt.plot(c_range, train_score_l2, label = 'Train score, penalty = l2')\n",
    "plt.plot(c_range, test_score_l2, label = 'Test score, penalty = l2')\n",
    "plt.legend()\n",
    "plt.xlabel('Regularization parameter: C')\n",
    "plt.ylabel('Accuracy')\n",
    "plt.xscale('log')"
   ]
  },
  {
   "cell_type": "markdown",
   "metadata": {},
   "source": [
    "#### L1 at c=100"
   ]
  },
  {
   "cell_type": "code",
   "execution_count": 43,
   "metadata": {},
   "outputs": [
    {
     "name": "stdout",
     "output_type": "stream",
     "text": [
      "0.9931153184165232\n",
      "0.9896907216494846\n"
     ]
    }
   ],
   "source": [
    "print(train_score_l1[5])\n",
    "print(test_score_l1[5])"
   ]
  },
  {
   "cell_type": "markdown",
   "metadata": {},
   "source": [
    "## Support Vector Classifier"
   ]
  },
  {
   "cell_type": "code",
   "execution_count": 44,
   "metadata": {},
   "outputs": [],
   "source": [
    "from sklearn.svm import SVC\n",
    "c_range = [0.001,0.01,0.1,1,2,4,10,20,40,80,100]\n",
    "train_score = []\n",
    "test_score = []\n",
    "\n",
    "for c in c_range:\n",
    "    clf = SVC(gamma='auto',C=c)\n",
    "    clf.fit(x_train_class,y_train_class)\n",
    "    train_score.append(clf.score(x_train_class, y_train_class))\n",
    "    test_score.append(clf.score(x_test_class, y_test_class))"
   ]
  },
  {
   "cell_type": "code",
   "execution_count": 45,
   "metadata": {},
   "outputs": [
    {
     "data": {
      "text/plain": [
       "Text(0, 0.5, 'Accuracy')"
      ]
     },
     "execution_count": 45,
     "metadata": {},
     "output_type": "execute_result"
    },
    {
     "data": {
      "image/png": "[encoded data removed]",
      "text/plain": [
       "<Figure size 432x288 with 1 Axes>"
      ]
     },
     "metadata": {
      "needs_background": "light"
     },
     "output_type": "display_data"
    }
   ],
   "source": [
    "import matplotlib.pyplot as plt\n",
    "%matplotlib inline\n",
    "\n",
    "plt.plot(c_range, train_score, label = 'Train score')\n",
    "plt.plot(c_range, test_score, label = 'Test score')\n",
    "plt.legend()\n",
    "plt.xlabel('Penalty Parameter C')\n",
    "plt.ylabel('Accuracy')"
   ]
  },
  {
   "cell_type": "markdown",
   "metadata": {},
   "source": [
    "#### c=10 best penalty param"
   ]
  },
  {
   "cell_type": "code",
   "execution_count": 46,
   "metadata": {},
   "outputs": [
    {
     "name": "stdout",
     "output_type": "stream",
     "text": [
      "0.9741824440619621\n",
      "0.9639175257731959\n",
      "0.9639175257731959\n"
     ]
    }
   ],
   "source": [
    "print(max(train_score))\n",
    "print(max(test_score))\n",
    "print(test_score[10])"
   ]
  },
  {
   "cell_type": "markdown",
   "metadata": {},
   "source": [
    "## Kerenilzed Support Vector Machine"
   ]
  },
  {
   "cell_type": "code",
   "execution_count": 47,
   "metadata": {},
   "outputs": [
    {
     "data": {
      "text/plain": [
       "Text(0, 0.5, 'Accuracy')"
      ]
     },
     "execution_count": 47,
     "metadata": {},
     "output_type": "execute_result"
    },
    {
     "data": {
      "image/png": "[encoded data removed]",
      "text/plain": [
       "<Figure size 432x288 with 1 Axes>"
      ]
     },
     "metadata": {
      "needs_background": "light"
     },
     "output_type": "display_data"
    }
   ],
   "source": [
    "train_score = []\n",
    "test_score = []\n",
    "\n",
    "for c in c_range:\n",
    "    clf = SVC(gamma='auto',C=c,kernel='linear')\n",
    "    clf.fit(x_train_class,y_train_class)\n",
    "    train_score.append(clf.score(x_train_class, y_train_class))\n",
    "    test_score.append(clf.score(x_test_class, y_test_class))\n",
    "    \n",
    "import matplotlib.pyplot as plt\n",
    "%matplotlib inline\n",
    "\n",
    "plt.plot(c_range, train_score, label = 'Train score')\n",
    "plt.plot(c_range, test_score, label = 'Test score')\n",
    "plt.legend()\n",
    "plt.xlabel('Penalty Parameter C')\n",
    "plt.ylabel('Accuracy')"
   ]
  },
  {
   "cell_type": "code",
   "execution_count": 48,
   "metadata": {},
   "outputs": [
    {
     "data": {
      "text/plain": [
       "Text(0, 0.5, 'Accuracy')"
      ]
     },
     "execution_count": 48,
     "metadata": {},
     "output_type": "execute_result"
    },
    {
     "data": {
      "image/png": "[encoded data removed]",
      "text/plain": [
       "<Figure size 432x288 with 1 Axes>"
      ]
     },
     "metadata": {
      "needs_background": "light"
     },
     "output_type": "display_data"
    }
   ],
   "source": [
    "train_score = []\n",
    "test_score = []\n",
    "\n",
    "for c in c_range:\n",
    "    clf = SVC(gamma='auto',C=c,kernel='sigmoid')\n",
    "    clf.fit(x_train_class,y_train_class)\n",
    "    train_score.append(clf.score(x_train_class, y_train_class))\n",
    "    test_score.append(clf.score(x_test_class, y_test_class))\n",
    "    \n",
    "import matplotlib.pyplot as plt\n",
    "%matplotlib inline\n",
    "\n",
    "plt.plot(c_range, train_score, label = 'Train score')\n",
    "plt.plot(c_range, test_score, label = 'Test score')\n",
    "plt.legend()\n",
    "plt.xlabel('Penalty Parameter C')\n",
    "plt.ylabel('Accuracy')"
   ]
  },
  {
   "cell_type": "code",
   "execution_count": 49,
   "metadata": {},
   "outputs": [
    {
     "data": {
      "text/plain": [
       "Text(0, 0.5, 'Accuracy')"
      ]
     },
     "execution_count": 49,
     "metadata": {},
     "output_type": "execute_result"
    },
    {
     "data": {
      "image/png": "[encoded data removed]",
      "text/plain": [
       "<Figure size 432x288 with 1 Axes>"
      ]
     },
     "metadata": {
      "needs_background": "light"
     },
     "output_type": "display_data"
    }
   ],
   "source": [
    "train_score = []\n",
    "test_score = []\n",
    "\n",
    "for c in c_range:\n",
    "    clf = SVC(gamma='auto',C=c,kernel='rbf')\n",
    "    clf.fit(x_train_class,y_train_class)\n",
    "    train_score.append(clf.score(x_train_class, y_train_class))\n",
    "    test_score.append(clf.score(x_test_class, y_test_class))\n",
    "    \n",
    "import matplotlib.pyplot as plt\n",
    "%matplotlib inline\n",
    "\n",
    "plt.plot(c_range, train_score, label = 'Train score')\n",
    "plt.plot(c_range, test_score, label = 'Test score')\n",
    "plt.legend()\n",
    "plt.xlabel('Penalty Parameter C')\n",
    "plt.ylabel('Accuracy')"
   ]
  },
  {
   "cell_type": "code",
   "execution_count": 50,
   "metadata": {},
   "outputs": [
    {
     "data": {
      "text/plain": [
       "Text(0, 0.5, 'Accuracy')"
      ]
     },
     "execution_count": 50,
     "metadata": {},
     "output_type": "execute_result"
    },
    {
     "data": {
      "image/png": "[encoded data removed]",
      "text/plain": [
       "<Figure size 432x288 with 1 Axes>"
      ]
     },
     "metadata": {
      "needs_background": "light"
     },
     "output_type": "display_data"
    }
   ],
   "source": [
    "train_score = []\n",
    "test_score = []\n",
    "\n",
    "for c in c_range:\n",
    "    clf = SVC(gamma='auto',C=c,kernel='poly',degree=4)\n",
    "    clf.fit(x_train_class,y_train_class)\n",
    "    train_score.append(clf.score(x_train_class, y_train_class))\n",
    "    test_score.append(clf.score(x_test_class, y_test_class))\n",
    "    \n",
    "import matplotlib.pyplot as plt\n",
    "%matplotlib inline\n",
    "\n",
    "plt.plot(c_range, train_score, label = 'Train score')\n",
    "plt.plot(c_range, test_score, label = 'Test score')\n",
    "plt.legend()\n",
    "plt.xlabel('Penalty Parameter C')\n",
    "plt.ylabel('Accuracy')"
   ]
  },
  {
   "cell_type": "markdown",
   "metadata": {},
   "source": [
    "## Decision Tree"
   ]
  },
  {
   "cell_type": "code",
   "execution_count": 51,
   "metadata": {},
   "outputs": [],
   "source": [
    "from sklearn.tree import DecisionTreeClassifier\n",
    "depth_range = [1,2,3,4,5,6,7,8,9,10]\n",
    "train_score = []\n",
    "test_score = []\n",
    "\n",
    "for d in depth_range:\n",
    "    dtree = DecisionTreeClassifier(random_state=0,max_depth=d)\n",
    "    dtree.fit(x_train_class, y_train_class)    \n",
    "    train_score.append(dtree.score(x_train_class, y_train_class))\n",
    "    test_score.append(dtree.score(x_test_class, y_test_class))"
   ]
  },
  {
   "cell_type": "code",
   "execution_count": 52,
   "metadata": {},
   "outputs": [
    {
     "data": {
      "image/png": "[encoded data removed]",
      "text/plain": [
       "<Figure size 432x288 with 1 Axes>"
      ]
     },
     "metadata": {
      "needs_background": "light"
     },
     "output_type": "display_data"
    }
   ],
   "source": [
    "%matplotlib inline\n",
    "def plot_feature_importances(model):\n",
    "    n_features = x_train_class.shape[1]\n",
    "    plt.barh(range(n_features), model.feature_importances_, align='center')\n",
    "    plt.yticks(np.arange(n_features), list(x))\n",
    "    plt.xlabel(\"Feature importance\")\n",
    "    plt.ylabel(\"Feature\")\n",
    "    plt.ylim(-1, n_features)\n",
    "\n",
    "plot_feature_importances(dtree)"
   ]
  },
  {
   "cell_type": "code",
   "execution_count": 53,
   "metadata": {},
   "outputs": [
    {
     "data": {
      "text/plain": [
       "Text(0, 0.5, 'Accuracy')"
      ]
     },
     "execution_count": 53,
     "metadata": {},
     "output_type": "execute_result"
    },
    {
     "data": {
      "image/png": "[encoded data removed]",
      "text/plain": [
       "<Figure size 432x288 with 1 Axes>"
      ]
     },
     "metadata": {
      "needs_background": "light"
     },
     "output_type": "display_data"
    }
   ],
   "source": [
    "import matplotlib.pyplot as plt\n",
    "%matplotlib inline\n",
    "\n",
    "plt.plot(depth_range, train_score, label = 'Train score')\n",
    "plt.plot(depth_range, test_score, label = 'Test score')\n",
    "plt.legend()\n",
    "plt.xlabel('Depth of Tree')\n",
    "plt.ylabel('Accuracy')"
   ]
  },
  {
   "cell_type": "code",
   "execution_count": 54,
   "metadata": {},
   "outputs": [
    {
     "name": "stdout",
     "output_type": "stream",
     "text": [
      "0.9896729776247849\n",
      "0.9381443298969072\n"
     ]
    }
   ],
   "source": [
    "print(train_score[4])\n",
    "print(test_score[4])"
   ]
  },
  {
   "cell_type": "markdown",
   "metadata": {},
   "source": [
    "### Best classifier model is the Logistic Regressor\n",
    "### This has a an accuracy of 0.989 with the L1 penalty at C=100"
   ]
  },
  {
   "cell_type": "markdown",
   "metadata": {},
   "source": [
    "# Linear Models"
   ]
  },
  {
   "cell_type": "markdown",
   "metadata": {},
   "source": [
    "## Linear Regression Normal Equation"
   ]
  },
  {
   "cell_type": "code",
   "execution_count": 55,
   "metadata": {},
   "outputs": [
    {
     "name": "stdout",
     "output_type": "stream",
     "text": [
      "R-squared score (training): 0.7789\n",
      "R-squared score (test): 0.4314\n"
     ]
    },
    {
     "data": {
      "text/plain": [
       "Text(0.5, 0, 'RM')"
      ]
     },
     "execution_count": 55,
     "metadata": {},
     "output_type": "execute_result"
    },
    {
     "data": {
      "image/png": "[encoded data removed]",
      "text/plain": [
       "<Figure size 432x288 with 1 Axes>"
      ]
     },
     "metadata": {
      "needs_background": "light"
     },
     "output_type": "display_data"
    }
   ],
   "source": [
    "from sklearn.linear_model import LinearRegression\n",
    "\n",
    "lreg = LinearRegression()\n",
    "lreg.fit(x_train_reg, y_train_reg)\n",
    "\n",
    "print('R-squared score (training): {:.4f}'\n",
    "     .format(lreg.score(x_train_reg, y_train_reg)))\n",
    "print('R-squared score (test): {:.4f}'\n",
    "     .format(lreg.score(x_test_reg, y_test_reg)))\n",
    "\n",
    "%matplotlib inline\n",
    "import matplotlib.pyplot as plt\n",
    "\n",
    "x_train_rm = x_train_reg[:,11].reshape(-1,1)\n",
    "lreg.fit(x_train_rm, y_train_reg)\n",
    "y_predict = lreg.predict(x_train_rm)\n",
    "\n",
    "plt.plot(x_train_rm, y_predict, c = 'r')\n",
    "plt.scatter(x_train_rm,y_train_reg)\n",
    "plt.xlabel('RM')"
   ]
  },
  {
   "cell_type": "markdown",
   "metadata": {},
   "source": [
    "## KNN regressor"
   ]
  },
  {
   "cell_type": "code",
   "execution_count": 56,
   "metadata": {},
   "outputs": [
    {
     "name": "stdout",
     "output_type": "stream",
     "text": [
      "Best parameters: {'n_neighbors': 4}\n",
      "Mean Train Score [1.         0.87108842 0.79308979 0.72564629 0.68226394 0.63175206\n",
      " 0.60431823 0.57544438 0.55850638 0.55189336 0.53739416 0.51782747\n",
      " 0.50372178 0.49132711 0.48258749]\n",
      "Mean Test Score [0.51850176 0.54491562 0.54554262 0.55721521 0.55023872 0.54159271\n",
      " 0.48362004 0.48835211 0.49470927 0.45992837 0.46296482 0.47664074\n",
      " 0.47226218 0.46698533 0.46505208]\n",
      "R-squared score (training): 0.761\n",
      "R-squared score (test): 0.130\n"
     ]
    },
    {
     "name": "stderr",
     "output_type": "stream",
     "text": [
      "c:\\users\\navarurh\\appdata\\local\\programs\\python\\python36\\lib\\site-packages\\sklearn\\model_selection\\_search.py:841: DeprecationWarning: The default of the `iid` parameter will change from True to False in version 0.22 and will be removed in 0.24. This will change numeric results when test-set sizes are unequal.\n",
      "  DeprecationWarning)\n"
     ]
    }
   ],
   "source": [
    "from sklearn.neighbors import KNeighborsRegressor\n",
    "from sklearn.model_selection import cross_val_score\n",
    "from sklearn.model_selection import GridSearchCV\n",
    "\n",
    "param_grid = {'n_neighbors': [1,2,3,4,5,6,7,8,9,10,11,12,13,14,15]}\n",
    "\n",
    "grid_knn = GridSearchCV(KNeighborsRegressor(), param_grid, cv=5, return_train_score=True)\n",
    "grid_knn.fit(x_train_reg, y_train_reg)\n",
    "print(\"Best parameters: {}\".format(grid_knn.best_params_))\n",
    "\n",
    "print('Mean Train Score',grid_knn.cv_results_['mean_train_score'])\n",
    "print('Mean Test Score',grid_knn.cv_results_['mean_test_score'])\n",
    "print('R-squared score (training): {:.3f}'\n",
    "     .format(grid_knn.score(x_train_reg, y_train_reg)))\n",
    "print('R-squared score (test): {:.3f}'\n",
    "     .format(grid_knn.score(x_test_reg, y_test_reg)))"
   ]
  },
  {
   "cell_type": "code",
   "execution_count": 57,
   "metadata": {},
   "outputs": [
    {
     "name": "stdout",
     "output_type": "stream",
     "text": [
      "Train Score k-3: 0.8316368053723135\n",
      "Train Score k-4: 0.7613069816319613\n",
      "Test Score k-3: 0.1597751627149494\n",
      "Test Score k-4: 0.12976319276109838\n"
     ]
    },
    {
     "data": {
      "text/plain": [
       "Text(0, 0.5, 'RSQ')"
      ]
     },
     "execution_count": 57,
     "metadata": {},
     "output_type": "execute_result"
    },
    {
     "data": {
      "image/png": "[encoded data removed]",
      "text/plain": [
       "<Figure size 432x288 with 1 Axes>"
      ]
     },
     "metadata": {
      "needs_background": "light"
     },
     "output_type": "display_data"
    }
   ],
   "source": [
    "from sklearn.neighbors import KNeighborsRegressor\n",
    "%matplotlib inline\n",
    "train_score_array = []\n",
    "test_score_array = []\n",
    "\n",
    "for k in range(1,15):\n",
    "    knn_reg = KNeighborsRegressor(k)\n",
    "    knn_reg.fit(x_train_reg, y_train_reg)\n",
    "    train_score_array.append(knn_reg.score(x_train_reg, y_train_reg))\n",
    "    test_score_array.append(knn_reg.score(x_test_reg, y_test_reg))\n",
    "\n",
    "print('Train Score k-3:',train_score_array[2])\n",
    "print('Train Score k-4:',train_score_array[3])\n",
    "print('Test Score k-3:',test_score_array[2])\n",
    "print('Test Score k-4:',test_score_array[3])\n",
    "    \n",
    "x_axis = range(1,15)\n",
    "plt.plot(x_axis, train_score_array, c = 'g', label = 'Train Score')\n",
    "plt.plot(x_axis, test_score_array, c = 'b', label = 'Test Score')\n",
    "plt.legend()\n",
    "plt.xlabel('k')\n",
    "plt.ylabel('RSQ')\n"
   ]
  },
  {
   "cell_type": "markdown",
   "metadata": {},
   "source": [
    "## Ridge"
   ]
  },
  {
   "cell_type": "code",
   "execution_count": 58,
   "metadata": {},
   "outputs": [
    {
     "name": "stdout",
     "output_type": "stream",
     "text": [
      "Best parameters: {'alpha': 10}\n",
      "R-squared score (training): 0.5712\n",
      "R-squared score (test): 0.2791\n"
     ]
    },
    {
     "name": "stderr",
     "output_type": "stream",
     "text": [
      "c:\\users\\navarurh\\appdata\\local\\programs\\python\\python36\\lib\\site-packages\\sklearn\\model_selection\\_search.py:841: DeprecationWarning: The default of the `iid` parameter will change from True to False in version 0.22 and will be removed in 0.24. This will change numeric results when test-set sizes are unequal.\n",
      "  DeprecationWarning)\n"
     ]
    }
   ],
   "source": [
    "from sklearn.linear_model import Ridge\n",
    "\n",
    "param_grid = {'alpha': [0.001, 0.01, 0.1, 1, 10, 100]}\n",
    "grid_ridge = GridSearchCV(Ridge(), param_grid, cv=5, return_train_score=True)\n",
    "grid_ridge.fit(x_train_reg, y_train_reg)\n",
    "\n",
    "print(\"Best parameters: {}\".format(grid_ridge.best_params_))\n",
    "\n",
    "print('R-squared score (training): {:.4f}'\n",
    "     .format(grid_ridge.score(x_train_reg, y_train_reg)))\n",
    "print('R-squared score (test): {:.4f}'\n",
    "     .format(grid_ridge.score(x_test_reg, y_test_reg)))"
   ]
  },
  {
   "cell_type": "code",
   "execution_count": 59,
   "metadata": {},
   "outputs": [
    {
     "data": {
      "text/plain": [
       "Text(0.5, 0, '$\\\\alpha$')"
      ]
     },
     "execution_count": 59,
     "metadata": {},
     "output_type": "execute_result"
    },
    {
     "data": {
      "image/png": "[encoded data removed]",
      "text/plain": [
       "<Figure size 432x288 with 1 Axes>"
      ]
     },
     "metadata": {
      "needs_background": "light"
     },
     "output_type": "display_data"
    }
   ],
   "source": [
    "from  sklearn.linear_model import Ridge\n",
    "\n",
    "x_range = [0.01, 0.1, 1, 10, 100]\n",
    "train_score_list = []\n",
    "test_score_list = []\n",
    "\n",
    "for alpha in x_range: \n",
    "    ridge = Ridge(alpha)\n",
    "    ridge.fit(x_train_reg,y_train_reg)\n",
    "    train_score_list.append(ridge.score(x_train_reg,y_train_reg))\n",
    "    test_score_list.append(ridge.score(x_test_reg, y_test_reg))\n",
    "    \n",
    "%matplotlib inline\n",
    "plt.plot(x_range, train_score_list, c = 'g', label = 'Train Score')\n",
    "plt.plot(x_range, test_score_list, c = 'b', label = 'Test Score')\n",
    "plt.xscale('log')\n",
    "plt.legend(loc = 3)\n",
    "plt.xlabel(r'$\\alpha$')"
   ]
  },
  {
   "cell_type": "code",
   "execution_count": 60,
   "metadata": {},
   "outputs": [
    {
     "name": "stdout",
     "output_type": "stream",
     "text": [
      "[0.01, 0.1, 1, 10, 100]\n",
      "[0.7788739391486147, 0.7782849977994811, 0.7539203410062032, 0.5712269975595887, 0.3182321396434239]\n",
      "[0.4313733483392206, 0.43093782943526204, 0.4180323502874692, 0.2790857444567325, 0.09639360289898202]\n"
     ]
    }
   ],
   "source": [
    "print (x_range)\n",
    "print(train_score_list)\n",
    "print(test_score_list)"
   ]
  },
  {
   "cell_type": "markdown",
   "metadata": {},
   "source": [
    "## Lasso"
   ]
  },
  {
   "cell_type": "code",
   "execution_count": 61,
   "metadata": {},
   "outputs": [
    {
     "name": "stdout",
     "output_type": "stream",
     "text": [
      "Best parameters: {'alpha': 0.1, 'max_iter': 10000}\n",
      "R-squared score (training): 0.7569\n",
      "R-squared score (test): 0.3404\n"
     ]
    },
    {
     "name": "stderr",
     "output_type": "stream",
     "text": [
      "c:\\users\\navarurh\\appdata\\local\\programs\\python\\python36\\lib\\site-packages\\sklearn\\model_selection\\_search.py:841: DeprecationWarning: The default of the `iid` parameter will change from True to False in version 0.22 and will be removed in 0.24. This will change numeric results when test-set sizes are unequal.\n",
      "  DeprecationWarning)\n",
      "c:\\users\\navarurh\\appdata\\local\\programs\\python\\python36\\lib\\site-packages\\sklearn\\model_selection\\_search.py:841: DeprecationWarning: The default of the `iid` parameter will change from True to False in version 0.22 and will be removed in 0.24. This will change numeric results when test-set sizes are unequal.\n",
      "  DeprecationWarning)\n"
     ]
    },
    {
     "data": {
      "text/plain": [
       "Text(0.5, 0, 'RM')"
      ]
     },
     "execution_count": 61,
     "metadata": {},
     "output_type": "execute_result"
    },
    {
     "data": {
      "image/png": "[encoded data removed]",
      "text/plain": [
       "<Figure size 432x288 with 1 Axes>"
      ]
     },
     "metadata": {
      "needs_background": "light"
     },
     "output_type": "display_data"
    }
   ],
   "source": [
    "from sklearn.linear_model import Lasso\n",
    "param_grid = {'alpha': [0.01, 0.1, 1, 10, 100], 'max_iter':[10000]}\n",
    "\n",
    "grid_lasso = GridSearchCV(Lasso(), param_grid, cv=5, return_train_score=True)\n",
    "grid_lasso.fit(x_train_reg, y_train_reg)\n",
    "\n",
    "print(\"Best parameters: {}\".format(grid_lasso.best_params_))\n",
    "\n",
    "print('R-squared score (training): {:.4f}'\n",
    "     .format(grid_lasso.score(x_train_reg, y_train_reg)))\n",
    "print('R-squared score (test): {:.4f}'\n",
    "     .format(grid_lasso.score(x_test_reg, y_test_reg)))\n",
    "\n",
    "%matplotlib inline\n",
    "import matplotlib.pyplot as plt\n",
    "\n",
    "X_train_rm = x_train_reg[:,11].reshape(-1,1)\n",
    "X_test_rm = x_test_reg[:,11].reshape(-1,1)\n",
    "grid_lasso.fit(X_train_rm, y_train_reg)\n",
    "y_predict = grid_lasso.predict(X_train_rm)\n",
    "\n",
    "plt.plot(X_train_rm, y_predict, c = 'r')\n",
    "plt.scatter(X_train_rm,y_train_reg)\n",
    "plt.xlabel('RM')"
   ]
  },
  {
   "cell_type": "code",
   "execution_count": 62,
   "metadata": {},
   "outputs": [
    {
     "data": {
      "text/plain": [
       "<matplotlib.legend.Legend at 0x1cd3de1ef98>"
      ]
     },
     "execution_count": 62,
     "metadata": {},
     "output_type": "execute_result"
    },
    {
     "data": {
      "image/png": "[encoded data removed]",
      "text/plain": [
       "<Figure size 432x288 with 1 Axes>"
      ]
     },
     "metadata": {
      "needs_background": "light"
     },
     "output_type": "display_data"
    }
   ],
   "source": [
    "from sklearn.linear_model import Lasso\n",
    "x_range = [0.01, 0.1, 1, 10, 100]\n",
    "train_score_list = []\n",
    "test_score_list = []\n",
    "\n",
    "for alpha in x_range: \n",
    "    lasso = Lasso(alpha)\n",
    "    lasso.fit(x_train_reg,y_train_reg)\n",
    "    train_score_list.append(lasso.score(x_train_reg,y_train_reg))\n",
    "    test_score_list.append(lasso.score(x_test_reg, y_test_reg))\n",
    "    \n",
    "%matplotlib inline\n",
    "plt.plot(x_range, train_score_list, c = 'g', label = 'Train Score')\n",
    "plt.plot(x_range, test_score_list, c = 'b', label = 'Test Score')\n",
    "plt.xscale('log')\n",
    "plt.legend(loc = 3)"
   ]
  },
  {
   "cell_type": "markdown",
   "metadata": {},
   "source": [
    "## Polynomial Regression"
   ]
  },
  {
   "cell_type": "code",
   "execution_count": 63,
   "metadata": {},
   "outputs": [
    {
     "data": {
      "text/plain": [
       "<matplotlib.legend.Legend at 0x1cd3df95a90>"
      ]
     },
     "execution_count": 63,
     "metadata": {},
     "output_type": "execute_result"
    },
    {
     "data": {
      "image/png": "[encoded data removed]",
      "text/plain": [
       "<Figure size 432x288 with 1 Axes>"
      ]
     },
     "metadata": {
      "needs_background": "light"
     },
     "output_type": "display_data"
    }
   ],
   "source": [
    "from  sklearn.preprocessing  import PolynomialFeatures\n",
    "\n",
    "preg = LinearRegression()\n",
    "\n",
    "train_score_list = []\n",
    "test_score_list = []\n",
    "\n",
    "for n in range(1,3):\n",
    "    poly = PolynomialFeatures(n)\n",
    "    x_train_poly = poly.fit_transform(x_train_reg)\n",
    "    x_test_poly = poly.transform(x_test_reg)\n",
    "    preg.fit(x_train_poly, y_train_reg)\n",
    "    train_score_list.append(preg.score(x_train_poly, y_train_reg))\n",
    "    test_score_list.append(preg.score(x_test_poly, y_test_reg))\n",
    "    \n",
    "%matplotlib inline\n",
    "\n",
    "x_axis = range(1,3)\n",
    "plt.plot(x_axis, train_score_list, c = 'g', label = 'Train Score')\n",
    "plt.plot(x_axis, test_score_list, c = 'b', label = 'Test Score')\n",
    "plt.xlabel('degree')\n",
    "plt.ylabel('accuracy')\n",
    "plt.legend()"
   ]
  },
  {
   "cell_type": "code",
   "execution_count": 64,
   "metadata": {},
   "outputs": [
    {
     "name": "stdout",
     "output_type": "stream",
     "text": [
      "[0.7788807458845337, 0.9999972687635662]\n",
      "[0.4314018618196952, 0.9999998727289102]\n"
     ]
    }
   ],
   "source": [
    "print(train_score_list)\n",
    "print(test_score_list)"
   ]
  },
  {
   "cell_type": "code",
   "execution_count": 65,
   "metadata": {},
   "outputs": [
    {
     "data": {
      "text/plain": [
       "Text(0.5, 0, 'RM')"
      ]
     },
     "execution_count": 65,
     "metadata": {},
     "output_type": "execute_result"
    },
    {
     "data": {
      "image/png": "[encoded data removed]",
      "text/plain": [
       "<Figure size 432x288 with 1 Axes>"
      ]
     },
     "metadata": {
      "needs_background": "light"
     },
     "output_type": "display_data"
    }
   ],
   "source": [
    "%matplotlib inline\n",
    "import matplotlib.pyplot as plt\n",
    "\n",
    "x_train_poly = x_train_reg[:,11].reshape(-1,1)\n",
    "x_test_poly = x_test_reg[:,11].reshape(-1,1)\n",
    "preg.fit(x_train_poly, y_train_reg)\n",
    "y_predict = preg.predict(x_train_poly)\n",
    "\n",
    "plt.plot(x_train_poly, y_predict, c = 'r')\n",
    "plt.scatter(x_train_poly,y_train_reg)\n",
    "plt.xlabel('RM')"
   ]
  },
  {
   "cell_type": "markdown",
   "metadata": {},
   "source": [
    "## SVM simple regressor"
   ]
  },
  {
   "cell_type": "code",
   "execution_count": 66,
   "metadata": {},
   "outputs": [
    {
     "name": "stdout",
     "output_type": "stream",
     "text": [
      "Best parameters: {'C': 10, 'epsilon': 1}\n",
      "Mean Train Score [0.13833854 0.13704337 0.15481977 0.28822855 0.30061113 0.27501766\n",
      " 0.53490812 0.55736539 0.57821681]\n",
      "Mean Test Score [0.20517178 0.20609502 0.20479982 0.39143281 0.40277092 0.28232553\n",
      " 0.54547733 0.57208733 0.51406371]\n",
      "R-squared score (training): -344.793\n",
      "R-squared score (test): -1257.634\n"
     ]
    },
    {
     "name": "stderr",
     "output_type": "stream",
     "text": [
      "c:\\users\\navarurh\\appdata\\local\\programs\\python\\python36\\lib\\site-packages\\sklearn\\svm\\base.py:931: ConvergenceWarning: Liblinear failed to converge, increase the number of iterations.\n",
      "  \"the number of iterations.\", ConvergenceWarning)\n",
      "c:\\users\\navarurh\\appdata\\local\\programs\\python\\python36\\lib\\site-packages\\sklearn\\svm\\base.py:931: ConvergenceWarning: Liblinear failed to converge, increase the number of iterations.\n",
      "  \"the number of iterations.\", ConvergenceWarning)\n",
      "c:\\users\\navarurh\\appdata\\local\\programs\\python\\python36\\lib\\site-packages\\sklearn\\model_selection\\_search.py:841: DeprecationWarning: The default of the `iid` parameter will change from True to False in version 0.22 and will be removed in 0.24. This will change numeric results when test-set sizes are unequal.\n",
      "  DeprecationWarning)\n"
     ]
    }
   ],
   "source": [
    "from sklearn.svm import LinearSVR\n",
    "param_grid = {'C':[0.1, 1, 10], 'epsilon': [0.1, 1, 10]}\n",
    "grid_linsvm = GridSearchCV(LinearSVR(), param_grid, cv=5, return_train_score=True)\n",
    "grid_linsvm.fit(x_train_reg, y_train_reg)\n",
    "\n",
    "print(\"Best parameters: {}\".format(grid_linsvm.best_params_))\n",
    "\n",
    "print('Mean Train Score',grid_linsvm.cv_results_['mean_train_score'])\n",
    "print('Mean Test Score',grid_linsvm.cv_results_['mean_test_score'])\n",
    "print('R-squared score (training): {:.3f}'\n",
    "     .format(grid_linsvm.score(x_train_class, y_train_class)))\n",
    "print('R-squared score (test): {:.3f}'\n",
    "     .format(grid_linsvm.score(x_test_class, y_test_class)))"
   ]
  },
  {
   "cell_type": "markdown",
   "metadata": {},
   "source": [
    "## SVM with kernel regressor"
   ]
  },
  {
   "cell_type": "code",
   "execution_count": 67,
   "metadata": {},
   "outputs": [
    {
     "name": "stdout",
     "output_type": "stream",
     "text": [
      "Best parameters: {'C': 100, 'gamma': 1}\n",
      "Train score: 0.9434\n",
      "Test score: 0.0821\n",
      "Mean Train Score [-0.09707575 -0.08216573 -0.06472908 -0.08930909 -0.08930909 -0.07805956\n",
      "  0.00828004  0.05292522 -0.04975383 -0.04975383  0.02060984  0.1706622\n",
      "  0.19970906  0.07510438  0.07510438  0.17966201  0.33793842  0.46930736\n",
      "  0.3487068   0.3487068   0.34664443  0.68982664  0.94236078  0.94364656\n",
      "  0.94364656]\n",
      "Mean Test Score [-0.1347392  -0.11054334 -0.08148615 -0.12244709 -0.12244709 -0.10432692\n",
      "  0.028178    0.1012174  -0.06287241 -0.06287241  0.04546715  0.25264461\n",
      "  0.29919137  0.09943929  0.09943929  0.2591167   0.43597649  0.51614869\n",
      "  0.28757424  0.28757424  0.44977632  0.67355435  0.78262695  0.39743826\n",
      "  0.39743826]\n",
      "R-squared score (training): 0.943\n",
      "R-squared score (test): 0.082\n"
     ]
    },
    {
     "name": "stderr",
     "output_type": "stream",
     "text": [
      "c:\\users\\navarurh\\appdata\\local\\programs\\python\\python36\\lib\\site-packages\\sklearn\\model_selection\\_search.py:841: DeprecationWarning: The default of the `iid` parameter will change from True to False in version 0.22 and will be removed in 0.24. This will change numeric results when test-set sizes are unequal.\n",
      "  DeprecationWarning)\n"
     ]
    }
   ],
   "source": [
    "from sklearn.svm import SVR\n",
    "param_grid = {'C':[0.01, 0.1, 1, 10, 100], 'gamma': [0.01, 0.1, 1, 10, 10]}\n",
    "grid_kernelsvm = GridSearchCV(SVR(), param_grid, cv= 5, return_train_score=True)\n",
    "grid_kernelsvm.fit(x_train_reg, y_train_reg)\n",
    "\n",
    "print(\"Best parameters: {}\".format(grid_kernelsvm.best_params_))\n",
    "\n",
    "print('Train score: {:.4f}'.format(grid_kernelsvm.score(x_train_reg,y_train_reg)))\n",
    "print('Test score: {:.4f}'.format(grid_kernelsvm.score(x_test_reg, y_test_reg)))\n",
    "print('Mean Train Score',grid_kernelsvm.cv_results_['mean_train_score'])\n",
    "print('Mean Test Score',grid_kernelsvm.cv_results_['mean_test_score'])\n",
    "print('R-squared score (training): {:.3f}'\n",
    "     .format(grid_kernelsvm.score(x_train_reg, y_train_reg)))\n",
    "print('R-squared score (test): {:.3f}'\n",
    "     .format(grid_kernelsvm.score(x_test_reg, y_test_reg)))"
   ]
  },
  {
   "cell_type": "markdown",
   "metadata": {},
   "source": [
    "### Best regression model is the Polynomial Regressor\n",
    "### This has a an accuracy of 0.99 at degree=2"
   ]
  }
 ],
 "metadata": {
  "kernelspec": {
   "display_name": "Python 3",
   "language": "python",
   "name": "python3"
  },
  "language_info": {
   "codemirror_mode": {
    "name": "ipython",
    "version": 3
   },
   "file_extension": ".py",
   "mimetype": "text/x-python",
   "name": "python",
   "nbconvert_exporter": "python",
   "pygments_lexer": "ipython3",
   "version": "3.6.6"
  }
 },
 "nbformat": 4,
 "nbformat_minor": 2
}
