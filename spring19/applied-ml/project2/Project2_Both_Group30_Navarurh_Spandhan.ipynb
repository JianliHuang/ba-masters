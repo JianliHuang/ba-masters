{
 "cells": [
  {
   "cell_type": "markdown",
   "metadata": {},
   "source": [
    "# Project 2\n",
    "## BUAN 6341.002 \n",
    "## Group 30\n",
    "### Navarurh Kumar (NXK180010)\n",
    "### Spandhan Kumar Kancham (SRK170003)"
   ]
  },
  {
   "cell_type": "markdown",
   "metadata": {},
   "source": [
    "### <font color='red'> Project 2\n",
    "\n",
    "Project Description:\n",
    "- Use same datasets as Project 1.\n",
    "- Preprocess data: Explore data and apply data scaling.\n",
    "\n",
    "Regression Task:\n",
    "- Apply any two models with bagging and any two models with pasting.\n",
    "- Apply any two models with adaboost boosting\n",
    "- Apply one model with gradient boosting\n",
    "- Apply PCA on data and then apply all the models in project 1 again on data you get from PCA. Compare your results with results in project 2. You don't need to apply all the models twice. Just copy the result table from project 1, prepare similar table for all the models after PCA and compare both tables. Does PCA help in getting better results?\n",
    "- Apply deep learning models covered in class\n",
    "\n",
    "Classification Task:\n",
    "- Apply two voting classifiers - one with hard voting and one with soft voting\n",
    "- Apply any two models with bagging and any two models with pasting.\n",
    "- Apply any two models with adaboost boosting\n",
    "- Apply one model with gradient boosting\n",
    "- Apply PCA on data and then apply all the models in project 1 again on data you get from PCA. Compare your results with results in project 1. You don't need to apply all the models twice. Just copy the result table from project 1, prepare similar table for all the models after PCA and compare both tables. Does PCA help in getting better results?\n",
    "- Apply deep learning models covered in class\n",
    "\n",
    "Deliverables:\n",
    "- Use markdown to provide inline comments for this project.\n",
    "- Your outputs should be clearly executed in the notebook i.e. we should not need to rerun the code to obtain the outputs.\n",
    "- Visualization encouraged.\n",
    "- If you are submitting two different files, then please only one group member submit both the files. If you submit two files separately from different accounts, it will be submitted as two different attempts.\n",
    "- If you are submitting two different files, then please follow below naming convetion:\n",
    "    Project2_Regression_GroupXX_Firstname1_Firstname2.ipynb\n",
    "    Project2_Classification_GroupXX_Firstname1_Firstname2.ipynb\n",
    "- If you are submitting single file, then please follow below naming convetion:\n",
    "    Project2_Both_GroupXX_Firstname1_Firstname2.ipynb\n",
    "\n",
    "Questions regarding the project:\n",
    "- We have created a discussion board under Projects folder on e-learning. Create threads over there and post your queries related to project there.\n",
    "- We will also answer queries there. We will not be answering any project related queries through the mail."
   ]
  },
  {
   "cell_type": "markdown",
   "metadata": {},
   "source": [
    "## Importing final dataset from previous project"
   ]
  },
  {
   "cell_type": "code",
   "execution_count": 1,
   "metadata": {},
   "outputs": [],
   "source": [
    "import pandas as pd\n",
    "import numpy as np\n",
    "import warnings\n",
    "warnings.filterwarnings('ignore')\n",
    "# read in data files\n",
    "raw_data = pd.read_csv('finaldata.csv')"
   ]
  },
  {
   "cell_type": "code",
   "execution_count": 2,
   "metadata": {},
   "outputs": [
    {
     "data": {
      "text/html": [
       "<div>\n",
       "<style scoped>\n",
       "    .dataframe tbody tr th:only-of-type {\n",
       "        vertical-align: middle;\n",
       "    }\n",
       "\n",
       "    .dataframe tbody tr th {\n",
       "        vertical-align: top;\n",
       "    }\n",
       "\n",
       "    .dataframe thead th {\n",
       "        text-align: right;\n",
       "    }\n",
       "</style>\n",
       "<table border=\"1\" class=\"dataframe\">\n",
       "  <thead>\n",
       "    <tr style=\"text-align: right;\">\n",
       "      <th></th>\n",
       "      <th>sector_score</th>\n",
       "      <th>location_id</th>\n",
       "      <th>para_a</th>\n",
       "      <th>score_a</th>\n",
       "      <th>risk_a</th>\n",
       "      <th>para_b</th>\n",
       "      <th>score_b</th>\n",
       "      <th>risk_b</th>\n",
       "      <th>total</th>\n",
       "      <th>numbers</th>\n",
       "      <th>...</th>\n",
       "      <th>inherent_risk</th>\n",
       "      <th>control_risk</th>\n",
       "      <th>audit_risk</th>\n",
       "      <th>risk</th>\n",
       "      <th>marks</th>\n",
       "      <th>money_marks</th>\n",
       "      <th>district</th>\n",
       "      <th>loss</th>\n",
       "      <th>loss_score</th>\n",
       "      <th>history_score</th>\n",
       "    </tr>\n",
       "  </thead>\n",
       "  <tbody>\n",
       "    <tr>\n",
       "      <th>0</th>\n",
       "      <td>3.89</td>\n",
       "      <td>23</td>\n",
       "      <td>4.18</td>\n",
       "      <td>0.6</td>\n",
       "      <td>2.508</td>\n",
       "      <td>2.50</td>\n",
       "      <td>0.2</td>\n",
       "      <td>0.500</td>\n",
       "      <td>6.68</td>\n",
       "      <td>5.0</td>\n",
       "      <td>...</td>\n",
       "      <td>8.574</td>\n",
       "      <td>0.4</td>\n",
       "      <td>1.7148</td>\n",
       "      <td>1</td>\n",
       "      <td>2</td>\n",
       "      <td>2</td>\n",
       "      <td>2</td>\n",
       "      <td>0</td>\n",
       "      <td>2</td>\n",
       "      <td>2</td>\n",
       "    </tr>\n",
       "    <tr>\n",
       "      <th>1</th>\n",
       "      <td>3.89</td>\n",
       "      <td>6</td>\n",
       "      <td>0.00</td>\n",
       "      <td>0.2</td>\n",
       "      <td>0.000</td>\n",
       "      <td>4.83</td>\n",
       "      <td>0.2</td>\n",
       "      <td>0.966</td>\n",
       "      <td>4.83</td>\n",
       "      <td>5.0</td>\n",
       "      <td>...</td>\n",
       "      <td>2.554</td>\n",
       "      <td>0.4</td>\n",
       "      <td>0.5108</td>\n",
       "      <td>0</td>\n",
       "      <td>2</td>\n",
       "      <td>2</td>\n",
       "      <td>2</td>\n",
       "      <td>0</td>\n",
       "      <td>2</td>\n",
       "      <td>2</td>\n",
       "    </tr>\n",
       "    <tr>\n",
       "      <th>2</th>\n",
       "      <td>3.89</td>\n",
       "      <td>6</td>\n",
       "      <td>0.51</td>\n",
       "      <td>0.2</td>\n",
       "      <td>0.102</td>\n",
       "      <td>0.23</td>\n",
       "      <td>0.2</td>\n",
       "      <td>0.046</td>\n",
       "      <td>0.74</td>\n",
       "      <td>5.0</td>\n",
       "      <td>...</td>\n",
       "      <td>1.548</td>\n",
       "      <td>0.4</td>\n",
       "      <td>0.3096</td>\n",
       "      <td>0</td>\n",
       "      <td>2</td>\n",
       "      <td>2</td>\n",
       "      <td>2</td>\n",
       "      <td>0</td>\n",
       "      <td>2</td>\n",
       "      <td>2</td>\n",
       "    </tr>\n",
       "    <tr>\n",
       "      <th>3</th>\n",
       "      <td>3.89</td>\n",
       "      <td>6</td>\n",
       "      <td>0.00</td>\n",
       "      <td>0.2</td>\n",
       "      <td>0.000</td>\n",
       "      <td>10.80</td>\n",
       "      <td>0.6</td>\n",
       "      <td>6.480</td>\n",
       "      <td>10.80</td>\n",
       "      <td>6.0</td>\n",
       "      <td>...</td>\n",
       "      <td>17.530</td>\n",
       "      <td>0.4</td>\n",
       "      <td>3.5060</td>\n",
       "      <td>1</td>\n",
       "      <td>6</td>\n",
       "      <td>6</td>\n",
       "      <td>2</td>\n",
       "      <td>0</td>\n",
       "      <td>2</td>\n",
       "      <td>2</td>\n",
       "    </tr>\n",
       "    <tr>\n",
       "      <th>4</th>\n",
       "      <td>3.89</td>\n",
       "      <td>6</td>\n",
       "      <td>0.00</td>\n",
       "      <td>0.2</td>\n",
       "      <td>0.000</td>\n",
       "      <td>0.08</td>\n",
       "      <td>0.2</td>\n",
       "      <td>0.016</td>\n",
       "      <td>0.08</td>\n",
       "      <td>5.0</td>\n",
       "      <td>...</td>\n",
       "      <td>1.416</td>\n",
       "      <td>0.4</td>\n",
       "      <td>0.2832</td>\n",
       "      <td>0</td>\n",
       "      <td>2</td>\n",
       "      <td>2</td>\n",
       "      <td>2</td>\n",
       "      <td>0</td>\n",
       "      <td>2</td>\n",
       "      <td>2</td>\n",
       "    </tr>\n",
       "  </tbody>\n",
       "</table>\n",
       "<p>5 rows × 32 columns</p>\n",
       "</div>"
      ],
      "text/plain": [
       "   sector_score  location_id  para_a  score_a  risk_a  para_b  score_b  \\\n",
       "0          3.89           23    4.18      0.6   2.508    2.50      0.2   \n",
       "1          3.89            6    0.00      0.2   0.000    4.83      0.2   \n",
       "2          3.89            6    0.51      0.2   0.102    0.23      0.2   \n",
       "3          3.89            6    0.00      0.2   0.000   10.80      0.6   \n",
       "4          3.89            6    0.00      0.2   0.000    0.08      0.2   \n",
       "\n",
       "   risk_b  total  numbers  ...  inherent_risk  control_risk  audit_risk  risk  \\\n",
       "0   0.500   6.68      5.0  ...          8.574           0.4      1.7148     1   \n",
       "1   0.966   4.83      5.0  ...          2.554           0.4      0.5108     0   \n",
       "2   0.046   0.74      5.0  ...          1.548           0.4      0.3096     0   \n",
       "3   6.480  10.80      6.0  ...         17.530           0.4      3.5060     1   \n",
       "4   0.016   0.08      5.0  ...          1.416           0.4      0.2832     0   \n",
       "\n",
       "   marks  money_marks  district  loss  loss_score  history_score  \n",
       "0      2            2         2     0           2              2  \n",
       "1      2            2         2     0           2              2  \n",
       "2      2            2         2     0           2              2  \n",
       "3      6            6         2     0           2              2  \n",
       "4      2            2         2     0           2              2  \n",
       "\n",
       "[5 rows x 32 columns]"
      ]
     },
     "execution_count": 2,
     "metadata": {},
     "output_type": "execute_result"
    }
   ],
   "source": [
    "raw_data.head()"
   ]
  },
  {
   "cell_type": "code",
   "execution_count": 3,
   "metadata": {},
   "outputs": [],
   "source": [
    "x = raw_data.drop(['audit_risk','risk'],axis=1)\n",
    "y_reg = raw_data['audit_risk']\n",
    "y_class = raw_data['risk']"
   ]
  },
  {
   "cell_type": "markdown",
   "metadata": {},
   "source": [
    "#### Removing correlated columns based on project 1 analysis"
   ]
  },
  {
   "cell_type": "code",
   "execution_count": 4,
   "metadata": {},
   "outputs": [],
   "source": [
    "x = x.drop(['para_a','para_b','score_b.1','money_value','total','history','loss',\n",
    "            'numbers','district_loss','score','inherent_risk','prob','district',\n",
    "            'loss_score','prob.1','money_marks','marks','history_score'],axis=1)"
   ]
  },
  {
   "cell_type": "code",
   "execution_count": 5,
   "metadata": {},
   "outputs": [
    {
     "data": {
      "text/plain": [
       "(775, 12)"
      ]
     },
     "execution_count": 5,
     "metadata": {},
     "output_type": "execute_result"
    }
   ],
   "source": [
    "x.shape"
   ]
  },
  {
   "cell_type": "markdown",
   "metadata": {},
   "source": [
    "#### Creating train test splits for regression and classification techniques\n",
    "#### Using minmax scaler as the data is non-gaussian"
   ]
  },
  {
   "cell_type": "code",
   "execution_count": 6,
   "metadata": {},
   "outputs": [],
   "source": [
    "from sklearn.model_selection import train_test_split\n",
    "\n",
    "# default is 75% / 25% train-test split\n",
    "x_train_reg, x_test_reg, y_train_reg, y_test_reg = train_test_split(x,  y_reg, random_state=0)\n",
    "x_train_class, x_test_class, y_train_class, y_test_class = train_test_split(x, y_class, random_state=0)\n",
    "\n",
    "from sklearn.preprocessing import MinMaxScaler\n",
    "scaler = MinMaxScaler()\n",
    "\n",
    "x_train_reg = scaler.fit_transform(x_train_reg)\n",
    "x_test_reg = scaler.transform(x_test_reg)\n",
    "\n",
    "x_train_class = scaler.fit_transform(x_train_class)\n",
    "x_test_class = scaler.transform(x_test_class)"
   ]
  },
  {
   "cell_type": "markdown",
   "metadata": {},
   "source": [
    "# Classification Models"
   ]
  },
  {
   "cell_type": "markdown",
   "metadata": {},
   "source": [
    "### Gradient boosted Decision Tree"
   ]
  },
  {
   "cell_type": "code",
   "execution_count": 7,
   "metadata": {},
   "outputs": [
    {
     "data": {
      "text/plain": [
       "GradientBoostingClassifier(criterion='friedman_mse', init=None,\n",
       "              learning_rate=0.1, loss='deviance', max_depth=7,\n",
       "              max_features=None, max_leaf_nodes=15,\n",
       "              min_impurity_decrease=0.0, min_impurity_split=None,\n",
       "              min_samples_leaf=1, min_samples_split=2,\n",
       "              min_weight_fraction_leaf=0.0, n_estimators=200,\n",
       "              n_iter_no_change=None, presort='auto', random_state=0,\n",
       "              subsample=1.0, tol=0.0001, validation_fraction=0.1,\n",
       "              verbose=0, warm_start=False)"
      ]
     },
     "execution_count": 7,
     "metadata": {},
     "output_type": "execute_result"
    }
   ],
   "source": [
    "from sklearn.ensemble import GradientBoostingClassifier\n",
    "\n",
    "clf = GradientBoostingClassifier(random_state = 0, max_leaf_nodes = 15, n_estimators = 200, max_depth = 7, learning_rate = 0.1)\n",
    "clf.fit(x_train_class, y_train_class)"
   ]
  },
  {
   "cell_type": "code",
   "execution_count": 8,
   "metadata": {},
   "outputs": [
    {
     "name": "stdout",
     "output_type": "stream",
     "text": [
      "Accuracy of Training: 1.00\n",
      "Accuracy: 0.94\n",
      "Recall: 0.93814\n",
      "              precision    recall  f1-score   support\n",
      "\n",
      "           0       0.93      0.97      0.95       116\n",
      "           1       0.95      0.90      0.92        78\n",
      "\n",
      "   micro avg       0.94      0.94      0.94       194\n",
      "   macro avg       0.94      0.93      0.94       194\n",
      "weighted avg       0.94      0.94      0.94       194\n",
      "\n"
     ]
    }
   ],
   "source": [
    "print('Accuracy of Training: {:.2f}'.format(clf.score(x_train_class, y_train_class)))\n",
    "\n",
    "from sklearn.metrics import recall_score, accuracy_score\n",
    "\n",
    "y_predict = clf.predict(x_test_class)\n",
    "print('Accuracy: {:.2f}'.format(accuracy_score(y_test_class, y_predict)))\n",
    "print('Recall: {:.5f}'.format(recall_score(y_test_class, y_predict, average=\"weighted\")))\n",
    "\n",
    "from sklearn.metrics import classification_report\n",
    "\n",
    "print(classification_report(y_test_class, y_predict))"
   ]
  },
  {
   "cell_type": "markdown",
   "metadata": {},
   "source": [
    "### Bagging Methods - KNN and Logistic"
   ]
  },
  {
   "cell_type": "markdown",
   "metadata": {},
   "source": [
    "### Bagging - KNN"
   ]
  },
  {
   "cell_type": "code",
   "execution_count": 9,
   "metadata": {},
   "outputs": [
    {
     "data": {
      "text/plain": [
       "BaggingClassifier(base_estimator=KNeighborsClassifier(algorithm='auto', leaf_size=30, metric='minkowski',\n",
       "           metric_params=None, n_jobs=None, n_neighbors=5, p=2,\n",
       "           weights='uniform'),\n",
       "         bootstrap=True, bootstrap_features=False, max_features=1.0,\n",
       "         max_samples=100, n_estimators=500, n_jobs=-1, oob_score=False,\n",
       "         random_state=10, verbose=0, warm_start=False)"
      ]
     },
     "execution_count": 9,
     "metadata": {},
     "output_type": "execute_result"
    }
   ],
   "source": [
    "from sklearn.ensemble import BaggingClassifier\n",
    "from sklearn.neighbors import KNeighborsClassifier\n",
    "\n",
    "bag_clf = BaggingClassifier(\n",
    "    KNeighborsClassifier(n_neighbors = 5),\n",
    "    bootstrap=True, n_jobs=-1, n_estimators=500, max_samples=100, random_state=10)\n",
    "\n",
    "bag_clf.fit(x_train_class, y_train_class)"
   ]
  },
  {
   "cell_type": "code",
   "execution_count": 10,
   "metadata": {},
   "outputs": [
    {
     "name": "stdout",
     "output_type": "stream",
     "text": [
      "Accuracy of Training: 0.91\n",
      "Accuracy: 0.86\n",
      "Recall: 0.85567\n",
      "              precision    recall  f1-score   support\n",
      "\n",
      "           0       0.81      1.00      0.89       116\n",
      "           1       1.00      0.64      0.78        78\n",
      "\n",
      "   micro avg       0.86      0.86      0.86       194\n",
      "   macro avg       0.90      0.82      0.84       194\n",
      "weighted avg       0.88      0.86      0.85       194\n",
      "\n"
     ]
    }
   ],
   "source": [
    "print('Accuracy of Training: {:.2f}'.format(bag_clf.score(x_train_class, y_train_class)))\n",
    "\n",
    "y_predict = bag_clf.predict(x_test_class)\n",
    "print('Accuracy: {:.2f}'.format(accuracy_score(y_test_class, y_predict)))\n",
    "print('Recall: {:.5f}'.format(recall_score(y_test_class, y_predict, average=\"weighted\")))\n",
    "\n",
    "print(classification_report(y_test_class, y_predict))"
   ]
  },
  {
   "cell_type": "markdown",
   "metadata": {},
   "source": [
    "### Bagging - Logistic"
   ]
  },
  {
   "cell_type": "code",
   "execution_count": 11,
   "metadata": {},
   "outputs": [
    {
     "data": {
      "text/plain": [
       "BaggingClassifier(base_estimator=LogisticRegression(C=10, class_weight=None, dual=False, fit_intercept=True,\n",
       "          intercept_scaling=1, max_iter=100, multi_class='warn',\n",
       "          n_jobs=None, penalty='l2', random_state=None, solver='warn',\n",
       "          tol=0.0001, verbose=0, warm_start=False),\n",
       "         bootstrap=True, bootstrap_features=False, max_features=1.0,\n",
       "         max_samples=100, n_estimators=500, n_jobs=-1, oob_score=False,\n",
       "         random_state=10, verbose=0, warm_start=False)"
      ]
     },
     "execution_count": 11,
     "metadata": {},
     "output_type": "execute_result"
    }
   ],
   "source": [
    "from sklearn.ensemble import BaggingClassifier\n",
    "from sklearn.linear_model import LogisticRegression\n",
    "\n",
    "bag_clf = BaggingClassifier(\n",
    "    LogisticRegression(C = 10),\n",
    "    bootstrap=True, n_jobs=-1, n_estimators=500, max_samples=100, random_state=10)\n",
    "\n",
    "bag_clf.fit(x_train_class, y_train_class)"
   ]
  },
  {
   "cell_type": "code",
   "execution_count": 12,
   "metadata": {},
   "outputs": [
    {
     "name": "stdout",
     "output_type": "stream",
     "text": [
      "Accuracy of Training: 0.95\n",
      "Accuracy: 0.92\n",
      "Recall: 0.92268\n",
      "              precision    recall  f1-score   support\n",
      "\n",
      "           0       0.89      1.00      0.94       116\n",
      "           1       1.00      0.81      0.89        78\n",
      "\n",
      "   micro avg       0.92      0.92      0.92       194\n",
      "   macro avg       0.94      0.90      0.92       194\n",
      "weighted avg       0.93      0.92      0.92       194\n",
      "\n"
     ]
    }
   ],
   "source": [
    "print('Accuracy of Training: {:.2f}'.format(bag_clf.score(x_train_class, y_train_class)))\n",
    "\n",
    "y_predict = bag_clf.predict(x_test_class)\n",
    "print('Accuracy: {:.2f}'.format(accuracy_score(y_test_class, y_predict)))\n",
    "print('Recall: {:.5f}'.format(recall_score(y_test_class, y_predict, average=\"weighted\")))\n",
    "\n",
    "print(classification_report(y_test_class, y_predict))"
   ]
  },
  {
   "cell_type": "markdown",
   "metadata": {},
   "source": [
    "## Pasting"
   ]
  },
  {
   "cell_type": "markdown",
   "metadata": {},
   "source": [
    "### Decision Tree with Pasting"
   ]
  },
  {
   "cell_type": "code",
   "execution_count": 13,
   "metadata": {},
   "outputs": [
    {
     "name": "stdout",
     "output_type": "stream",
     "text": [
      "0.979381443298969\n",
      "Train score: 0.99\n",
      "Test score: 0.98\n"
     ]
    }
   ],
   "source": [
    "from sklearn.ensemble import BaggingClassifier\n",
    "from sklearn.tree import DecisionTreeClassifier\n",
    "\n",
    "dt_clf = DecisionTreeClassifier(random_state=0)\n",
    "bag_clf = BaggingClassifier(dt_clf, n_estimators=500, max_samples=100, bootstrap=False, random_state=0)\n",
    "\n",
    "bag_clf.fit(x_train_class, y_train_class)\n",
    "y_predict_class = bag_clf.predict(x_test_class)\n",
    "\n",
    "from  sklearn.metrics import accuracy_score\n",
    "print(accuracy_score(y_test_class, y_predict_class))\n",
    "bag_clf.fit(x_train_class, y_train_class)\n",
    "print('Train score: {:.2f}'.format(bag_clf.score(x_train_class, y_train_class)))\n",
    "print('Test score: {:.2f}'.format(bag_clf.score(x_test_class, y_test_class)))"
   ]
  },
  {
   "cell_type": "code",
   "execution_count": 14,
   "metadata": {},
   "outputs": [
    {
     "name": "stdout",
     "output_type": "stream",
     "text": [
      "0.9381443298969072\n"
     ]
    }
   ],
   "source": [
    "tree_clf = DecisionTreeClassifier(random_state=0)\n",
    "tree_clf.fit(x_train_class, y_train_class)\n",
    "y_predict_tree = tree_clf.predict(x_test_class)\n",
    "print(accuracy_score(y_test_class, y_predict_tree))"
   ]
  },
  {
   "cell_type": "code",
   "execution_count": 15,
   "metadata": {},
   "outputs": [],
   "source": [
    "depth_range = [1,2,3,4,5,6,7,8,9,10]\n",
    "train_score = []\n",
    "test_score = []\n",
    "\n",
    "for d in depth_range:\n",
    "    bag_clf.fit(x_train_class, y_train_class)\n",
    "    train_score.append(bag_clf.score(x_train_class, y_train_class))\n",
    "    test_score.append(bag_clf.score(x_test_class, y_test_class))"
   ]
  },
  {
   "cell_type": "code",
   "execution_count": 16,
   "metadata": {},
   "outputs": [
    {
     "data": {
      "image/png": "[encoded data removed]",
      "text/plain": [
       "<Figure size 432x288 with 1 Axes>"
      ]
     },
     "metadata": {
      "needs_background": "light"
     },
     "output_type": "display_data"
    }
   ],
   "source": [
    "import matplotlib.pyplot as plt\n",
    "%matplotlib inline\n",
    "\n",
    "plt.plot(depth_range, train_score, label = 'Train score')\n",
    "plt.plot(depth_range, test_score, label = 'Test score')\n",
    "plt.legend()\n",
    "plt.xlabel('Maximum depth')\n",
    "plt.ylabel('Accuracy')\n",
    "plt.show()"
   ]
  },
  {
   "cell_type": "markdown",
   "metadata": {},
   "source": [
    "### Random Forest classifier with Pasting"
   ]
  },
  {
   "cell_type": "code",
   "execution_count": 17,
   "metadata": {},
   "outputs": [
    {
     "data": {
      "text/plain": [
       "0.9639175257731959"
      ]
     },
     "execution_count": 17,
     "metadata": {},
     "output_type": "execute_result"
    }
   ],
   "source": [
    "dt_clf = DecisionTreeClassifier(splitter=\"random\", max_leaf_nodes=16, random_state=0)\n",
    "bag_clf = BaggingClassifier(dt_clf, n_estimators=500, max_samples=1.0, bootstrap=False, n_jobs=-1, random_state=0)\n",
    "bag_clf.fit(x_train_class, y_train_class)\n",
    "y_pred = bag_clf.predict(x_test_class)\n",
    "from sklearn.ensemble import RandomForestClassifier\n",
    "\n",
    "rnd_clf = RandomForestClassifier(n_estimators=500, max_leaf_nodes=16, n_jobs=-1, random_state=0)\n",
    "rnd_clf.fit(x_train_class, y_train_class)\n",
    "\n",
    "y_predict_rf = rnd_clf.predict(x_test_class)\n",
    "np.sum(y_predict_tree == y_predict_rf ) / len(y_predict_tree)"
   ]
  },
  {
   "cell_type": "code",
   "execution_count": 18,
   "metadata": {},
   "outputs": [
    {
     "data": {
      "text/plain": [
       "array([0.02286834, 0.01246013, 0.0590014 , 0.10378253, 0.08511986,\n",
       "       0.18569638, 0.00373858, 0.14534832, 0.18565793, 0.08780286,\n",
       "       0.00134287, 0.1071808 ])"
      ]
     },
     "execution_count": 18,
     "metadata": {},
     "output_type": "execute_result"
    }
   ],
   "source": [
    "rnd_clf.feature_importances_"
   ]
  },
  {
   "cell_type": "markdown",
   "metadata": {},
   "source": [
    "## ADAboost"
   ]
  },
  {
   "cell_type": "markdown",
   "metadata": {},
   "source": [
    "### Adaboost - Logistic"
   ]
  },
  {
   "cell_type": "code",
   "execution_count": 19,
   "metadata": {},
   "outputs": [
    {
     "name": "stdout",
     "output_type": "stream",
     "text": [
      "Accuracy of Training: 0.97\n",
      "Recall: 0.97423\n",
      "Accuracy: 0.97\n",
      "              precision    recall  f1-score   support\n",
      "\n",
      "           0       0.96      1.00      0.98       116\n",
      "           1       1.00      0.94      0.97        78\n",
      "\n",
      "   micro avg       0.97      0.97      0.97       194\n",
      "   macro avg       0.98      0.97      0.97       194\n",
      "weighted avg       0.98      0.97      0.97       194\n",
      "\n"
     ]
    }
   ],
   "source": [
    "from sklearn.ensemble import AdaBoostClassifier\n",
    "from sklearn.linear_model import LogisticRegression\n",
    "\n",
    "ada_clf = AdaBoostClassifier(\n",
    "    LogisticRegression(C = 10),\n",
    "    n_estimators=200,\n",
    "    algorithm=\"SAMME.R\", learning_rate=0.5, random_state=42)\n",
    "ada_clf.fit(x_train_class, y_train_class)\n",
    "\n",
    "print('Accuracy of Training: {:.2f}'.format(ada_clf.score(x_train_class, y_train_class)))\n",
    "\n",
    "y_predict = ada_clf.predict(x_test_class)\n",
    "print('Recall: {:.5f}'.format(recall_score(y_test_class, y_predict, average=\"weighted\")))\n",
    "print('Accuracy: {:.2f}'.format(accuracy_score(y_test_class, y_predict)))\n",
    "\n",
    "print(classification_report(y_test_class, y_predict))"
   ]
  },
  {
   "cell_type": "markdown",
   "metadata": {},
   "source": [
    "### Adaboost - Decision Tree"
   ]
  },
  {
   "cell_type": "code",
   "execution_count": 20,
   "metadata": {},
   "outputs": [
    {
     "name": "stdout",
     "output_type": "stream",
     "text": [
      "Accuracy of Training: 1.00\n",
      "Recall: 0.94330\n",
      "Accuracy: 0.94\n",
      "              precision    recall  f1-score   support\n",
      "\n",
      "           0       0.94      0.97      0.95       116\n",
      "           1       0.95      0.91      0.93        78\n",
      "\n",
      "   micro avg       0.94      0.94      0.94       194\n",
      "   macro avg       0.94      0.94      0.94       194\n",
      "weighted avg       0.94      0.94      0.94       194\n",
      "\n"
     ]
    }
   ],
   "source": [
    "from sklearn.tree import DecisionTreeClassifier\n",
    "\n",
    "ada_clf = AdaBoostClassifier(\n",
    "    DecisionTreeClassifier(max_depth = 7),\n",
    "    n_estimators=200,\n",
    "    algorithm=\"SAMME\", learning_rate=0.5, random_state=42)\n",
    "ada_clf.fit(x_train_class, y_train_class)\n",
    "\n",
    "print('Accuracy of Training: {:.2f}'.format(ada_clf.score(x_train_class, y_train_class)))\n",
    "\n",
    "y_predict = ada_clf.predict(x_test_class)\n",
    "print('Recall: {:.5f}'.format(recall_score(y_test_class, y_predict, average=\"weighted\")))\n",
    "print('Accuracy: {:.2f}'.format(accuracy_score(y_test_class, y_predict)))\n",
    "\n",
    "print(classification_report(y_test_class, y_predict))"
   ]
  },
  {
   "cell_type": "markdown",
   "metadata": {},
   "source": [
    "## Voting Classifiers"
   ]
  },
  {
   "cell_type": "markdown",
   "metadata": {},
   "source": [
    "### Hard voting"
   ]
  },
  {
   "cell_type": "code",
   "execution_count": 21,
   "metadata": {},
   "outputs": [
    {
     "name": "stdout",
     "output_type": "stream",
     "text": [
      "LogisticRegression 0.9175257731958762\n",
      "RandomForestClassifier 0.9587628865979382\n",
      "SVC 0.9175257731958762\n",
      "VotingClassifier 0.9278350515463918\n"
     ]
    }
   ],
   "source": [
    "from sklearn.ensemble import RandomForestClassifier\n",
    "from sklearn.ensemble import VotingClassifier\n",
    "from sklearn.linear_model import LogisticRegression\n",
    "from sklearn.svm import SVC\n",
    "log_clf = LogisticRegression()\n",
    "rnd_clf = RandomForestClassifier()\n",
    "svm_clf = SVC()\n",
    "voting_clf = VotingClassifier(\n",
    "estimators=[('lr', log_clf), ('rf', rnd_clf), ('svc', svm_clf)],voting='hard')\n",
    "voting_clf.fit(x_train_class, y_train_class)\n",
    "\n",
    "from sklearn.metrics import accuracy_score\n",
    "for clf in (log_clf, rnd_clf, svm_clf, voting_clf):\n",
    "    clf.fit(x_train_class, y_train_class)\n",
    "    y_predict = clf.predict(x_test_class)\n",
    "    print(clf.__class__.__name__, accuracy_score(y_test_class, y_predict))"
   ]
  },
  {
   "cell_type": "markdown",
   "metadata": {},
   "source": [
    "### Soft voting"
   ]
  },
  {
   "cell_type": "code",
   "execution_count": 22,
   "metadata": {},
   "outputs": [
    {
     "name": "stdout",
     "output_type": "stream",
     "text": [
      "LogisticRegression 0.9175257731958762\n",
      "RandomForestClassifier 0.9742268041237113\n",
      "SVC 0.9175257731958762\n",
      "VotingClassifier 0.9587628865979382\n"
     ]
    }
   ],
   "source": [
    "svm_clf = SVC(probability=True)\n",
    "voting_clf = VotingClassifier(\n",
    "estimators=[('lr', log_clf), ('rf', rnd_clf), ('svc', svm_clf)],voting='soft')\n",
    "voting_clf.fit(x_train_class, y_train_class)\n",
    "\n",
    "for clf in (log_clf, rnd_clf, svm_clf, voting_clf):\n",
    "    clf.fit(x_train_class, y_train_class)\n",
    "    y_predict = clf.predict(x_test_class)\n",
    "    print(clf.__class__.__name__, accuracy_score(y_test_class, y_predict))"
   ]
  },
  {
   "cell_type": "markdown",
   "metadata": {},
   "source": [
    "## PCA"
   ]
  },
  {
   "cell_type": "code",
   "execution_count": 23,
   "metadata": {},
   "outputs": [],
   "source": [
    "from sklearn.decomposition import PCA\n",
    "pca = PCA(n_components=0.95)\n",
    "x_train_pca = pca.fit_transform(x_train_class)\n",
    "x_test_pca  = pca.transform(x_test_class)"
   ]
  },
  {
   "cell_type": "markdown",
   "metadata": {},
   "source": [
    "#### PCA - 95% variation is explained by 7 variables reducing the feature set from 12 to 7"
   ]
  },
  {
   "cell_type": "markdown",
   "metadata": {},
   "source": [
    "### Running classification models on PCA output"
   ]
  },
  {
   "cell_type": "markdown",
   "metadata": {},
   "source": [
    "### K Neighbors Classifier"
   ]
  },
  {
   "cell_type": "code",
   "execution_count": 24,
   "metadata": {},
   "outputs": [
    {
     "data": {
      "text/plain": [
       "<matplotlib.legend.Legend at 0x2094367d320>"
      ]
     },
     "execution_count": 24,
     "metadata": {},
     "output_type": "execute_result"
    },
    {
     "data": {
      "image/png": "[encoded data removed]",
      "text/plain": [
       "<Figure size 432x288 with 1 Axes>"
      ]
     },
     "metadata": {
      "needs_background": "light"
     },
     "output_type": "display_data"
    }
   ],
   "source": [
    "from sklearn.neighbors import KNeighborsClassifier\n",
    "\n",
    "train_score_array = []\n",
    "test_score_array = []\n",
    "\n",
    "for k in range(1,20):\n",
    "    knn = KNeighborsClassifier(k)\n",
    "    knn.fit(x_train_pca, y_train_class)\n",
    "    train_score_array.append(knn.score(x_train_pca, y_train_class))\n",
    "    test_score_array.append(knn.score(x_test_pca, y_test_class))\n",
    "    \n",
    "import matplotlib.pyplot as plt\n",
    "x_axis = range(1,20)\n",
    "%matplotlib inline\n",
    "plt.plot(x_axis, train_score_array, label = 'Train Score', c = 'g')\n",
    "plt.plot(x_axis, test_score_array, label = 'Test Score', c='b')\n",
    "plt.xlabel('k')\n",
    "plt.ylabel('Accuracy')\n",
    "plt.legend()"
   ]
  },
  {
   "cell_type": "code",
   "execution_count": 25,
   "metadata": {},
   "outputs": [
    {
     "name": "stdout",
     "output_type": "stream",
     "text": [
      "Train score: 0.9776\n",
      "Test score: 0.9485\n"
     ]
    }
   ],
   "source": [
    "knn = KNeighborsClassifier(3)\n",
    "knn.fit(x_train_pca, y_train_class)\n",
    "print('Train score: {:.4f}'.format(knn.score(x_train_pca, y_train_class)))\n",
    "print('Test score: {:.4f}'.format(knn.score(x_test_pca, y_test_class)))"
   ]
  },
  {
   "cell_type": "code",
   "execution_count": 26,
   "metadata": {},
   "outputs": [
    {
     "name": "stdout",
     "output_type": "stream",
     "text": [
      "Train PCA Data roc_auc_score: 0.9785\n",
      "Test PCA Data roc_auc_score: 0.9603 \n",
      "\n",
      " KNN classifier on PCA Data data\n",
      " [[116   0]\n",
      " [ 10  68]]\n",
      "\n",
      "\n",
      "\n",
      "Train Original Data roc_auc_score: 0.9871\n",
      "Test Original Data roc_auc_score: 0.9640\n",
      "\n",
      " KNN classifier on Original Data from project 1\n",
      " [[116   0]\n",
      " [  9  69]]\n"
     ]
    }
   ],
   "source": [
    "from sklearn.metrics import roc_auc_score\n",
    "\n",
    "y_knn_predict = knn.predict(x_test_pca)\n",
    "y_knn_train_predict = knn.predict(x_train_pca)\n",
    "print('Train PCA Data roc_auc_score: %.4f'%roc_auc_score(y_knn_train_predict, y_train_class))\n",
    "print('Test PCA Data roc_auc_score: %.4f '%roc_auc_score(y_knn_predict, y_test_class))\n",
    "\n",
    "y_predicted = knn.predict(x_test_pca)\n",
    "from sklearn.metrics import confusion_matrix\n",
    "confusion = confusion_matrix(y_test_class, y_predicted)\n",
    "\n",
    "print('\\n KNN classifier on PCA Data data\\n', confusion )\n",
    "\n",
    "print('\\n\\n\\nTrain Original Data roc_auc_score: 0.9871\\n'\n",
    "'Test Original Data roc_auc_score: 0.9640\\n\\n'\n",
    "' KNN classifier on Original Data from project 1\\n'\n",
    "' [[116   0]\\n'\n",
    "' [  9  69]]')\n"
   ]
  },
  {
   "cell_type": "markdown",
   "metadata": {},
   "source": [
    "#### We see that the PCA modifications have improved the score marginally in this case"
   ]
  },
  {
   "cell_type": "markdown",
   "metadata": {},
   "source": [
    "### Logistic Regression"
   ]
  },
  {
   "cell_type": "code",
   "execution_count": 27,
   "metadata": {},
   "outputs": [
    {
     "data": {
      "image/png": "[encoded data removed]",
      "text/plain": [
       "<Figure size 432x288 with 1 Axes>"
      ]
     },
     "metadata": {
      "needs_background": "light"
     },
     "output_type": "display_data"
    }
   ],
   "source": [
    "from sklearn.linear_model import LogisticRegression\n",
    "\n",
    "c_range = [0.001, 0.01, 0.1, 1, 10, 100, 1000]\n",
    "train_score_l1 = []\n",
    "train_score_l2 = []\n",
    "test_score_l1 = []\n",
    "test_score_l2 = []\n",
    "\n",
    "for c in c_range:\n",
    "    log_l1 = LogisticRegression(penalty = 'l1', C = c)\n",
    "    log_l2 = LogisticRegression(penalty = 'l2', C = c)\n",
    "    log_l1.fit(x_train_pca, y_train_class)\n",
    "    log_l2.fit(x_train_pca, y_train_class)\n",
    "    train_score_l1.append(log_l1.score(x_train_pca, y_train_class))\n",
    "    train_score_l2.append(log_l2.score(x_train_pca, y_train_class))\n",
    "    test_score_l1.append(log_l1.score(x_test_pca, y_test_class))\n",
    "    test_score_l2.append(log_l2.score(x_test_pca, y_test_class))\n",
    "    \n",
    "import matplotlib.pyplot as plt\n",
    "%matplotlib inline\n",
    "\n",
    "plt.plot(c_range, train_score_l1, label = 'Train score, penalty = l1')\n",
    "plt.plot(c_range, test_score_l1, label = 'Test score, penalty = l1')\n",
    "plt.plot(c_range, train_score_l2, label = 'Train score, penalty = l2')\n",
    "plt.plot(c_range, test_score_l2, label = 'Test score, penalty = l2')\n",
    "plt.legend()\n",
    "plt.xlabel('Regularization parameter: C')\n",
    "plt.ylabel('Accuracy')\n",
    "plt.xscale('log')"
   ]
  },
  {
   "cell_type": "code",
   "execution_count": 28,
   "metadata": {},
   "outputs": [
    {
     "name": "stdout",
     "output_type": "stream",
     "text": [
      "Train PCA Data roc_auc_score: 0.9675\n",
      "Test PCA Data roc_auc_score: 0.9754 \n",
      "\n",
      " Logistic regression classifier on PCA Data (default settings)\n",
      " [[116   0]\n",
      " [  6  72]]\n",
      "\n",
      "\n",
      "\n",
      "Train Original Data roc_auc_score: 0.9928\n",
      "Test Original Data roc_auc_score: 0.9915\n",
      "\n",
      " Logistic regression classifier on Original Data (default settings)\n",
      " [[116   0]\n",
      " [  2  76]]\n"
     ]
    }
   ],
   "source": [
    "y_log_predict = log_l1.predict(x_test_pca)\n",
    "y_log_train_predict = log_l1.predict(x_train_pca)\n",
    "print('Train PCA Data roc_auc_score: %.4f'%roc_auc_score(y_log_train_predict, y_train_class))\n",
    "print('Test PCA Data roc_auc_score: %.4f '%roc_auc_score(y_log_predict, y_test_class))\n",
    "\n",
    "y_predicted = log_l1.predict(x_test_pca)\n",
    "from sklearn.metrics import confusion_matrix\n",
    "confusion = confusion_matrix(y_test_class, y_predicted)\n",
    "\n",
    "print('\\n Logistic regression classifier on PCA Data (default settings)\\n', confusion )\n",
    "\n",
    "print('\\n\\n\\nTrain Original Data roc_auc_score: 0.9928\\n'\n",
    "'Test Original Data roc_auc_score: 0.9915\\n\\n'\n",
    "' Logistic regression classifier on Original Data (default settings)\\n'\n",
    "' [[116   0]\\n'\n",
    "' [  2  76]]')\n"
   ]
  },
  {
   "cell_type": "markdown",
   "metadata": {},
   "source": [
    "#### Here we see that the original dataset without feature selection using PCA gives us a better score"
   ]
  },
  {
   "cell_type": "markdown",
   "metadata": {},
   "source": [
    "### Support Vector Classifier"
   ]
  },
  {
   "cell_type": "code",
   "execution_count": 29,
   "metadata": {},
   "outputs": [
    {
     "data": {
      "text/plain": [
       "Text(0, 0.5, 'Accuracy')"
      ]
     },
     "execution_count": 29,
     "metadata": {},
     "output_type": "execute_result"
    },
    {
     "data": {
      "image/png": "[encoded data removed]",
      "text/plain": [
       "<Figure size 432x288 with 1 Axes>"
      ]
     },
     "metadata": {
      "needs_background": "light"
     },
     "output_type": "display_data"
    }
   ],
   "source": [
    "from sklearn.svm import SVC\n",
    "c_range = [0.001,0.01,0.1,1,2,4,10,20,40,80,100]\n",
    "train_score = []\n",
    "test_score = []\n",
    "\n",
    "for c in c_range:\n",
    "    clf = SVC(gamma='auto',C=c)\n",
    "    clf.fit(x_train_pca,y_train_class)\n",
    "    train_score.append(clf.score(x_train_pca, y_train_class))\n",
    "    test_score.append(clf.score(x_test_pca, y_test_class))\n",
    "    \n",
    "import matplotlib.pyplot as plt\n",
    "%matplotlib inline\n",
    "\n",
    "plt.plot(c_range, train_score, label = 'Train score')\n",
    "plt.plot(c_range, test_score, label = 'Test score')\n",
    "plt.legend()\n",
    "plt.xlabel('Penalty Parameter C')\n",
    "plt.ylabel('Accuracy')"
   ]
  },
  {
   "cell_type": "code",
   "execution_count": 30,
   "metadata": {},
   "outputs": [
    {
     "name": "stdout",
     "output_type": "stream",
     "text": [
      "Train PCA Data roc_auc_score: 0.9726\n",
      "Test PCA Data roc_auc_score: 0.9715 \n",
      "\n",
      " Linear SVC on PCA Data\n",
      " [[116   0]\n",
      " [  7  71]]\n",
      "\n",
      "\n",
      "\n",
      "Train Original Data roc_auc_score: 0.9726\n",
      "Test Original Data roc_auc_score: 0.9715\n",
      "\n",
      " Linear SVC on Original Data\n",
      " [[116   0]\n",
      " [  7  71]]\n"
     ]
    }
   ],
   "source": [
    "y_linsvc_predict = clf.predict(x_test_pca)\n",
    "y_linsvc_train_predict = clf.predict(x_train_pca)\n",
    "print('Train PCA Data roc_auc_score: %.4f'%roc_auc_score(y_linsvc_train_predict, y_train_class))\n",
    "print('Test PCA Data roc_auc_score: %.4f '%roc_auc_score(y_linsvc_predict, y_test_class))\n",
    "\n",
    "y_predicted = clf.predict(x_test_pca)\n",
    "confusion = confusion_matrix(y_test_class, y_predicted)\n",
    "\n",
    "print('\\n Linear SVC on PCA Data\\n', confusion )\n",
    "\n",
    "print(\n",
    "'\\n\\n\\nTrain Original Data roc_auc_score: 0.9726\\n'\n",
    "'Test Original Data roc_auc_score: 0.9715\\n\\n'\n",
    "' Linear SVC on Original Data\\n'\n",
    "' [[116   0]\\n'\n",
    "' [  7  71]]')\n"
   ]
  },
  {
   "cell_type": "code",
   "execution_count": 31,
   "metadata": {},
   "outputs": [
    {
     "name": "stdout",
     "output_type": "stream",
     "text": [
      "PCA Info\n",
      "0.9741824440619621\n",
      "0.9639175257731959\n",
      "0.9639175257731959\n",
      "\n",
      "Original Data Info\n",
      "0.9741824440619621\n",
      "0.9639175257731959\n",
      "0.9639175257731959\n",
      "Both are exactly the same, so feature engineering using PCA had no effect on the support vector classifier\n"
     ]
    }
   ],
   "source": [
    "print('PCA Info')\n",
    "print(max(train_score))\n",
    "print(max(test_score))\n",
    "print(test_score[10])\n",
    "\n",
    "print('\\nOriginal Data Info')\n",
    "print('0.9741824440619621')\n",
    "print('0.9639175257731959')\n",
    "print('0.9639175257731959')\n",
    "\n",
    "print('Both are exactly the same, so feature engineering using PCA had no effect on the support vector classifier')"
   ]
  },
  {
   "cell_type": "markdown",
   "metadata": {},
   "source": [
    "### Kernelized SVC - Linear"
   ]
  },
  {
   "cell_type": "code",
   "execution_count": 32,
   "metadata": {},
   "outputs": [
    {
     "data": {
      "image/png": "[encoded data removed]",
      "text/plain": [
       "<Figure size 432x288 with 1 Axes>"
      ]
     },
     "metadata": {
      "needs_background": "light"
     },
     "output_type": "display_data"
    }
   ],
   "source": [
    "train_score = []\n",
    "test_score = []\n",
    "\n",
    "for c in c_range:\n",
    "    clf = SVC(gamma='auto',C=c,kernel='linear')\n",
    "    clf.fit(x_train_pca,y_train_class)\n",
    "    train_score.append(clf.score(x_train_pca, y_train_class))\n",
    "    test_score.append(clf.score(x_test_pca, y_test_class))\n",
    "    \n",
    "import matplotlib.pyplot as plt\n",
    "%matplotlib inline\n",
    "\n",
    "plt.plot(c_range, train_score, label = 'Train score')\n",
    "plt.plot(c_range, test_score, label = 'Test score')\n",
    "plt.legend()\n",
    "plt.xlabel('Penalty Parameter C')\n",
    "plt.ylabel('Accuracy')\n",
    "\n",
    "y_predicted = clf.predict(x_test_pca)\n",
    "confusion = confusion_matrix(y_test_class, y_predicted)"
   ]
  },
  {
   "cell_type": "code",
   "execution_count": 33,
   "metadata": {},
   "outputs": [
    {
     "name": "stdout",
     "output_type": "stream",
     "text": [
      "\n",
      " Linear Kernelized SVM on PCA Data\n",
      " [[116   0]\n",
      " [  6  72]]\n",
      "\n",
      "\n",
      " Linear Kernelized SVM on test data\n",
      " [[116   0]\n",
      " [  3  75]]\n"
     ]
    }
   ],
   "source": [
    "print('\\n Linear Kernelized SVM on PCA Data\\n', confusion )\n",
    "\n",
    "print(\n",
    "'\\n\\n Linear Kernelized SVM on test data\\n'\n",
    "' [[116   0]\\n'\n",
    "' [  3  75]]')"
   ]
  },
  {
   "cell_type": "markdown",
   "metadata": {},
   "source": [
    "#### The linear kernelized SVC shows better results for original data"
   ]
  },
  {
   "cell_type": "markdown",
   "metadata": {},
   "source": [
    "### Kernelized SVC - Sigmoid"
   ]
  },
  {
   "cell_type": "code",
   "execution_count": 34,
   "metadata": {},
   "outputs": [
    {
     "data": {
      "image/png": "[encoded data removed]",
      "text/plain": [
       "<Figure size 432x288 with 1 Axes>"
      ]
     },
     "metadata": {
      "needs_background": "light"
     },
     "output_type": "display_data"
    }
   ],
   "source": [
    "train_score = []\n",
    "test_score = []\n",
    "\n",
    "for c in c_range:\n",
    "    clf = SVC(gamma='auto',C=c,kernel='sigmoid')\n",
    "    clf.fit(x_train_pca,y_train_class)\n",
    "    train_score.append(clf.score(x_train_pca, y_train_class))\n",
    "    test_score.append(clf.score(x_test_pca, y_test_class))\n",
    "    \n",
    "import matplotlib.pyplot as plt\n",
    "%matplotlib inline\n",
    "\n",
    "plt.plot(c_range, train_score, label = 'Train score')\n",
    "plt.plot(c_range, test_score, label = 'Test score')\n",
    "plt.legend()\n",
    "plt.xlabel('Penalty Parameter C')\n",
    "plt.ylabel('Accuracy')\n",
    "\n",
    "y_predicted = clf.predict(x_test_pca)\n",
    "confusion = confusion_matrix(y_test_class, y_predicted)"
   ]
  },
  {
   "cell_type": "code",
   "execution_count": 35,
   "metadata": {},
   "outputs": [
    {
     "name": "stdout",
     "output_type": "stream",
     "text": [
      "\n",
      " Sigmoid Kernelized SVM on PCA Data\n",
      " [[116   0]\n",
      " [  7  71]]\n",
      "\n",
      "\n",
      " Sigmoid Kernelized SVM on test data\n",
      " [[116   0]\n",
      " [  7  71]]\n"
     ]
    }
   ],
   "source": [
    "print('\\n Sigmoid Kernelized SVM on PCA Data\\n', confusion )\n",
    "\n",
    "print(\n",
    "'\\n\\n Sigmoid Kernelized SVM on test data\\n'\n",
    "' [[116   0]\\n'\n",
    "' [  7  71]]')"
   ]
  },
  {
   "cell_type": "markdown",
   "metadata": {},
   "source": [
    "#### The sigmoid kernelized SVC shows the same result for PCA and Original data"
   ]
  },
  {
   "cell_type": "markdown",
   "metadata": {},
   "source": [
    "### Kernelized SVC - RBF"
   ]
  },
  {
   "cell_type": "code",
   "execution_count": 36,
   "metadata": {},
   "outputs": [
    {
     "data": {
      "image/png": "[encoded data removed]",
      "text/plain": [
       "<Figure size 432x288 with 1 Axes>"
      ]
     },
     "metadata": {
      "needs_background": "light"
     },
     "output_type": "display_data"
    }
   ],
   "source": [
    "train_score = []\n",
    "test_score = []\n",
    "\n",
    "for c in c_range:\n",
    "    clf = SVC(gamma='auto',C=c,kernel='rbf')\n",
    "    clf.fit(x_train_pca,y_train_class)\n",
    "    train_score.append(clf.score(x_train_pca, y_train_class))\n",
    "    test_score.append(clf.score(x_test_pca, y_test_class))\n",
    "    \n",
    "import matplotlib.pyplot as plt\n",
    "%matplotlib inline\n",
    "\n",
    "plt.plot(c_range, train_score, label = 'Train score')\n",
    "plt.plot(c_range, test_score, label = 'Test score')\n",
    "plt.legend()\n",
    "plt.xlabel('Penalty Parameter C')\n",
    "plt.ylabel('Accuracy')\n",
    "\n",
    "y_predicted = clf.predict(x_test_pca)\n",
    "confusion = confusion_matrix(y_test_class, y_predicted)"
   ]
  },
  {
   "cell_type": "code",
   "execution_count": 37,
   "metadata": {},
   "outputs": [
    {
     "name": "stdout",
     "output_type": "stream",
     "text": [
      "\n",
      " RBF Kernelized SVM on PCA Data\n",
      " [[116   0]\n",
      " [  7  71]]\n",
      "\n",
      "\n",
      " RBF Kernelized SVM on test data\n",
      " [[116   0]\n",
      " [  7  71]]\n"
     ]
    }
   ],
   "source": [
    "print('\\n RBF Kernelized SVM on PCA Data\\n', confusion )\n",
    "\n",
    "print(\n",
    "'\\n\\n RBF Kernelized SVM on test data\\n'\n",
    "' [[116   0]\\n'\n",
    "' [  7  71]]')"
   ]
  },
  {
   "cell_type": "markdown",
   "metadata": {},
   "source": [
    "#### The RBF kernelized SVC shows the same result for PCA and Original data"
   ]
  },
  {
   "cell_type": "markdown",
   "metadata": {},
   "source": [
    "### Kernelized SVC - Poly"
   ]
  },
  {
   "cell_type": "code",
   "execution_count": 38,
   "metadata": {},
   "outputs": [
    {
     "data": {
      "image/png": "[encoded data removed]",
      "text/plain": [
       "<Figure size 432x288 with 1 Axes>"
      ]
     },
     "metadata": {
      "needs_background": "light"
     },
     "output_type": "display_data"
    }
   ],
   "source": [
    "train_score = []\n",
    "test_score = []\n",
    "\n",
    "for c in c_range:\n",
    "    clf = SVC(gamma='auto',C=c,kernel='poly')\n",
    "    clf.fit(x_train_pca,y_train_class)\n",
    "    train_score.append(clf.score(x_train_pca, y_train_class))\n",
    "    test_score.append(clf.score(x_test_pca, y_test_class))\n",
    "    \n",
    "import matplotlib.pyplot as plt\n",
    "%matplotlib inline\n",
    "\n",
    "plt.plot(c_range, train_score, label = 'Train score')\n",
    "plt.plot(c_range, test_score, label = 'Test score')\n",
    "plt.legend()\n",
    "plt.xlabel('Penalty Parameter C')\n",
    "plt.ylabel('Accuracy')\n",
    "\n",
    "y_predicted = clf.predict(x_test_pca)\n",
    "confusion = confusion_matrix(y_test_class, y_predicted)"
   ]
  },
  {
   "cell_type": "code",
   "execution_count": 39,
   "metadata": {},
   "outputs": [
    {
     "name": "stdout",
     "output_type": "stream",
     "text": [
      "\n",
      " Poly Kernelized SVC on PCA Data\n",
      " [[116   0]\n",
      " [ 29  49]]\n",
      "\n",
      "\n",
      " Poly Kernelized SVC on test data\n",
      " [[116   0]\n",
      " [  42  36]]\n"
     ]
    }
   ],
   "source": [
    "print('\\n Poly Kernelized SVC on PCA Data\\n', confusion )\n",
    "\n",
    "print(\n",
    "'\\n\\n Poly Kernelized SVC on test data\\n'\n",
    "' [[116   0]\\n'\n",
    "' [  42  36]]')"
   ]
  },
  {
   "cell_type": "markdown",
   "metadata": {},
   "source": [
    "#### The Poly kernelized SVC shows better results for PCA data"
   ]
  },
  {
   "cell_type": "markdown",
   "metadata": {},
   "source": [
    "### Grid Search kernelized SVC"
   ]
  },
  {
   "cell_type": "code",
   "execution_count": 40,
   "metadata": {},
   "outputs": [
    {
     "name": "stdout",
     "output_type": "stream",
     "text": [
      "Best parameters: {'C': 100, 'gamma': 0.01}\n"
     ]
    }
   ],
   "source": [
    "from sklearn.model_selection import GridSearchCV\n",
    "\n",
    "from sklearn.svm import SVC\n",
    "param_grid = {'C':[0.1, 1, 10,100], 'gamma': [0.01, 0.1, 1, 10,100]}\n",
    "svc = SVC()\n",
    "grid_svc = GridSearchCV(svc, param_grid, cv=5, scoring='roc_auc', return_train_score=True)\n",
    "grid_svc.fit(x_train_pca, y_train_class)\n",
    "print(\"Best parameters: {}\".format(grid_svc.best_params_))"
   ]
  },
  {
   "cell_type": "code",
   "execution_count": 41,
   "metadata": {},
   "outputs": [
    {
     "name": "stdout",
     "output_type": "stream",
     "text": [
      "Output for PCA Data\n",
      "\n",
      "Train score: 0.9948\n",
      "Test score: 0.9956\n",
      "Mean Train Score [0.95619186 0.96597359 0.98936834 0.99045618 0.99502904 0.96458379\n",
      " 0.99031196 0.99359027 0.99679818 0.99798507 0.98956664 0.99470487\n",
      " 0.99694478 0.99941307 0.99998054 0.99481435 0.99613334 0.99921752\n",
      " 0.99993773 1.        ]\n",
      "Mean Test Score [0.9562852  0.96576553 0.9869452  0.98153275 0.97716828 0.96451781\n",
      " 0.98824959 0.99108811 0.97968424 0.98015187 0.9873764  0.99395586\n",
      " 0.99077753 0.97424677 0.98221057 0.99420048 0.99320903 0.98889666\n",
      " 0.96323392 0.98158893]\n",
      "\n",
      "\n",
      "Output for Original Data from Project 1\n",
      "\n",
      "Train score: 0.9980\n",
      "Test score: 0.9991\n",
      "Mean Train Score [0.95628916 0.96601312 0.98944599 0.99131905 0.9985448  0.96426134\n",
      " 0.99077102 0.99429851 0.99868137 0.99998831 0.98975396 0.9952848\n",
      " 0.99887254 0.9999961  1.         0.99529285 0.9976417  0.99984836\n",
      " 1.         1.        ]\n",
      "Mean Test Score [0.9562852  0.96570408 0.98776173 0.97959112 0.97734058 0.964265\n",
      " 0.98875041 0.99089995 0.98166251 0.98340855 0.98743702 0.99457896\n",
      " 0.99233147 0.97600882 0.98421413 0.99513589 0.99514407 0.99228436\n",
      " 0.97110835 0.9844016 ]\n"
     ]
    }
   ],
   "source": [
    "print('Output for PCA Data\\n')\n",
    "print('Train score: {:.4f}'.format(grid_svc.score(x_train_pca,y_train_class)))\n",
    "print('Test score: {:.4f}'.format(grid_svc.score(x_test_pca, y_test_class)))\n",
    "print('Mean Train Score',grid_svc.cv_results_['mean_train_score'])\n",
    "print('Mean Test Score',grid_svc.cv_results_['mean_test_score'])\n",
    "\n",
    "print('\\n\\nOutput for Original Data from Project 1\\n')\n",
    "print('Train score: 0.9980\\n'\n",
    "'Test score: 0.9991\\n'\n",
    "'Mean Train Score [0.95628916 0.96601312 0.98944599 0.99131905 0.9985448  0.96426134\\n'\n",
    "' 0.99077102 0.99429851 0.99868137 0.99998831 0.98975396 0.9952848\\n'\n",
    "' 0.99887254 0.9999961  1.         0.99529285 0.9976417  0.99984836\\n'\n",
    "' 1.         1.        ]\\n'\n",
    "'Mean Test Score [0.9562852  0.96570408 0.98776173 0.97959112 0.97734058 0.964265\\n'\n",
    "' 0.98875041 0.99089995 0.98166251 0.98340855 0.98743702 0.99457896\\n'\n",
    "' 0.99233147 0.97600882 0.98421413 0.99513589 0.99514407 0.99228436\\n'\n",
    "' 0.97110835 0.9844016 ]')"
   ]
  },
  {
   "cell_type": "code",
   "execution_count": 42,
   "metadata": {},
   "outputs": [
    {
     "name": "stdout",
     "output_type": "stream",
     "text": [
      "Train Original Data roc_auc_score: 0.9766\n",
      "Test Original Data roc_auc_score: 0.9677 \n",
      "\n",
      " Grid kernelized SVC on PCA Data \n",
      " [[116   0]\n",
      " [  8  70]]\n",
      "\n",
      "\n",
      "Train PCA Data roc_auc_score: 0.9726\n",
      "Test PCA Data roc_auc_score: 0.9715\n",
      "\n",
      " Grid kernelized SVC on Original Data\n",
      " [[116   0]\n",
      " [  7  71]]\n"
     ]
    }
   ],
   "source": [
    "y_svc_predict = grid_svc.predict(x_test_pca)\n",
    "y_svc_train_predict = grid_svc.predict(x_train_pca)\n",
    "print('Train Original Data roc_auc_score: %.4f'%roc_auc_score(y_svc_train_predict, y_train_class))\n",
    "print('Test Original Data roc_auc_score: %.4f '%roc_auc_score(y_svc_predict, y_test_class))\n",
    "\n",
    "y_predicted = grid_svc.predict(x_test_pca)\n",
    "confusion = confusion_matrix(y_test_class, y_predicted)\n",
    "\n",
    "print('\\n Grid kernelized SVC on PCA Data \\n', confusion )\n",
    "\n",
    "print(\n",
    "'\\n\\nTrain PCA Data roc_auc_score: 0.9726\\n'\n",
    "'Test PCA Data roc_auc_score: 0.9715\\n\\n'\n",
    "' Grid kernelized SVC on Original Data\\n'\n",
    "' [[116   0]\\n'\n",
    "' [  7  71]]'\n",
    ")"
   ]
  },
  {
   "cell_type": "markdown",
   "metadata": {},
   "source": [
    "#### This method shows better results when run using Original Data without PCA feature engineering"
   ]
  },
  {
   "cell_type": "markdown",
   "metadata": {},
   "source": [
    "## Decision Tree Classifier"
   ]
  },
  {
   "cell_type": "code",
   "execution_count": 43,
   "metadata": {},
   "outputs": [
    {
     "data": {
      "image/png": "[encoded data removed]",
      "text/plain": [
       "<Figure size 432x288 with 1 Axes>"
      ]
     },
     "metadata": {
      "needs_background": "light"
     },
     "output_type": "display_data"
    }
   ],
   "source": [
    "from sklearn.tree import DecisionTreeClassifier\n",
    "depth_range = [1,2,3,4,5,6,7,8,9,10]\n",
    "train_score = []\n",
    "test_score = []\n",
    "\n",
    "for d in depth_range:\n",
    "    dtree = DecisionTreeClassifier(random_state=0,max_depth=d)\n",
    "    dtree.fit(x_train_pca, y_train_class)    \n",
    "    train_score.append(dtree.score(x_train_pca, y_train_class))\n",
    "    test_score.append(dtree.score(x_test_pca, y_test_class))\n",
    "    \n",
    "%matplotlib inline\n",
    "def plot_feature_importances(model):\n",
    "    n_features = x_train_pca.shape[1]\n",
    "    plt.barh(range(n_features), model.feature_importances_, align='center')\n",
    "    plt.yticks(np.arange(n_features), list(x))\n",
    "    plt.xlabel(\"Feature importance\")\n",
    "    plt.ylabel(\"Feature\")\n",
    "    plt.ylim(-1, n_features)\n",
    "\n",
    "plot_feature_importances(dtree)"
   ]
  },
  {
   "cell_type": "markdown",
   "metadata": {},
   "source": [
    "#### Here we see a difference in the importance score for features when compared to the original data\n",
    "#### In the original the highest importance was given to risk_d with over 0.5, a feature that was removed when we ran PCA"
   ]
  },
  {
   "cell_type": "code",
   "execution_count": 44,
   "metadata": {},
   "outputs": [
    {
     "data": {
      "text/plain": [
       "Text(0, 0.5, 'Accuracy')"
      ]
     },
     "execution_count": 44,
     "metadata": {},
     "output_type": "execute_result"
    },
    {
     "data": {
      "image/png": "[encoded data removed]",
      "text/plain": [
       "<Figure size 432x288 with 1 Axes>"
      ]
     },
     "metadata": {
      "needs_background": "light"
     },
     "output_type": "display_data"
    }
   ],
   "source": [
    "import matplotlib.pyplot as plt\n",
    "%matplotlib inline\n",
    "\n",
    "plt.plot(depth_range, train_score, label = 'Train score')\n",
    "plt.plot(depth_range, test_score, label = 'Test score')\n",
    "plt.legend()\n",
    "plt.xlabel('Depth of Tree')\n",
    "plt.ylabel('Accuracy')"
   ]
  },
  {
   "cell_type": "code",
   "execution_count": 45,
   "metadata": {},
   "outputs": [
    {
     "name": "stdout",
     "output_type": "stream",
     "text": [
      "Train PCA Data roc_auc_score: 1.0000\n",
      "Test PCA Data roc_auc_score: 0.9644 \n",
      "\n",
      " Decision Tree on test data \n",
      " [[115   1]\n",
      " [  7  71]]\n",
      "\n",
      "\n",
      "Train Original Data roc_auc_score: 1.0000\n",
      "Test Original Data roc_auc_score: 0.9396\n",
      " Decision Tree on test data\n",
      " [[112   4]\n",
      " [  8  70]]\n"
     ]
    }
   ],
   "source": [
    "y_dtree_predict = dtree.predict(x_test_pca)\n",
    "y_dtree_train_predict = dtree.predict(x_train_pca)\n",
    "print('Train PCA Data roc_auc_score: %.4f'%roc_auc_score(y_dtree_train_predict, y_train_class))\n",
    "print('Test PCA Data roc_auc_score: %.4f '%roc_auc_score(y_dtree_predict, y_test_class))\n",
    "\n",
    "y_predicted = dtree.predict(x_test_pca)\n",
    "confusion = confusion_matrix(y_test_class, y_predicted)\n",
    "\n",
    "print('\\n Decision Tree on test data \\n', confusion )\n",
    "\n",
    "\n",
    "print(\n",
    "'\\n\\nTrain Original Data roc_auc_score: 1.0000\\n'\n",
    "'Test Original Data roc_auc_score: 0.9396\\n'\n",
    "' Decision Tree on test data\\n'\n",
    "' [[112   4]\\n'\n",
    "' [  8  70]]')\n"
   ]
  },
  {
   "cell_type": "markdown",
   "metadata": {},
   "source": [
    "#### The scores show that PCA dadta is giving us better scores for Decision Tree classifier model"
   ]
  },
  {
   "cell_type": "markdown",
   "metadata": {},
   "source": [
    "## Deep Learning Classifier"
   ]
  },
  {
   "cell_type": "code",
   "execution_count": 46,
   "metadata": {},
   "outputs": [],
   "source": [
    "from tensorflow.keras import Sequential\n",
    "from tensorflow.keras.layers import Dense"
   ]
  },
  {
   "cell_type": "code",
   "execution_count": 48,
   "metadata": {},
   "outputs": [
    {
     "name": "stdout",
     "output_type": "stream",
     "text": [
      "Epoch 1/50\n",
      "581/581 [==============================] - 0s 303us/sample - loss: 0.6911 - acc: 0.5714\n",
      "Epoch 2/50\n",
      "581/581 [==============================] - 0s 5us/sample - loss: 0.6888 - acc: 0.7676\n",
      "Epoch 3/50\n",
      "581/581 [==============================] - 0s 7us/sample - loss: 0.6868 - acc: 0.9002\n",
      "Epoch 4/50\n",
      "581/581 [==============================] - 0s 7us/sample - loss: 0.6847 - acc: 0.8967\n",
      "Epoch 5/50\n",
      "581/581 [==============================] - 0s 7us/sample - loss: 0.6826 - acc: 0.9053\n",
      "Epoch 6/50\n",
      "581/581 [==============================] - 0s 7us/sample - loss: 0.6803 - acc: 0.9329\n",
      "Epoch 7/50\n",
      "581/581 [==============================] - 0s 5us/sample - loss: 0.6780 - acc: 0.9363\n",
      "Epoch 8/50\n",
      "581/581 [==============================] - 0s 7us/sample - loss: 0.6754 - acc: 0.9398\n",
      "Epoch 9/50\n",
      "581/581 [==============================] - 0s 7us/sample - loss: 0.6727 - acc: 0.9398\n",
      "Epoch 10/50\n",
      "581/581 [==============================] - 0s 10us/sample - loss: 0.6698 - acc: 0.9398\n",
      "Epoch 11/50\n",
      "581/581 [==============================] - 0s 9us/sample - loss: 0.6666 - acc: 0.9363\n",
      "Epoch 12/50\n",
      "581/581 [==============================] - 0s 9us/sample - loss: 0.6631 - acc: 0.9363\n",
      "Epoch 13/50\n",
      "581/581 [==============================] - 0s 7us/sample - loss: 0.6591 - acc: 0.9329\n",
      "Epoch 14/50\n",
      "581/581 [==============================] - 0s 9us/sample - loss: 0.6547 - acc: 0.9398\n",
      "Epoch 15/50\n",
      "581/581 [==============================] - 0s 9us/sample - loss: 0.6497 - acc: 0.9363\n",
      "Epoch 16/50\n",
      "581/581 [==============================] - 0s 7us/sample - loss: 0.6442 - acc: 0.9415\n",
      "Epoch 17/50\n",
      "581/581 [==============================] - 0s 9us/sample - loss: 0.6383 - acc: 0.9398\n",
      "Epoch 18/50\n",
      "581/581 [==============================] - 0s 7us/sample - loss: 0.6322 - acc: 0.9380\n",
      "Epoch 19/50\n",
      "581/581 [==============================] - 0s 7us/sample - loss: 0.6254 - acc: 0.9415\n",
      "Epoch 20/50\n",
      "581/581 [==============================] - 0s 7us/sample - loss: 0.6180 - acc: 0.9466\n",
      "Epoch 21/50\n",
      "581/581 [==============================] - 0s 9us/sample - loss: 0.6099 - acc: 0.9570\n",
      "Epoch 22/50\n",
      "581/581 [==============================] - 0s 10us/sample - loss: 0.6015 - acc: 0.9570\n",
      "Epoch 23/50\n",
      "581/581 [==============================] - 0s 7us/sample - loss: 0.5922 - acc: 0.9570\n",
      "Epoch 24/50\n",
      "581/581 [==============================] - 0s 7us/sample - loss: 0.5825 - acc: 0.9570\n",
      "Epoch 25/50\n",
      "581/581 [==============================] - 0s 9us/sample - loss: 0.5724 - acc: 0.9518\n",
      "Epoch 26/50\n",
      "581/581 [==============================] - 0s 10us/sample - loss: 0.5614 - acc: 0.9535\n",
      "Epoch 27/50\n",
      "581/581 [==============================] - 0s 9us/sample - loss: 0.5503 - acc: 0.9552\n",
      "Epoch 28/50\n",
      "581/581 [==============================] - 0s 9us/sample - loss: 0.5387 - acc: 0.9570\n",
      "Epoch 29/50\n",
      "581/581 [==============================] - 0s 7us/sample - loss: 0.5270 - acc: 0.9587\n",
      "Epoch 30/50\n",
      "581/581 [==============================] - 0s 9us/sample - loss: 0.5150 - acc: 0.9570\n",
      "Epoch 31/50\n",
      "581/581 [==============================] - 0s 9us/sample - loss: 0.5032 - acc: 0.9552\n",
      "Epoch 32/50\n",
      "581/581 [==============================] - 0s 10us/sample - loss: 0.4911 - acc: 0.9518\n",
      "Epoch 33/50\n",
      "581/581 [==============================] - 0s 12us/sample - loss: 0.4791 - acc: 0.9518\n",
      "Epoch 34/50\n",
      "581/581 [==============================] - 0s 9us/sample - loss: 0.4670 - acc: 0.9484\n",
      "Epoch 35/50\n",
      "581/581 [==============================] - 0s 7us/sample - loss: 0.4551 - acc: 0.9501\n",
      "Epoch 36/50\n",
      "581/581 [==============================] - 0s 7us/sample - loss: 0.4434 - acc: 0.9501\n",
      "Epoch 37/50\n",
      "581/581 [==============================] - 0s 7us/sample - loss: 0.4318 - acc: 0.9484\n",
      "Epoch 38/50\n",
      "581/581 [==============================] - 0s 7us/sample - loss: 0.4206 - acc: 0.9466\n",
      "Epoch 39/50\n",
      "581/581 [==============================] - 0s 9us/sample - loss: 0.4094 - acc: 0.9432\n",
      "Epoch 40/50\n",
      "581/581 [==============================] - 0s 9us/sample - loss: 0.3985 - acc: 0.9432\n",
      "Epoch 41/50\n",
      "581/581 [==============================] - 0s 9us/sample - loss: 0.3877 - acc: 0.9466\n",
      "Epoch 42/50\n",
      "581/581 [==============================] - 0s 7us/sample - loss: 0.3772 - acc: 0.9466\n",
      "Epoch 43/50\n",
      "581/581 [==============================] - 0s 7us/sample - loss: 0.3668 - acc: 0.9535\n",
      "Epoch 44/50\n",
      "581/581 [==============================] - 0s 7us/sample - loss: 0.3567 - acc: 0.9535\n",
      "Epoch 45/50\n",
      "581/581 [==============================] - 0s 9us/sample - loss: 0.3469 - acc: 0.9552\n",
      "Epoch 46/50\n",
      "581/581 [==============================] - 0s 7us/sample - loss: 0.3374 - acc: 0.9552\n",
      "Epoch 47/50\n",
      "581/581 [==============================] - 0s 7us/sample - loss: 0.3279 - acc: 0.9587\n",
      "Epoch 48/50\n",
      "581/581 [==============================] - 0s 9us/sample - loss: 0.3189 - acc: 0.9587\n",
      "Epoch 49/50\n",
      "581/581 [==============================] - 0s 9us/sample - loss: 0.3100 - acc: 0.9570\n",
      "Epoch 50/50\n",
      "581/581 [==============================] - 0s 10us/sample - loss: 0.3015 - acc: 0.9587\n"
     ]
    },
    {
     "data": {
      "text/plain": [
       "<tensorflow.python.keras.callbacks.History at 0x209496fa710>"
      ]
     },
     "execution_count": 48,
     "metadata": {},
     "output_type": "execute_result"
    }
   ],
   "source": [
    "m1 = Sequential()\n",
    "m1.add(Dense(32,input_dim = 12 ,kernel_initializer='normal',activation = 'relu'))\n",
    "m1.add(Dense(16,input_dim = 12 ,kernel_initializer='normal',activation = 'relu'))\n",
    "m1.add(Dense(1, activation = 'sigmoid'))\n",
    "m1.compile(loss= 'binary_crossentropy' , optimizer = 'adam',metrics = ['accuracy'] )\n",
    "m1.fit(x_train_class, y_train_class, epochs = 50, batch_size = 300)"
   ]
  },
  {
   "cell_type": "code",
   "execution_count": 49,
   "metadata": {},
   "outputs": [
    {
     "name": "stdout",
     "output_type": "stream",
     "text": [
      "581/581 [==============================] - 0s 120us/sample - loss: 0.2951 - acc: 0.9587\n",
      "[0.2951494650770998, 0.9586919]\n",
      "194/194 [==============================] - 0s 36us/sample - loss: 0.3316 - acc: 0.9381\n",
      "[0.3316367127231716, 0.9381443]\n"
     ]
    }
   ],
   "source": [
    "print(m1.evaluate(x_train_class, y_train_class))\n",
    "print(m1.evaluate(x_test_class, y_test_class))"
   ]
  },
  {
   "cell_type": "code",
   "execution_count": 50,
   "metadata": {},
   "outputs": [
    {
     "name": "stdout",
     "output_type": "stream",
     "text": [
      "Epoch 1/30\n",
      "581/581 [==============================] - 0s 359us/sample - loss: 0.6968 - acc: 0.3614\n",
      "Epoch 2/30\n",
      "581/581 [==============================] - 0s 12us/sample - loss: 0.6921 - acc: 0.5473\n",
      "Epoch 3/30\n",
      "581/581 [==============================] - 0s 14us/sample - loss: 0.6901 - acc: 0.6059\n",
      "Epoch 4/30\n",
      "581/581 [==============================] - 0s 15us/sample - loss: 0.6884 - acc: 0.6093\n",
      "Epoch 5/30\n",
      "581/581 [==============================] - 0s 15us/sample - loss: 0.6866 - acc: 0.6282\n",
      "Epoch 6/30\n",
      "581/581 [==============================] - 0s 14us/sample - loss: 0.6842 - acc: 0.6661\n",
      "Epoch 7/30\n",
      "581/581 [==============================] - 0s 14us/sample - loss: 0.6811 - acc: 0.6867\n",
      "Epoch 8/30\n",
      "581/581 [==============================] - 0s 14us/sample - loss: 0.6771 - acc: 0.7349\n",
      "Epoch 9/30\n",
      "581/581 [==============================] - 0s 14us/sample - loss: 0.6720 - acc: 0.7590\n",
      "Epoch 10/30\n",
      "581/581 [==============================] - 0s 14us/sample - loss: 0.6664 - acc: 0.7659\n",
      "Epoch 11/30\n",
      "581/581 [==============================] - 0s 14us/sample - loss: 0.6599 - acc: 0.7917\n",
      "Epoch 12/30\n",
      "581/581 [==============================] - 0s 14us/sample - loss: 0.6528 - acc: 0.8055\n",
      "Epoch 13/30\n",
      "581/581 [==============================] - 0s 14us/sample - loss: 0.6453 - acc: 0.8193\n",
      "Epoch 14/30\n",
      "581/581 [==============================] - 0s 17us/sample - loss: 0.6370 - acc: 0.8279\n",
      "Epoch 15/30\n",
      "581/581 [==============================] - 0s 14us/sample - loss: 0.6282 - acc: 0.8296\n",
      "Epoch 16/30\n",
      "581/581 [==============================] - 0s 15us/sample - loss: 0.6185 - acc: 0.8365\n",
      "Epoch 17/30\n",
      "581/581 [==============================] - 0s 15us/sample - loss: 0.6080 - acc: 0.8417\n",
      "Epoch 18/30\n",
      "581/581 [==============================] - 0s 12us/sample - loss: 0.5970 - acc: 0.8485\n",
      "Epoch 19/30\n",
      "581/581 [==============================] - 0s 14us/sample - loss: 0.5852 - acc: 0.8520\n",
      "Epoch 20/30\n",
      "581/581 [==============================] - 0s 14us/sample - loss: 0.5725 - acc: 0.8537\n",
      "Epoch 21/30\n",
      "581/581 [==============================] - 0s 15us/sample - loss: 0.5595 - acc: 0.8606\n",
      "Epoch 22/30\n",
      "581/581 [==============================] - 0s 14us/sample - loss: 0.5457 - acc: 0.8744\n",
      "Epoch 23/30\n",
      "581/581 [==============================] - 0s 15us/sample - loss: 0.5312 - acc: 0.8795\n",
      "Epoch 24/30\n",
      "581/581 [==============================] - 0s 14us/sample - loss: 0.5163 - acc: 0.8830\n",
      "Epoch 25/30\n",
      "581/581 [==============================] - 0s 14us/sample - loss: 0.5012 - acc: 0.8898\n",
      "Epoch 26/30\n",
      "581/581 [==============================] - 0s 15us/sample - loss: 0.4853 - acc: 0.8967\n",
      "Epoch 27/30\n",
      "581/581 [==============================] - 0s 12us/sample - loss: 0.4695 - acc: 0.9019\n",
      "Epoch 28/30\n",
      "581/581 [==============================] - 0s 15us/sample - loss: 0.4535 - acc: 0.9088\n",
      "Epoch 29/30\n",
      "581/581 [==============================] - 0s 14us/sample - loss: 0.4372 - acc: 0.9191\n",
      "Epoch 30/30\n",
      "581/581 [==============================] - 0s 17us/sample - loss: 0.4210 - acc: 0.9208\n"
     ]
    },
    {
     "data": {
      "text/plain": [
       "<tensorflow.python.keras.callbacks.History at 0x20949eee5c0>"
      ]
     },
     "execution_count": 50,
     "metadata": {},
     "output_type": "execute_result"
    }
   ],
   "source": [
    "m2 = Sequential()\n",
    "m2.add(Dense(20, input_dim = 12, activation = 'relu'))\n",
    "m2.add(Dense(10, activation = 'relu'))\n",
    "m2.add(Dense(5, activation = 'relu'))\n",
    "m2.add(Dense(1, activation = 'sigmoid'))\n",
    "m2.compile(loss= 'binary_crossentropy' , optimizer = 'adam',metrics = ['accuracy'] )\n",
    "m2.fit(x_train_class, y_train_class, epochs = 30, batch_size = 150)"
   ]
  },
  {
   "cell_type": "code",
   "execution_count": 51,
   "metadata": {},
   "outputs": [
    {
     "name": "stdout",
     "output_type": "stream",
     "text": [
      "581/581 [==============================] - 0s 127us/sample - loss: 0.4107 - acc: 0.9243\n",
      "[0.4106766384563019, 0.9242685]\n",
      "194/194 [==============================] - 0s 31us/sample - loss: 0.4270 - acc: 0.9485\n",
      "[0.4270086227004061, 0.9484536]\n"
     ]
    }
   ],
   "source": [
    "print(m2.evaluate(x_train_class, y_train_class))\n",
    "print(m2.evaluate(x_test_class, y_test_class))"
   ]
  },
  {
   "cell_type": "markdown",
   "metadata": {},
   "source": [
    "# Regression Models"
   ]
  },
  {
   "cell_type": "markdown",
   "metadata": {},
   "source": [
    "## Gradient Boosted ------"
   ]
  },
  {
   "cell_type": "code",
   "execution_count": 52,
   "metadata": {},
   "outputs": [
    {
     "name": "stdout",
     "output_type": "stream",
     "text": [
      "0.999999663708779\n",
      "0.19995045613803397\n"
     ]
    }
   ],
   "source": [
    "from sklearn.ensemble import GradientBoostingRegressor\n",
    "gbrt = GradientBoostingRegressor(max_depth=3, random_state=0)\n",
    "param_grid = {'n_estimators': [100, 200], 'learning_rate':[0.5, 1.0]}\n",
    "grid_gbrt = GridSearchCV(gbrt, param_grid, cv=5, n_jobs=-1, return_train_score=True)\n",
    "grid_gbrt.fit(x_train_reg, y_train_reg)\n",
    "train_score = grid_gbrt.score(x_train_reg, y_train_reg)\n",
    "test_score = grid_gbrt.score(x_test_reg, y_test_reg)\n",
    "print(train_score)\n",
    "print(test_score)"
   ]
  },
  {
   "cell_type": "markdown",
   "metadata": {},
   "source": [
    "## Bagging Method"
   ]
  },
  {
   "cell_type": "markdown",
   "metadata": {},
   "source": [
    "### Linear Regressor with Bagging"
   ]
  },
  {
   "cell_type": "code",
   "execution_count": 53,
   "metadata": {},
   "outputs": [
    {
     "name": "stdout",
     "output_type": "stream",
     "text": [
      "Train score: 0.7006\n",
      "Test score: 0.4638\n"
     ]
    }
   ],
   "source": [
    "from sklearn.ensemble import BaggingRegressor\n",
    "from sklearn.linear_model import LinearRegression\n",
    "lr = LinearRegression()\n",
    "bag_lr = BaggingRegressor(lr,n_estimators=500,max_samples=100,random_state=0)\n",
    "bag_lr.fit(x_train_reg,y_train_reg)\n",
    "print('Train score: {:.4f}'.format(bag_lr.score(x_train_reg, y_train_reg)))\n",
    "print('Test score: {:.4f}'.format(bag_lr.score(x_test_reg, y_test_reg)))"
   ]
  },
  {
   "cell_type": "markdown",
   "metadata": {},
   "source": [
    "### KNN Regressor with Bagging"
   ]
  },
  {
   "cell_type": "code",
   "execution_count": 54,
   "metadata": {},
   "outputs": [
    {
     "name": "stdout",
     "output_type": "stream",
     "text": [
      "Train score: 0.5449\n",
      "Test score: 0.0872\n"
     ]
    }
   ],
   "source": [
    "from sklearn.ensemble import BaggingRegressor\n",
    "from sklearn.neighbors import KNeighborsRegressor\n",
    "k = KNeighborsRegressor(n_neighbors=2)\n",
    "bag_reg = BaggingRegressor(k,n_estimators=500,max_samples=100,bootstrap=True,random_state=0)\n",
    "bag_reg.fit(x_train_reg,y_train_reg)\n",
    "print('Train score: {:.4f}'.format(bag_reg.score(x_train_reg, y_train_reg)))\n",
    "print('Test score: {:.4f}'.format(bag_reg.score(x_test_reg, y_test_reg)))"
   ]
  },
  {
   "cell_type": "markdown",
   "metadata": {},
   "source": [
    "## Pasting Method"
   ]
  },
  {
   "cell_type": "markdown",
   "metadata": {},
   "source": [
    "### Linear Regressor with Pasting"
   ]
  },
  {
   "cell_type": "code",
   "execution_count": 55,
   "metadata": {},
   "outputs": [
    {
     "name": "stdout",
     "output_type": "stream",
     "text": [
      "Train score: 0.7093\n",
      "Test score: 0.4657\n"
     ]
    }
   ],
   "source": [
    "from sklearn.ensemble import BaggingRegressor\n",
    "from sklearn.linear_model import LinearRegression\n",
    "lr = LinearRegression()\n",
    "bag_lr = BaggingRegressor(lr,n_estimators=500,max_samples=100,random_state=0,bootstrap=False)\n",
    "bag_lr.fit(x_train_reg,y_train_reg)\n",
    "print('Train score: {:.4f}'.format(bag_lr.score(x_train_reg, y_train_reg)))\n",
    "print('Test score: {:.4f}'.format(bag_lr.score(x_test_reg, y_test_reg)))"
   ]
  },
  {
   "cell_type": "markdown",
   "metadata": {},
   "source": [
    "### KNN Regressor with Pasting"
   ]
  },
  {
   "cell_type": "code",
   "execution_count": 56,
   "metadata": {},
   "outputs": [
    {
     "name": "stdout",
     "output_type": "stream",
     "text": [
      "Train score: 0.54\n",
      "Test score: 0.09\n"
     ]
    }
   ],
   "source": [
    "from sklearn.ensemble import BaggingRegressor\n",
    "from sklearn.neighbors import KNeighborsRegressor\n",
    "k = KNeighborsRegressor(n_neighbors=2)\n",
    "bag_knn_reg = BaggingRegressor(k,n_estimators=500,max_samples=100,bootstrap=False,random_state=0)\n",
    "bag_knn_reg.fit(x_train_reg,y_train_reg)\n",
    "print('Train score: {:.2f}'.format(bag_knn_reg.score(x_train_reg, y_train_reg)))\n",
    "print('Test score: {:.2f}'.format(bag_knn_reg.score(x_test_reg, y_test_reg)))"
   ]
  },
  {
   "cell_type": "markdown",
   "metadata": {},
   "source": [
    "## ADAboost Method"
   ]
  },
  {
   "cell_type": "markdown",
   "metadata": {},
   "source": [
    "### Linear Regressor with ADAboost"
   ]
  },
  {
   "cell_type": "code",
   "execution_count": 57,
   "metadata": {},
   "outputs": [
    {
     "name": "stdout",
     "output_type": "stream",
     "text": [
      "Train score: 0.7563\n",
      "Test score: 0.3329\n"
     ]
    }
   ],
   "source": [
    "from sklearn.ensemble import AdaBoostRegressor\n",
    "from sklearn.linear_model import LinearRegression\n",
    "lr = LinearRegression()\n",
    "ada_lr = AdaBoostRegressor(lr,n_estimators=200,learning_rate=0.01)\n",
    "ada_lr.fit(x_train_reg,y_train_reg)\n",
    "print('Train score: {:.4f}'.format(ada_lr.score(x_train_reg, y_train_reg)))\n",
    "print('Test score: {:.4f}'.format(ada_lr.score(x_test_reg, y_test_reg)))"
   ]
  },
  {
   "cell_type": "markdown",
   "metadata": {},
   "source": [
    "### KNN Regressor with ADAboost"
   ]
  },
  {
   "cell_type": "code",
   "execution_count": 58,
   "metadata": {},
   "outputs": [
    {
     "name": "stdout",
     "output_type": "stream",
     "text": [
      "Train score: 0.99\n",
      "Test score: 0.11\n"
     ]
    }
   ],
   "source": [
    "from sklearn.ensemble import AdaBoostRegressor\n",
    "from sklearn.neighbors import KNeighborsRegressor\n",
    "k = KNeighborsRegressor(n_neighbors=2)\n",
    "\n",
    "ada_knn = AdaBoostRegressor(k,n_estimators=200,learning_rate=0.01)\n",
    "ada_knn.fit(x_train_reg,y_train_reg)\n",
    "print('Train score: {:.2f}'.format(ada_knn.score(x_train_reg, y_train_reg)))\n",
    "print('Test score: {:.2f}'.format(ada_knn.score(x_test_reg, y_test_reg)))"
   ]
  },
  {
   "cell_type": "markdown",
   "metadata": {},
   "source": [
    "## PCA"
   ]
  },
  {
   "cell_type": "code",
   "execution_count": 59,
   "metadata": {},
   "outputs": [
    {
     "data": {
      "text/plain": [
       "(775, 10)"
      ]
     },
     "execution_count": 59,
     "metadata": {},
     "output_type": "execute_result"
    }
   ],
   "source": [
    "from sklearn.decomposition import PCA\n",
    "from sklearn.preprocessing import StandardScaler\n",
    "scaler = StandardScaler()\n",
    "X_scaled = scaler.fit_transform(x)\n",
    "pca = PCA(n_components=0.95)\n",
    "X_reduced = pca.fit_transform(X_scaled)\n",
    "X_reduced.shape"
   ]
  },
  {
   "cell_type": "code",
   "execution_count": 60,
   "metadata": {},
   "outputs": [],
   "source": [
    "X_reduced_train, X_reduced_test, y_train, y_test = train_test_split(X_reduced, y_reg, random_state=0)"
   ]
  },
  {
   "cell_type": "markdown",
   "metadata": {},
   "source": [
    "### Linear Regression"
   ]
  },
  {
   "cell_type": "code",
   "execution_count": 61,
   "metadata": {},
   "outputs": [
    {
     "name": "stdout",
     "output_type": "stream",
     "text": [
      "PCA Train Score: 0.7683508731198982\n",
      "PCA Test Score: 0.4327198178006896\n",
      "\n",
      "Original Train Score: 0.7789\n",
      "Original Test Score: 0.4314\n"
     ]
    }
   ],
   "source": [
    "from sklearn.linear_model import LinearRegression\n",
    "linreg=LinearRegression()\n",
    "linreg.fit(X_reduced_train,y_train)\n",
    "lin_train=linreg.score(X_reduced_train, y_train)\n",
    "lin_test=linreg.score(X_reduced_test, y_test)\n",
    "\n",
    "print(\"PCA Train Score:\",lin_train)\n",
    "print(\"PCA Test Score:\",lin_test)\n",
    "print(\n",
    "'\\nOriginal Train Score: 0.7789\\n'\n",
    "'Original Test Score: 0.4314'\n",
    ")"
   ]
  },
  {
   "cell_type": "markdown",
   "metadata": {},
   "source": [
    "### KNN Regressor"
   ]
  },
  {
   "cell_type": "code",
   "execution_count": 62,
   "metadata": {},
   "outputs": [
    {
     "name": "stdout",
     "output_type": "stream",
     "text": [
      "Best parameters: {'n_neighbors': 1}\n"
     ]
    },
    {
     "name": "stderr",
     "output_type": "stream",
     "text": [
      "c:\\users\\navarurh\\appdata\\local\\programs\\python\\python36\\lib\\site-packages\\sklearn\\model_selection\\_search.py:841: DeprecationWarning: The default of the `iid` parameter will change from True to False in version 0.22 and will be removed in 0.24. This will change numeric results when test-set sizes are unequal.\n",
      "  DeprecationWarning)\n"
     ]
    }
   ],
   "source": [
    "from sklearn.neighbors import KNeighborsRegressor\n",
    "param_grid = {'n_neighbors': [1, 5, 10, 15, 20]}\n",
    "grid_knn = GridSearchCV(KNeighborsRegressor(), param_grid, cv=5, return_train_score=True)\n",
    "grid_knn.fit(X_reduced_train, y_train)\n",
    "print(\"Best parameters: {}\".format(grid_knn.best_params_))"
   ]
  },
  {
   "cell_type": "code",
   "execution_count": 63,
   "metadata": {},
   "outputs": [
    {
     "name": "stdout",
     "output_type": "stream",
     "text": [
      "PCA Train Score: 1.0\n",
      "PCA Test Score: 0.13811761170963754\n",
      "\n",
      "Original Train Score k-3: 0.8316368053723135\n",
      "Original Test Score k-3: 0.1597751627149494\n",
      "\n"
     ]
    }
   ],
   "source": [
    "knn_train=grid_knn.score(X_reduced_train, y_train)\n",
    "knn_test=grid_knn.score(X_reduced_test, y_test)\n",
    "\n",
    "print(\"PCA Train Score:\",knn_train)\n",
    "print(\"PCA Test Score:\",knn_test)\n",
    "print(\n",
    "'\\nOriginal Train Score k-3: 0.8316368053723135\\n'\n",
    "'Original Test Score k-3: 0.1597751627149494\\n'\n",
    ")"
   ]
  },
  {
   "cell_type": "markdown",
   "metadata": {},
   "source": [
    "### Ridge Regressor"
   ]
  },
  {
   "cell_type": "code",
   "execution_count": 64,
   "metadata": {},
   "outputs": [
    {
     "name": "stdout",
     "output_type": "stream",
     "text": [
      "Best parameters: {'alpha': 100}\n"
     ]
    },
    {
     "name": "stderr",
     "output_type": "stream",
     "text": [
      "c:\\users\\navarurh\\appdata\\local\\programs\\python\\python36\\lib\\site-packages\\sklearn\\model_selection\\_search.py:841: DeprecationWarning: The default of the `iid` parameter will change from True to False in version 0.22 and will be removed in 0.24. This will change numeric results when test-set sizes are unequal.\n",
      "  DeprecationWarning)\n"
     ]
    }
   ],
   "source": [
    "from sklearn.linear_model import Ridge\n",
    "param_grid = {'alpha': [0.001, 0.01, 0.1, 1, 10, 100]}\n",
    "grid_ridge = GridSearchCV(Ridge(), param_grid, cv=5, return_train_score=True)\n",
    "grid_ridge.fit(X_reduced_train, y_train)\n",
    "print(\"Best parameters: {}\".format(grid_ridge.best_params_))"
   ]
  },
  {
   "cell_type": "code",
   "execution_count": 65,
   "metadata": {},
   "outputs": [
    {
     "name": "stdout",
     "output_type": "stream",
     "text": [
      "PCA Train Score: 0.7533187449529662\n",
      "PCA Test Score: 0.25371798133984214\n",
      "\n",
      "Original Train Score: 0.5712\n",
      "Original Test Score: 0.2791\n"
     ]
    }
   ],
   "source": [
    "ridge = Ridge(alpha=100)\n",
    "ridge.fit(X_reduced_train, y_train)\n",
    "ridge_train = ridge.score(X_reduced_train, y_train)\n",
    "ridge_test = ridge.score(X_reduced_test, y_test)\n",
    "print(\"PCA Train Score:\",ridge_train)\n",
    "print(\"PCA Test Score:\",ridge_test)\n",
    "print(\n",
    "'\\nOriginal Train Score: 0.5712\\n'\n",
    "'Original Test Score: 0.2791'\n",
    ")"
   ]
  },
  {
   "cell_type": "markdown",
   "metadata": {},
   "source": [
    "### Lasso Regressor"
   ]
  },
  {
   "cell_type": "code",
   "execution_count": 66,
   "metadata": {},
   "outputs": [
    {
     "name": "stdout",
     "output_type": "stream",
     "text": [
      "Best parameters: {'alpha': 10, 'max_iter': 10000}\n"
     ]
    },
    {
     "name": "stderr",
     "output_type": "stream",
     "text": [
      "c:\\users\\navarurh\\appdata\\local\\programs\\python\\python36\\lib\\site-packages\\sklearn\\model_selection\\_search.py:841: DeprecationWarning: The default of the `iid` parameter will change from True to False in version 0.22 and will be removed in 0.24. This will change numeric results when test-set sizes are unequal.\n",
      "  DeprecationWarning)\n"
     ]
    }
   ],
   "source": [
    "from sklearn.linear_model import Lasso\n",
    "param_grid = {'alpha': [0.01, 0.1, 1, 10, 100], 'max_iter':[10000]}\n",
    "grid_lasso = GridSearchCV(Lasso(), param_grid, cv=5, return_train_score=True)\n",
    "grid_lasso.fit(X_reduced_train, y_train)\n",
    "print(\"Best parameters: {}\".format(grid_lasso.best_params_))"
   ]
  },
  {
   "cell_type": "code",
   "execution_count": 67,
   "metadata": {},
   "outputs": [
    {
     "name": "stdout",
     "output_type": "stream",
     "text": [
      "PCA Train Score: 0.42588771775716305\n",
      "PCA Test Score: 0.10054176833979755\n",
      "\n",
      "Original Train Score: 0.7569\n",
      "Original Test Score: 0.3404\n"
     ]
    }
   ],
   "source": [
    "lasso_train=grid_lasso.score(X_reduced_train, y_train)\n",
    "lasso_test=grid_lasso.score(X_reduced_test, y_test)\n",
    "print(\"PCA Train Score:\",lasso_train)\n",
    "print(\"PCA Test Score:\",lasso_test)\n",
    "print(\n",
    "'\\nOriginal Train Score: 0.7569\\n'\n",
    "'Original Test Score: 0.3404'\n",
    ")"
   ]
  },
  {
   "cell_type": "markdown",
   "metadata": {},
   "source": [
    "### Linear SVM Regressor"
   ]
  },
  {
   "cell_type": "code",
   "execution_count": 68,
   "metadata": {},
   "outputs": [
    {
     "name": "stdout",
     "output_type": "stream",
     "text": [
      "Best parameters: {'C': 0.1, 'epsilon': 1}\n"
     ]
    },
    {
     "name": "stderr",
     "output_type": "stream",
     "text": [
      "c:\\users\\navarurh\\appdata\\local\\programs\\python\\python36\\lib\\site-packages\\sklearn\\model_selection\\_search.py:841: DeprecationWarning: The default of the `iid` parameter will change from True to False in version 0.22 and will be removed in 0.24. This will change numeric results when test-set sizes are unequal.\n",
      "  DeprecationWarning)\n"
     ]
    }
   ],
   "source": [
    "from sklearn.model_selection import cross_val_score\n",
    "from sklearn.model_selection import GridSearchCV\n",
    "from sklearn.svm import LinearSVR\n",
    "param_grid = {'C':[0.1, 1, 10], 'epsilon': [0.1, 1, 10]}\n",
    "grid_linsvm = GridSearchCV(LinearSVR(), param_grid, cv=5, return_train_score=True)\n",
    "grid_linsvm.fit(X_reduced_train, y_train)\n",
    "print(\"Best parameters: {}\".format(grid_linsvm.best_params_))"
   ]
  },
  {
   "cell_type": "code",
   "execution_count": 69,
   "metadata": {},
   "outputs": [
    {
     "name": "stdout",
     "output_type": "stream",
     "text": [
      "PCA Train Score: 0.6105224965804668\n",
      "PCA Test Score: 0.2473656558825994\n"
     ]
    }
   ],
   "source": [
    "linsvr_train = grid_linsvm.score(X_reduced_train, y_train)\n",
    "linsvr_test = grid_linsvm.score(X_reduced_test, y_test)\n",
    "\n",
    "print(\"PCA Train Score:\",linsvr_train)\n",
    "print(\"PCA Test Score:\",linsvr_test)"
   ]
  },
  {
   "cell_type": "markdown",
   "metadata": {},
   "source": [
    "### Kernelized-SVM RBF Regressor"
   ]
  },
  {
   "cell_type": "code",
   "execution_count": 71,
   "metadata": {},
   "outputs": [
    {
     "name": "stdout",
     "output_type": "stream",
     "text": [
      "PCA Train Score:0.1673\n",
      "PCA Test Score:0.0285\n"
     ]
    }
   ],
   "source": [
    "from sklearn.svm import SVR\n",
    "svr_rbf_pca = SVR(kernel='rbf',C=10,gamma=0.01)\n",
    "svr_rbf_pca.fit(x_train_pca,y_train_reg)\n",
    "print(\"PCA Train Score:%.4f\"%svr_rbf_pca.score(x_train_pca,y_train_reg))\n",
    "print(\"PCA Test Score:%.4f\"%svr_rbf_pca.score(x_test_pca,y_test_reg))"
   ]
  },
  {
   "cell_type": "markdown",
   "metadata": {},
   "source": [
    "### Kernelized-SVM Poly Regressor"
   ]
  },
  {
   "cell_type": "code",
   "execution_count": 73,
   "metadata": {},
   "outputs": [
    {
     "name": "stdout",
     "output_type": "stream",
     "text": [
      "PCA Train Score:0.4414\n",
      "PCA Test Score:0.2866\n"
     ]
    }
   ],
   "source": [
    "from sklearn.svm import SVR\n",
    "svr_poly_pca = SVR(kernel='poly',C=1,gamma=1)\n",
    "svr_poly_pca.fit(x_train_pca,y_train_reg)\n",
    "print(\"PCA Train Score:%.4f\"%svr_poly_pca.score(x_train_pca,y_train_reg))\n",
    "print(\"PCA Test Score:%.4f\"%svr_poly_pca.score(x_test_pca,y_test_reg))"
   ]
  },
  {
   "cell_type": "markdown",
   "metadata": {},
   "source": [
    "### Kernelized-SVM Linear Regressor"
   ]
  },
  {
   "cell_type": "code",
   "execution_count": 74,
   "metadata": {},
   "outputs": [
    {
     "name": "stdout",
     "output_type": "stream",
     "text": [
      "PCA Train Score:0.4414\n",
      "PCA Test Score:0.2866\n"
     ]
    }
   ],
   "source": [
    "from sklearn.svm import SVR\n",
    "svr_linear_pca = SVR(kernel='linear',C=10,gamma=0.0001)\n",
    "svr_linear_pca.fit(x_train_pca,y_train_reg)\n",
    "print(\"PCA Train Score:%.4f\"%svr_poly_pca.score(x_train_pca,y_train_reg))\n",
    "print(\"PCA Test Score:%.4f\"%svr_poly_pca.score(x_test_pca,y_test_reg))"
   ]
  },
  {
   "cell_type": "markdown",
   "metadata": {},
   "source": [
    "### Polynomial Regression"
   ]
  },
  {
   "cell_type": "code",
   "execution_count": 75,
   "metadata": {},
   "outputs": [],
   "source": [
    "from  sklearn.preprocessing  import PolynomialFeatures\n",
    "param_grid = {'degree': [1, 2, 3]}\n",
    "poly = PolynomialFeatures(2)\n",
    "X_train_poly = poly.fit_transform(X_reduced_train)\n",
    "X_test_poly = poly.transform(X_reduced_test)\n",
    "from sklearn.linear_model import LinearRegression\n",
    "model = LinearRegression()\n",
    "poly_reg = model.fit(X_train_poly, y_train)\n",
    "poly_train=model.score(X_train_poly, y_train)\n",
    "poly_test=model.score(X_test_poly, y_test)"
   ]
  },
  {
   "cell_type": "code",
   "execution_count": 76,
   "metadata": {},
   "outputs": [
    {
     "name": "stdout",
     "output_type": "stream",
     "text": [
      "PCA Train Score: 0.7533187449529662\n",
      "PCA Test Score: 0.25371798133984214\n",
      "\n",
      "\n",
      "Original Scores List\n",
      "[0.7788807458845337, 0.9999972687635662]\n",
      "[0.4314018618196952, 0.9999998727289102]\n"
     ]
    }
   ],
   "source": [
    "print(\"PCA Train Score:\",ridge_train)\n",
    "print(\"PCA Test Score:\",ridge_test)\n",
    "\n",
    "print('\\n\\nOriginal Scores List')\n",
    "print(\n",
    "'[0.7788807458845337, 0.9999972687635662]\\n'\n",
    "'[0.4314018618196952, 0.9999998727289102]'\n",
    ")"
   ]
  },
  {
   "cell_type": "markdown",
   "metadata": {},
   "source": [
    "## Mini Report for PCA vs Non-PCA regression"
   ]
  },
  {
   "cell_type": "code",
   "execution_count": 77,
   "metadata": {},
   "outputs": [
    {
     "data": {
      "text/html": [
       "<div>\n",
       "<style scoped>\n",
       "    .dataframe tbody tr th:only-of-type {\n",
       "        vertical-align: middle;\n",
       "    }\n",
       "\n",
       "    .dataframe tbody tr th {\n",
       "        vertical-align: top;\n",
       "    }\n",
       "\n",
       "    .dataframe thead th {\n",
       "        text-align: right;\n",
       "    }\n",
       "</style>\n",
       "<table border=\"1\" class=\"dataframe\">\n",
       "  <thead>\n",
       "    <tr style=\"text-align: right;\">\n",
       "      <th></th>\n",
       "      <th>Model Name</th>\n",
       "      <th>PCA Train accuracy</th>\n",
       "      <th>PCATest accuracy</th>\n",
       "      <th>Without PCA Train accuracy</th>\n",
       "      <th>Without PCA Test accuracy</th>\n",
       "    </tr>\n",
       "  </thead>\n",
       "  <tbody>\n",
       "    <tr>\n",
       "      <th>0</th>\n",
       "      <td>Linear Regression</td>\n",
       "      <td>0.768351</td>\n",
       "      <td>0.432720</td>\n",
       "      <td>0.7789</td>\n",
       "      <td>0.4314</td>\n",
       "    </tr>\n",
       "    <tr>\n",
       "      <th>1</th>\n",
       "      <td>Polynomial Regression</td>\n",
       "      <td>0.997662</td>\n",
       "      <td>0.906999</td>\n",
       "      <td>0.9999</td>\n",
       "      <td>0.9999</td>\n",
       "    </tr>\n",
       "    <tr>\n",
       "      <th>2</th>\n",
       "      <td>Ridge Regression</td>\n",
       "      <td>0.753319</td>\n",
       "      <td>0.253718</td>\n",
       "      <td>0.5712</td>\n",
       "      <td>0.2791</td>\n",
       "    </tr>\n",
       "    <tr>\n",
       "      <th>3</th>\n",
       "      <td>Lasso</td>\n",
       "      <td>0.425888</td>\n",
       "      <td>0.100542</td>\n",
       "      <td>0.7569</td>\n",
       "      <td>0.3404</td>\n",
       "    </tr>\n",
       "    <tr>\n",
       "      <th>4</th>\n",
       "      <td>KNN Regressor</td>\n",
       "      <td>1.000000</td>\n",
       "      <td>0.138118</td>\n",
       "      <td>0.832</td>\n",
       "      <td>0.1597</td>\n",
       "    </tr>\n",
       "    <tr>\n",
       "      <th>5</th>\n",
       "      <td>Linear SVM</td>\n",
       "      <td>0.610522</td>\n",
       "      <td>0.247366</td>\n",
       "      <td>0.5802</td>\n",
       "      <td>0.3925</td>\n",
       "    </tr>\n",
       "  </tbody>\n",
       "</table>\n",
       "</div>"
      ],
      "text/plain": [
       "              Model Name  PCA Train accuracy   PCATest accuracy  \\\n",
       "0      Linear Regression            0.768351           0.432720   \n",
       "1  Polynomial Regression            0.997662           0.906999   \n",
       "2       Ridge Regression            0.753319           0.253718   \n",
       "3                  Lasso            0.425888           0.100542   \n",
       "4          KNN Regressor            1.000000           0.138118   \n",
       "5             Linear SVM            0.610522           0.247366   \n",
       "\n",
       "  Without PCA Train accuracy Without PCA Test accuracy  \n",
       "0                     0.7789                    0.4314  \n",
       "1                     0.9999                    0.9999  \n",
       "2                     0.5712                    0.2791  \n",
       "3                     0.7569                    0.3404  \n",
       "4                      0.832                    0.1597  \n",
       "5                     0.5802                    0.3925  "
      ]
     },
     "execution_count": 77,
     "metadata": {},
     "output_type": "execute_result"
    }
   ],
   "source": [
    "report_table = [['Linear Regression', lin_train,lin_test,'0.7789','0.4314']]\n",
    "report_table = report_table + [['Polynomial Regression',poly_train, poly_test,'0.9999','0.9999']]\n",
    "report_table = report_table + [['Ridge Regression',ridge_train, ridge_test,'0.5712','0.2791']]\n",
    "report_table = report_table + [['Lasso',lasso_train, lasso_test,'0.7569','0.3404']]\n",
    "report_table = report_table + [['KNN Regressor',knn_train, knn_test,'0.832','0.1597']]\n",
    "report_table = report_table + [['Linear SVM', linsvr_train, linsvr_test,'0.5802','0.3925']]\n",
    "report_regression = pd.DataFrame(report_table,columns = ['Model Name', 'PCA Train accuracy', ' PCATest accuracy', 'Without PCA Train accuracy', 'Without PCA Test accuracy'])\n",
    "\n",
    "report_regression"
   ]
  },
  {
   "cell_type": "markdown",
   "metadata": {},
   "source": [
    "## Deep Learning"
   ]
  },
  {
   "cell_type": "code",
   "execution_count": 78,
   "metadata": {},
   "outputs": [
    {
     "name": "stdout",
     "output_type": "stream",
     "text": [
      "Epoch 1/50\n",
      "581/581 [==============================] - 0s 243us/sample - loss: 5.4821 - mean_absolute_error: 5.4821\n",
      "Epoch 2/50\n",
      "581/581 [==============================] - 0s 7us/sample - loss: 5.4810 - mean_absolute_error: 5.4810\n",
      "Epoch 3/50\n",
      "581/581 [==============================] - 0s 5us/sample - loss: 5.4800 - mean_absolute_error: 5.4800\n",
      "Epoch 4/50\n",
      "581/581 [==============================] - 0s 9us/sample - loss: 5.4790 - mean_absolute_error: 5.4790\n",
      "Epoch 5/50\n",
      "581/581 [==============================] - 0s 7us/sample - loss: 5.4778 - mean_absolute_error: 5.4778\n",
      "Epoch 6/50\n",
      "581/581 [==============================] - 0s 5us/sample - loss: 5.4765 - mean_absolute_error: 5.4765\n",
      "Epoch 7/50\n",
      "581/581 [==============================] - 0s 7us/sample - loss: 5.4750 - mean_absolute_error: 5.4750\n",
      "Epoch 8/50\n",
      "581/581 [==============================] - 0s 7us/sample - loss: 5.4733 - mean_absolute_error: 5.4733\n",
      "Epoch 9/50\n",
      "581/581 [==============================] - 0s 7us/sample - loss: 5.4715 - mean_absolute_error: 5.4715\n",
      "Epoch 10/50\n",
      "581/581 [==============================] - 0s 9us/sample - loss: 5.4694 - mean_absolute_error: 5.4694\n",
      "Epoch 11/50\n",
      "581/581 [==============================] - 0s 9us/sample - loss: 5.4670 - mean_absolute_error: 5.4670\n",
      "Epoch 12/50\n",
      "581/581 [==============================] - 0s 7us/sample - loss: 5.4643 - mean_absolute_error: 5.4643\n",
      "Epoch 13/50\n",
      "581/581 [==============================] - 0s 7us/sample - loss: 5.4615 - mean_absolute_error: 5.4615\n",
      "Epoch 14/50\n",
      "581/581 [==============================] - 0s 7us/sample - loss: 5.4581 - mean_absolute_error: 5.4581\n",
      "Epoch 15/50\n",
      "581/581 [==============================] - 0s 7us/sample - loss: 5.4547 - mean_absolute_error: 5.4547\n",
      "Epoch 16/50\n",
      "581/581 [==============================] - 0s 9us/sample - loss: 5.4506 - mean_absolute_error: 5.4506\n",
      "Epoch 17/50\n",
      "581/581 [==============================] - 0s 9us/sample - loss: 5.4462 - mean_absolute_error: 5.4462\n",
      "Epoch 18/50\n",
      "581/581 [==============================] - 0s 9us/sample - loss: 5.4414 - mean_absolute_error: 5.4414\n",
      "Epoch 19/50\n",
      "581/581 [==============================] - 0s 9us/sample - loss: 5.4362 - mean_absolute_error: 5.4362\n",
      "Epoch 20/50\n",
      "581/581 [==============================] - 0s 9us/sample - loss: 5.4306 - mean_absolute_error: 5.4306\n",
      "Epoch 21/50\n",
      "581/581 [==============================] - 0s 9us/sample - loss: 5.4246 - mean_absolute_error: 5.4246\n",
      "Epoch 22/50\n",
      "581/581 [==============================] - 0s 7us/sample - loss: 5.4182 - mean_absolute_error: 5.4182\n",
      "Epoch 23/50\n",
      "581/581 [==============================] - 0s 9us/sample - loss: 5.4116 - mean_absolute_error: 5.4116\n",
      "Epoch 24/50\n",
      "581/581 [==============================] - 0s 9us/sample - loss: 5.4043 - mean_absolute_error: 5.4043\n",
      "Epoch 25/50\n",
      "581/581 [==============================] - 0s 7us/sample - loss: 5.3969 - mean_absolute_error: 5.3969\n",
      "Epoch 26/50\n",
      "581/581 [==============================] - 0s 7us/sample - loss: 5.3892 - mean_absolute_error: 5.3892\n",
      "Epoch 27/50\n",
      "581/581 [==============================] - 0s 7us/sample - loss: 5.3814 - mean_absolute_error: 5.3814\n",
      "Epoch 28/50\n",
      "581/581 [==============================] - 0s 9us/sample - loss: 5.3732 - mean_absolute_error: 5.3732\n",
      "Epoch 29/50\n",
      "581/581 [==============================] - 0s 10us/sample - loss: 5.3650 - mean_absolute_error: 5.3650\n",
      "Epoch 30/50\n",
      "581/581 [==============================] - 0s 7us/sample - loss: 5.3568 - mean_absolute_error: 5.3568\n",
      "Epoch 31/50\n",
      "581/581 [==============================] - 0s 9us/sample - loss: 5.3486 - mean_absolute_error: 5.3486\n",
      "Epoch 32/50\n",
      "581/581 [==============================] - 0s 7us/sample - loss: 5.3402 - mean_absolute_error: 5.3402\n",
      "Epoch 33/50\n",
      "581/581 [==============================] - 0s 7us/sample - loss: 5.3320 - mean_absolute_error: 5.3320\n",
      "Epoch 34/50\n",
      "581/581 [==============================] - 0s 9us/sample - loss: 5.3237 - mean_absolute_error: 5.3237\n",
      "Epoch 35/50\n",
      "581/581 [==============================] - 0s 10us/sample - loss: 5.3159 - mean_absolute_error: 5.3159\n",
      "Epoch 36/50\n",
      "581/581 [==============================] - 0s 7us/sample - loss: 5.3088 - mean_absolute_error: 5.3088\n",
      "Epoch 37/50\n",
      "581/581 [==============================] - 0s 9us/sample - loss: 5.3023 - mean_absolute_error: 5.3023\n",
      "Epoch 38/50\n",
      "581/581 [==============================] - 0s 7us/sample - loss: 5.2966 - mean_absolute_error: 5.2966\n",
      "Epoch 39/50\n",
      "581/581 [==============================] - 0s 7us/sample - loss: 5.2910 - mean_absolute_error: 5.2910\n",
      "Epoch 40/50\n",
      "581/581 [==============================] - 0s 7us/sample - loss: 5.2863 - mean_absolute_error: 5.2863\n",
      "Epoch 41/50\n",
      "581/581 [==============================] - 0s 9us/sample - loss: 5.2821 - mean_absolute_error: 5.2821\n",
      "Epoch 42/50\n",
      "581/581 [==============================] - 0s 9us/sample - loss: 5.2782 - mean_absolute_error: 5.2782\n",
      "Epoch 43/50\n",
      "581/581 [==============================] - 0s 9us/sample - loss: 5.2745 - mean_absolute_error: 5.2745\n",
      "Epoch 44/50\n",
      "581/581 [==============================] - 0s 9us/sample - loss: 5.2710 - mean_absolute_error: 5.2710\n",
      "Epoch 45/50\n",
      "581/581 [==============================] - 0s 9us/sample - loss: 5.2680 - mean_absolute_error: 5.2680\n",
      "Epoch 46/50\n",
      "581/581 [==============================] - 0s 9us/sample - loss: 5.2648 - mean_absolute_error: 5.2648\n",
      "Epoch 47/50\n",
      "581/581 [==============================] - 0s 9us/sample - loss: 5.2618 - mean_absolute_error: 5.2618\n",
      "Epoch 48/50\n",
      "581/581 [==============================] - 0s 9us/sample - loss: 5.2591 - mean_absolute_error: 5.2591\n",
      "Epoch 49/50\n",
      "581/581 [==============================] - 0s 9us/sample - loss: 5.2567 - mean_absolute_error: 5.2567\n",
      "Epoch 50/50\n",
      "581/581 [==============================] - 0s 7us/sample - loss: 5.2543 - mean_absolute_error: 5.2543\n"
     ]
    },
    {
     "data": {
      "text/plain": [
       "<tensorflow.python.keras.callbacks.History at 0x2094ec5fa58>"
      ]
     },
     "execution_count": 78,
     "metadata": {},
     "output_type": "execute_result"
    }
   ],
   "source": [
    "m1 = Sequential()\n",
    "m1.add(Dense(32,input_dim = 12 ,kernel_initializer='normal',activation = 'relu'))\n",
    "m1.add(Dense(16,input_dim = 12 ,kernel_initializer='normal',activation = 'relu'))\n",
    "m1.add(Dense(1, activation = 'sigmoid'))\n",
    "m1.compile(loss= 'mean_absolute_error' , optimizer = 'adam',metrics = ['mean_absolute_error'] )\n",
    "m1.fit(x_train_reg, y_train_reg, epochs = 50, batch_size = 300)"
   ]
  },
  {
   "cell_type": "code",
   "execution_count": 79,
   "metadata": {},
   "outputs": [
    {
     "name": "stdout",
     "output_type": "stream",
     "text": [
      "581/581 [==============================] - 0s 125us/sample - loss: 5.2527 - mean_absolute_error: 5.2527\n",
      "[5.252727670226368, 5.252727]\n",
      "194/194 [==============================] - 0s 31us/sample - loss: 10.6798 - mean_absolute_error: 10.6798\n",
      "[10.679806712669196, 10.679807]\n"
     ]
    }
   ],
   "source": [
    "print(m1.evaluate(x_train_reg, y_train_reg))\n",
    "print(m1.evaluate(x_test_reg, y_test_reg))"
   ]
  },
  {
   "cell_type": "code",
   "execution_count": 80,
   "metadata": {},
   "outputs": [
    {
     "name": "stdout",
     "output_type": "stream",
     "text": [
      "WARNING:tensorflow:From c:\\users\\navarurh\\appdata\\local\\programs\\python\\python36\\lib\\site-packages\\tensorflow\\python\\keras\\utils\\losses_utils.py:170: to_float (from tensorflow.python.ops.math_ops) is deprecated and will be removed in a future version.\n",
      "Instructions for updating:\n",
      "Use tf.cast instead.\n",
      "Epoch 1/30\n",
      "581/581 [==============================] - 0s 306us/sample - loss: 309.1669 - acc: 0.0000e+00\n",
      "Epoch 2/30\n",
      "581/581 [==============================] - 0s 10us/sample - loss: 308.9829 - acc: 0.0000e+00\n",
      "Epoch 3/30\n",
      "581/581 [==============================] - 0s 14us/sample - loss: 308.7866 - acc: 0.0000e+00\n",
      "Epoch 4/30\n",
      "581/581 [==============================] - 0s 12us/sample - loss: 308.6162 - acc: 0.0000e+00\n",
      "Epoch 5/30\n",
      "581/581 [==============================] - 0s 14us/sample - loss: 308.4347 - acc: 0.0000e+00\n",
      "Epoch 6/30\n",
      "581/581 [==============================] - 0s 14us/sample - loss: 308.2564 - acc: 0.0000e+00\n",
      "Epoch 7/30\n",
      "581/581 [==============================] - 0s 15us/sample - loss: 308.0400 - acc: 0.0000e+00\n",
      "Epoch 8/30\n",
      "581/581 [==============================] - 0s 14us/sample - loss: 307.8368 - acc: 0.0000e+00\n",
      "Epoch 9/30\n",
      "581/581 [==============================] - 0s 12us/sample - loss: 307.6230 - acc: 0.0000e+00\n",
      "Epoch 10/30\n",
      "581/581 [==============================] - 0s 10us/sample - loss: 307.4089 - acc: 0.0000e+00\n",
      "Epoch 11/30\n",
      "581/581 [==============================] - 0s 14us/sample - loss: 307.1754 - acc: 0.0000e+00\n",
      "Epoch 12/30\n",
      "581/581 [==============================] - 0s 12us/sample - loss: 306.9497 - acc: 0.0000e+00\n",
      "Epoch 13/30\n",
      "581/581 [==============================] - 0s 14us/sample - loss: 306.7133 - acc: 0.0000e+00\n",
      "Epoch 14/30\n",
      "581/581 [==============================] - 0s 12us/sample - loss: 306.4962 - acc: 0.0000e+00\n",
      "Epoch 15/30\n",
      "581/581 [==============================] - 0s 10us/sample - loss: 306.2604 - acc: 0.0000e+00\n",
      "Epoch 16/30\n",
      "581/581 [==============================] - 0s 12us/sample - loss: 306.0568 - acc: 0.0000e+00\n",
      "Epoch 17/30\n",
      "581/581 [==============================] - 0s 17us/sample - loss: 305.8565 - acc: 0.0000e+00\n",
      "Epoch 18/30\n",
      "581/581 [==============================] - 0s 14us/sample - loss: 305.6669 - acc: 0.0000e+00\n",
      "Epoch 19/30\n",
      "581/581 [==============================] - 0s 14us/sample - loss: 305.4945 - acc: 0.0000e+00\n",
      "Epoch 20/30\n",
      "581/581 [==============================] - 0s 15us/sample - loss: 305.3387 - acc: 0.0000e+00\n",
      "Epoch 21/30\n",
      "581/581 [==============================] - 0s 12us/sample - loss: 305.1977 - acc: 0.0000e+00\n",
      "Epoch 22/30\n",
      "581/581 [==============================] - 0s 17us/sample - loss: 305.0868 - acc: 0.0000e+00\n",
      "Epoch 23/30\n",
      "581/581 [==============================] - 0s 17us/sample - loss: 304.9847 - acc: 0.0000e+00\n",
      "Epoch 24/30\n",
      "581/581 [==============================] - 0s 14us/sample - loss: 304.9025 - acc: 0.0000e+00\n",
      "Epoch 25/30\n",
      "581/581 [==============================] - 0s 14us/sample - loss: 304.8283 - acc: 0.0000e+00\n",
      "Epoch 26/30\n",
      "581/581 [==============================] - 0s 14us/sample - loss: 304.7620 - acc: 0.0000e+00\n",
      "Epoch 27/30\n",
      "581/581 [==============================] - 0s 14us/sample - loss: 304.7093 - acc: 0.0000e+00\n",
      "Epoch 28/30\n",
      "581/581 [==============================] - 0s 15us/sample - loss: 304.6635 - acc: 0.0000e+00\n",
      "Epoch 29/30\n",
      "581/581 [==============================] - 0s 14us/sample - loss: 304.6242 - acc: 0.0000e+00\n",
      "Epoch 30/30\n",
      "581/581 [==============================] - 0s 15us/sample - loss: 304.5925 - acc: 0.0000e+00\n"
     ]
    },
    {
     "data": {
      "text/plain": [
       "<tensorflow.python.keras.callbacks.History at 0x2095032f1d0>"
      ]
     },
     "execution_count": 80,
     "metadata": {},
     "output_type": "execute_result"
    }
   ],
   "source": [
    "m2 = Sequential()\n",
    "m2.add(Dense(20, input_dim = 12, activation = 'relu'))\n",
    "m2.add(Dense(10, activation = 'relu'))\n",
    "m2.add(Dense(5, activation = 'relu'))\n",
    "m2.add(Dense(1, activation = 'sigmoid'))\n",
    "m2.compile(loss= 'mean_squared_error' , optimizer = 'adam',metrics = ['accuracy'] )\n",
    "m2.fit(x_train_reg, y_train_reg, epochs = 30, batch_size = 150)"
   ]
  },
  {
   "cell_type": "code",
   "execution_count": 81,
   "metadata": {},
   "outputs": [
    {
     "name": "stdout",
     "output_type": "stream",
     "text": [
      "581/581 [==============================] - 0s 156us/sample - loss: 304.5720 - acc: 0.0000e+00\n",
      "[304.57199509664986, 0.0]\n",
      "194/194 [==============================] - 0s 36us/sample - loss: 5213.7120 - acc: 0.0000e+00\n",
      "[5213.711988257071, 0.0]\n"
     ]
    }
   ],
   "source": [
    "print(m2.evaluate(x_train_reg, y_train_reg))\n",
    "print(m2.evaluate(x_test_reg, y_test_reg))"
   ]
  }
 ],
 "metadata": {
  "kernelspec": {
   "display_name": "Python 3",
   "language": "python",
   "name": "python3"
  },
  "language_info": {
   "codemirror_mode": {
    "name": "ipython",
    "version": 3
   },
   "file_extension": ".py",
   "mimetype": "text/x-python",
   "name": "python",
   "nbconvert_exporter": "python",
   "pygments_lexer": "ipython3",
   "version": "3.6.6"
  }
 },
 "nbformat": 4,
 "nbformat_minor": 2
}
