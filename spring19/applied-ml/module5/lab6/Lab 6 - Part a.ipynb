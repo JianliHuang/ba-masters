{
 "cells": [
  {
   "cell_type": "markdown",
   "metadata": {},
   "source": [
    "### Lab Tasks\n",
    "- In the dataframe creates in Lab 2 - Part a set ``Salary`` as the target value. \n",
    "- The rest of the columns are considered as X, feature set. \n",
    "- Use ``train_test_split`` to split the dataset into train and test dataset. set ``random_state = 0``.\n",
    "- Use ``MinMaxScaler`` to scale feature set X. \n",
    "\n",
    "### Data Preprocessing"
   ]
  },
  {
   "cell_type": "code",
   "execution_count": 1,
   "metadata": {},
   "outputs": [],
   "source": [
    "import pandas as pd\n",
    "data = pd.read_csv('adult.csv')"
   ]
  },
  {
   "cell_type": "code",
   "execution_count": 2,
   "metadata": {},
   "outputs": [],
   "source": [
    "data = data[data != ' ?']"
   ]
  },
  {
   "cell_type": "code",
   "execution_count": 3,
   "metadata": {},
   "outputs": [],
   "source": [
    "l = ['workclass', 'education', 'occupation', 'native-country']\n",
    "data.drop(l, axis = 1, inplace = True)"
   ]
  },
  {
   "cell_type": "code",
   "execution_count": 4,
   "metadata": {},
   "outputs": [],
   "source": [
    "df = pd.get_dummies(data['marital-status'])\n",
    "data = pd.concat([data, df], axis = 1)\n",
    "data.drop('marital-status', axis = 1, inplace=True)"
   ]
  },
  {
   "cell_type": "code",
   "execution_count": 5,
   "metadata": {},
   "outputs": [],
   "source": [
    "df = pd.get_dummies(data['relationship'])\n",
    "data = pd.concat([data, df], axis = 1)\n",
    "data.drop('relationship', axis = 1, inplace=True)"
   ]
  },
  {
   "cell_type": "code",
   "execution_count": 6,
   "metadata": {},
   "outputs": [],
   "source": [
    "df = pd.get_dummies(data['race'])\n",
    "data = pd.concat([data, df], axis = 1)\n",
    "data.drop('race', axis = 1, inplace=True)"
   ]
  },
  {
   "cell_type": "code",
   "execution_count": 7,
   "metadata": {},
   "outputs": [
    {
     "data": {
      "text/plain": [
       "Index(['age', 'fnlwgt', 'education-num', 'sex', 'capital-gain', 'capital-loss',\n",
       "       'hours-per-week', 'Salary', ' Divorced', ' Married-AF-spouse',\n",
       "       ' Married-civ-spouse', ' Married-spouse-absent', ' Never-married',\n",
       "       ' Separated', ' Widowed', ' Husband', ' Not-in-family',\n",
       "       ' Other-relative', ' Own-child', ' Unmarried', ' Wife',\n",
       "       ' Amer-Indian-Eskimo', ' Asian-Pac-Islander', ' Black', ' Other',\n",
       "       ' White'],\n",
       "      dtype='object')"
      ]
     },
     "execution_count": 7,
     "metadata": {},
     "output_type": "execute_result"
    }
   ],
   "source": [
    "data.columns"
   ]
  },
  {
   "cell_type": "code",
   "execution_count": 7,
   "metadata": {},
   "outputs": [],
   "source": [
    "data['sex'] = data['sex'].map({' Male':0, ' Female':1})"
   ]
  },
  {
   "cell_type": "code",
   "execution_count": 8,
   "metadata": {},
   "outputs": [],
   "source": [
    "data['Salary'] = data['Salary'].map({' <=50K':0, ' >50K':1})"
   ]
  },
  {
   "cell_type": "markdown",
   "metadata": {},
   "source": [
    "#### Question 1\n",
    "First train the following models on X_train and y_train. \n",
    "- Linear support vector machine with default parameters. \n",
    "- decision tree with ``max_depth = 3``\n",
    "- K neighbors classifier with ``n_neighbors = 5``.\n",
    "\n",
    "In the all above models, set ``random_sate = 0``.\n",
    "Compute the test precision score of hard-voting classifier? (two significant digits)"
   ]
  },
  {
   "cell_type": "markdown",
   "metadata": {},
   "source": [
    "#### Question 2\n",
    "First train the following models on X_train and y_train. \n",
    "- Support vector machine with kernel 'rbf' and default parameters. \n",
    "- Decision tree with ``max_depth = 3``\n",
    "- Logistic regression with default parameters.\n",
    "\n",
    "In the all above models, set ``random_sate = 0``.\n",
    "Compute the test recall score of soft-voting classifier? (two significant digits)"
   ]
  },
  {
   "cell_type": "markdown",
   "metadata": {},
   "source": [
    "#### Question 3\n",
    "Train a bagging classifier on base model logistic regression with default parameters. Set the hyper-parameter as follow: \n",
    "```Python\n",
    "n_estimators = 100\n",
    "max_samples = 500\n",
    "max_features = 5\n",
    "random_state = 0```\n",
    "What is out of bag score? (two significant digits)"
   ]
  },
  {
   "cell_type": "markdown",
   "metadata": {},
   "source": [
    "#### Question 4\n",
    "Use a grid search to find the best parameters of a random forest machine learning model on this dataset. \n",
    "```Python \n",
    "max_depth in [1, 3, 5, 7]\n",
    "max_features in [5, 7, 9]\n",
    "n_estimators in [100, 200, 500]\n",
    "random_state = 0\n",
    "cv = 5```\n",
    "\n",
    "What are the best parameters of the model? "
   ]
  },
  {
   "cell_type": "markdown",
   "metadata": {},
   "source": [
    "#### Question 5\n",
    "Train a random forest machine learning model on this dataset using the best parameters in the previous question. \n",
    "\n",
    "Which feature has the highest importance? "
   ]
  }
 ],
 "metadata": {
  "kernelspec": {
   "display_name": "Python 3",
   "language": "python",
   "name": "python3"
  },
  "language_info": {
   "codemirror_mode": {
    "name": "ipython",
    "version": 3
   },
   "file_extension": ".py",
   "mimetype": "text/x-python",
   "name": "python",
   "nbconvert_exporter": "python",
   "pygments_lexer": "ipython3",
   "version": "3.5.4"
  }
 },
 "nbformat": 4,
 "nbformat_minor": 2
}
