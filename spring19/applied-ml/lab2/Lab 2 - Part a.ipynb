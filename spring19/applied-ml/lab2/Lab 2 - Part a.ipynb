{
 "cells": [
  {
   "cell_type": "markdown",
   "metadata": {},
   "source": [
    "### Lab Description\n",
    "In this lab, you will prepare your dataset for Machine Learning models. Go back to Lab 1 - Part a, if any of the answers were wrong, find out why and try to fix your code. We will continue on the same dataset. Tasks you should perform are as follow: \n",
    "- data imputation\n",
    "- data transformation\n",
    "\n",
    "### Lab Tasks\n",
    "- Replace each of the below columns with a numerical column in this dataset. \n",
    "- Drop the following columns form the dataset: \n",
    "```Python\n",
    "['workclass', 'education', 'occupation', 'native-country']```\n",
    "\n",
    "### Lab Questions\n",
    "1. What would be a meaningful data transformation for column ``education``?\n",
    "2. What would be a meaningful data transformation for column ``marital-status``?\n",
    "3. What would be a meaningful data transformation for column ``relationship``?\n",
    "4. What would be a meaningful data transformation for column ``race``?\n",
    "5. What would be a meaningful data transformation for column ``sex``?\n",
    "6. What would be a meaningful data transformation for column ``Salary``?\n",
    "7. What is the shape of the dataset after applying all the above tasks? "
   ]
  },
  {
   "cell_type": "code",
   "execution_count": null,
   "metadata": {},
   "outputs": [],
   "source": []
  }
 ],
 "metadata": {
  "kernelspec": {
   "display_name": "Python 3",
   "language": "python",
   "name": "python3"
  },
  "language_info": {
   "codemirror_mode": {
    "name": "ipython",
    "version": 3
   },
   "file_extension": ".py",
   "mimetype": "text/x-python",
   "name": "python",
   "nbconvert_exporter": "python",
   "pygments_lexer": "ipython3",
   "version": "3.5.4"
  }
 },
 "nbformat": 4,
 "nbformat_minor": 2
}
