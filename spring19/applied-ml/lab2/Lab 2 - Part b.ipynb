{
 "cells": [
  {
   "cell_type": "markdown",
   "metadata": {},
   "source": [
    "### Lab Description\n",
    "In this lab, you will prepare your dataset for Machine Learning models. Go back to **Lab 1 - Part b**, if any of the answers were wrong, find out why then fix your code. We will continue on the same dataset. Tasks you should perform are as follow: \n",
    "\n",
    "- data imputation\n",
    "- data transformation\n",
    "\n",
    "### Lab Tasks\n",
    "- group by vehicles by cylinders. Replace missing values in each column by the median of available values in that column grouped by cylinders. \n",
    "\n",
    "### Lab Questions\n",
    "1. Consider column ``horsepower``. The vehicle with how many cylinders are experiencing missing values in column ``horsepower``?\n",
    "2. How many unique car names are in this dataset? \n",
    "3. After handling the above two scenarios, which columns need further data transformation? "
   ]
  }
 ],
 "metadata": {
  "kernelspec": {
   "display_name": "Python 3",
   "language": "python",
   "name": "python3"
  },
  "language_info": {
   "codemirror_mode": {
    "name": "ipython",
    "version": 3
   },
   "file_extension": ".py",
   "mimetype": "text/x-python",
   "name": "python",
   "nbconvert_exporter": "python",
   "pygments_lexer": "ipython3",
   "version": "3.5.4"
  }
 },
 "nbformat": 4,
 "nbformat_minor": 2
}
