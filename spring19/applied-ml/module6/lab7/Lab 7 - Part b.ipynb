{
 "cells": [
  {
   "cell_type": "markdown",
   "metadata": {},
   "source": [
    "### Lab Tasks\n",
    "- Use the following data prepration steps. \n",
    "- Use ``train_test_split`` to split the dataset into train and test dataset. set ``random_state = 0``.\n",
    "- Use ``StandardScaler`` to scale feature set X. \n",
    "- In this lab use ``random_state = 0`` whenever is aplicable. \n",
    "\n",
    "### Data prepration"
   ]
  },
  {
   "cell_type": "code",
   "execution_count": 1,
   "metadata": {},
   "outputs": [],
   "source": [
    "import pandas as pd\n",
    "import numpy as np"
   ]
  },
  {
   "cell_type": "code",
   "execution_count": 2,
   "metadata": {},
   "outputs": [],
   "source": [
    "data = pd.read_csv('auto.csv')"
   ]
  },
  {
   "cell_type": "code",
   "execution_count": 3,
   "metadata": {},
   "outputs": [],
   "source": [
    "data = data[data != '?']"
   ]
  },
  {
   "cell_type": "code",
   "execution_count": 4,
   "metadata": {},
   "outputs": [],
   "source": [
    "data['horsepower'] = data['horsepower'].astype(float)\n",
    "df = data[['cylinders', 'horsepower']]\n",
    "g = df.groupby('cylinders').median()"
   ]
  },
  {
   "cell_type": "code",
   "execution_count": 5,
   "metadata": {},
   "outputs": [],
   "source": [
    "data_imputed = df.apply(lambda grp: grp.fillna(grp.median()))"
   ]
  },
  {
   "cell_type": "code",
   "execution_count": 6,
   "metadata": {},
   "outputs": [],
   "source": [
    "data['horsepower'] = data_imputed['horsepower'].astype(float)\n",
    "data.drop(['car name'], axis = 1, inplace = True)"
   ]
  },
  {
   "cell_type": "code",
   "execution_count": 7,
   "metadata": {},
   "outputs": [],
   "source": [
    "y = data['mpg']\n",
    "X = data.drop(['mpg'], axis = 1)"
   ]
  },
  {
   "cell_type": "markdown",
   "metadata": {},
   "source": [
    "#### Question 1\n",
    "Use the ``LocallyLinearEmbedding`` to reduce the dimensionality of this dataset to 4 (``random_state = 0``). Train a polynomial regression of degree 2 on the reduced dataset. What is the test score of this model? (2 significant digits)"
   ]
  },
  {
   "cell_type": "markdown",
   "metadata": {},
   "source": [
    "#### Question 2\n",
    "Use the ``LocallyLinearEmbedding`` to reduce the dimensionality of this dataset to 4 (``random_state = 0``). Train a support vector machine with kernel ``poly`` on the reduced dataset with the following parameters: \n",
    "```Python\n",
    "gamma = 0.1 \n",
    "C = 1\n",
    "epsilon=0.5\n",
    "```\n",
    "What is the mean squared error of the reduced train set? "
   ]
  }
 ],
 "metadata": {
  "kernelspec": {
   "display_name": "Python 3",
   "language": "python",
   "name": "python3"
  },
  "language_info": {
   "codemirror_mode": {
    "name": "ipython",
    "version": 3
   },
   "file_extension": ".py",
   "mimetype": "text/x-python",
   "name": "python",
   "nbconvert_exporter": "python",
   "pygments_lexer": "ipython3",
   "version": "3.5.4"
  }
 },
 "nbformat": 4,
 "nbformat_minor": 2
}
